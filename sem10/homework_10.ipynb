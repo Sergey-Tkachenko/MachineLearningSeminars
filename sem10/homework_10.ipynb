{
 "cells": [
  {
   "cell_type": "code",
   "execution_count": 1,
   "id": "suitable-divorce",
   "metadata": {
    "slideshow": {
     "slide_type": "skip"
    }
   },
   "outputs": [],
   "source": [
    "import warnings\n",
    "warnings.filterwarnings(\"ignore\")"
   ]
  },
  {
   "cell_type": "markdown",
   "id": "correct-anger",
   "metadata": {
    "id": "s3qWY0M5LA6r",
    "slideshow": {
     "slide_type": "slide"
    }
   },
   "source": [
    "## Библиотеки"
   ]
  },
  {
   "cell_type": "code",
   "execution_count": 2,
   "id": "chubby-nigeria",
   "metadata": {
    "slideshow": {
     "slide_type": "subslide"
    }
   },
   "outputs": [],
   "source": [
    "import matplotlib.pyplot as plt\n",
    "from matplotlib.image import imread\n",
    "from mpl_toolkits import mplot3d\n",
    "from matplotlib import gridspec\n",
    "from copy import deepcopy\n",
    "from mlxtend.plotting import plot_decision_regions\n",
    "import seaborn as sns\n",
    "import pandas as pd\n",
    "from tqdm.notebook import tqdm\n",
    "from scipy.special import softmax\n",
    "from scipy.spatial.distance import cdist\n",
    "import numpy as np\n",
    "from sklearn import tree\n",
    "import itertools\n",
    "from sklearn.tree import DecisionTreeClassifier, DecisionTreeRegressor\n",
    "from sklearn.ensemble import RandomForestClassifier\n",
    "from sklearn.preprocessing import StandardScaler\n",
    "from sklearn.svm import SVC, SVR\n",
    "from sklearn.linear_model import LogisticRegression\n",
    "from sklearn.metrics import classification_report, roc_auc_score, roc_curve\n",
    "from sklearn.metrics import auc\n",
    "from sklearn.model_selection import KFold, ParameterGrid\n",
    "from sklearn.datasets import make_classification, load_wine, load_boston\n",
    "from sklearn.model_selection import train_test_split\n",
    "from sklearn.decomposition import PCA\n",
    "from torchvision import datasets\n",
    "import pyfpgrowth\n",
    "from torchvision import transforms"
   ]
  },
  {
   "cell_type": "markdown",
   "id": "sharp-blame",
   "metadata": {},
   "source": [
    "# Домашнее задание\n",
    "\n",
    "Рассматривается две выборки: [\n",
    "Shill Bidding Dataset Data Set](https://archive.ics.uci.edu/ml/datasets/Shill+Bidding+Dataset) и [Speaker Accent Recognition Data Set\n",
    "](https://archive.ics.uci.edu/ml/datasets/Speaker+Accent+Recognition). Для обоих выборок построить AdaBoost, GradientBoosting, RandomForest, Bagging. Сравнить качество на обоих выборках. Отличается ли результат? Почему?\n",
    "\n",
    "## 1. Shill Bidding Dataset\n",
    "\n",
    "**Количественный анализ**:\n",
    "- Количество объектов в выборке: 6321\n",
    "- Количество признаков: 11. Из них категориальных 2 (в том числе ID аукциона), остальные - вещественные;\n",
    "- Тип задачи - бинарная классификация."
   ]
  },
  {
   "cell_type": "code",
   "execution_count": 3,
   "id": "false-million",
   "metadata": {},
   "outputs": [
    {
     "name": "stdout",
     "output_type": "stream",
     "text": [
      "<class 'pandas.core.frame.DataFrame'>\n",
      "Int64Index: 6321 entries, 1 to 15144\n",
      "Data columns (total 12 columns):\n",
      "Auction_ID                6321 non-null int64\n",
      "Bidder_ID                 6321 non-null object\n",
      "Bidder_Tendency           6321 non-null float64\n",
      "Bidding_Ratio             6321 non-null float64\n",
      "Successive_Outbidding     6321 non-null float64\n",
      "Last_Bidding              6321 non-null float64\n",
      "Auction_Bids              6321 non-null float64\n",
      "Starting_Price_Average    6321 non-null float64\n",
      "Early_Bidding             6321 non-null float64\n",
      "Winning_Ratio             6321 non-null float64\n",
      "Auction_Duration          6321 non-null int64\n",
      "Class                     6321 non-null int64\n",
      "dtypes: float64(8), int64(3), object(1)\n",
      "memory usage: 642.0+ KB\n"
     ]
    }
   ],
   "source": [
    "raw_data = pd.read_csv(\"data/Shill Bidding Dataset.csv\", index_col='Record_ID')\n",
    "\n",
    "raw_data.info()"
   ]
  },
  {
   "cell_type": "code",
   "execution_count": 44,
   "id": "english-rover",
   "metadata": {},
   "outputs": [
    {
     "data": {
      "text/html": [
       "<div>\n",
       "<style scoped>\n",
       "    .dataframe tbody tr th:only-of-type {\n",
       "        vertical-align: middle;\n",
       "    }\n",
       "\n",
       "    .dataframe tbody tr th {\n",
       "        vertical-align: top;\n",
       "    }\n",
       "\n",
       "    .dataframe thead th {\n",
       "        text-align: right;\n",
       "    }\n",
       "</style>\n",
       "<table border=\"1\" class=\"dataframe\">\n",
       "  <thead>\n",
       "    <tr style=\"text-align: right;\">\n",
       "      <th></th>\n",
       "      <th>Auction_ID</th>\n",
       "      <th>Bidder_ID</th>\n",
       "      <th>Bidder_Tendency</th>\n",
       "      <th>Bidding_Ratio</th>\n",
       "      <th>Successive_Outbidding</th>\n",
       "      <th>Last_Bidding</th>\n",
       "      <th>Auction_Bids</th>\n",
       "      <th>Starting_Price_Average</th>\n",
       "      <th>Early_Bidding</th>\n",
       "      <th>Winning_Ratio</th>\n",
       "      <th>Auction_Duration</th>\n",
       "      <th>Class</th>\n",
       "    </tr>\n",
       "    <tr>\n",
       "      <th>Record_ID</th>\n",
       "      <th></th>\n",
       "      <th></th>\n",
       "      <th></th>\n",
       "      <th></th>\n",
       "      <th></th>\n",
       "      <th></th>\n",
       "      <th></th>\n",
       "      <th></th>\n",
       "      <th></th>\n",
       "      <th></th>\n",
       "      <th></th>\n",
       "      <th></th>\n",
       "    </tr>\n",
       "  </thead>\n",
       "  <tbody>\n",
       "    <tr>\n",
       "      <th>8540</th>\n",
       "      <td>1127</td>\n",
       "      <td>i***m</td>\n",
       "      <td>0.034483</td>\n",
       "      <td>0.047619</td>\n",
       "      <td>0.0</td>\n",
       "      <td>0.196472</td>\n",
       "      <td>0.142857</td>\n",
       "      <td>0.993593</td>\n",
       "      <td>0.196472</td>\n",
       "      <td>0.000000</td>\n",
       "      <td>5</td>\n",
       "      <td>0</td>\n",
       "    </tr>\n",
       "    <tr>\n",
       "      <th>14141</th>\n",
       "      <td>1404</td>\n",
       "      <td>9***1</td>\n",
       "      <td>0.111111</td>\n",
       "      <td>0.200000</td>\n",
       "      <td>0.0</td>\n",
       "      <td>0.010212</td>\n",
       "      <td>0.000000</td>\n",
       "      <td>0.000000</td>\n",
       "      <td>0.010212</td>\n",
       "      <td>0.333333</td>\n",
       "      <td>7</td>\n",
       "      <td>0</td>\n",
       "    </tr>\n",
       "    <tr>\n",
       "      <th>10947</th>\n",
       "      <td>2186</td>\n",
       "      <td>l***i</td>\n",
       "      <td>0.037500</td>\n",
       "      <td>0.272727</td>\n",
       "      <td>0.0</td>\n",
       "      <td>0.984079</td>\n",
       "      <td>0.000000</td>\n",
       "      <td>0.993593</td>\n",
       "      <td>0.946731</td>\n",
       "      <td>0.954545</td>\n",
       "      <td>5</td>\n",
       "      <td>0</td>\n",
       "    </tr>\n",
       "    <tr>\n",
       "      <th>2355</th>\n",
       "      <td>2212</td>\n",
       "      <td>2***a</td>\n",
       "      <td>0.045455</td>\n",
       "      <td>0.025641</td>\n",
       "      <td>0.0</td>\n",
       "      <td>0.005685</td>\n",
       "      <td>0.538462</td>\n",
       "      <td>0.993528</td>\n",
       "      <td>0.005685</td>\n",
       "      <td>0.000000</td>\n",
       "      <td>7</td>\n",
       "      <td>0</td>\n",
       "    </tr>\n",
       "    <tr>\n",
       "      <th>6963</th>\n",
       "      <td>1432</td>\n",
       "      <td>n***o</td>\n",
       "      <td>0.121951</td>\n",
       "      <td>0.333333</td>\n",
       "      <td>0.0</td>\n",
       "      <td>0.813340</td>\n",
       "      <td>0.000000</td>\n",
       "      <td>0.000000</td>\n",
       "      <td>0.811597</td>\n",
       "      <td>1.000000</td>\n",
       "      <td>7</td>\n",
       "      <td>0</td>\n",
       "    </tr>\n",
       "  </tbody>\n",
       "</table>\n",
       "</div>"
      ],
      "text/plain": [
       "           Auction_ID Bidder_ID  Bidder_Tendency  Bidding_Ratio  \\\n",
       "Record_ID                                                         \n",
       "8540             1127     i***m         0.034483       0.047619   \n",
       "14141            1404     9***1         0.111111       0.200000   \n",
       "10947            2186     l***i         0.037500       0.272727   \n",
       "2355             2212     2***a         0.045455       0.025641   \n",
       "6963             1432     n***o         0.121951       0.333333   \n",
       "\n",
       "           Successive_Outbidding  Last_Bidding  Auction_Bids  \\\n",
       "Record_ID                                                      \n",
       "8540                         0.0      0.196472      0.142857   \n",
       "14141                        0.0      0.010212      0.000000   \n",
       "10947                        0.0      0.984079      0.000000   \n",
       "2355                         0.0      0.005685      0.538462   \n",
       "6963                         0.0      0.813340      0.000000   \n",
       "\n",
       "           Starting_Price_Average  Early_Bidding  Winning_Ratio  \\\n",
       "Record_ID                                                         \n",
       "8540                     0.993593       0.196472       0.000000   \n",
       "14141                    0.000000       0.010212       0.333333   \n",
       "10947                    0.993593       0.946731       0.954545   \n",
       "2355                     0.993528       0.005685       0.000000   \n",
       "6963                     0.000000       0.811597       1.000000   \n",
       "\n",
       "           Auction_Duration  Class  \n",
       "Record_ID                           \n",
       "8540                      5      0  \n",
       "14141                     7      0  \n",
       "10947                     5      0  \n",
       "2355                      7      0  \n",
       "6963                      7      0  "
      ]
     },
     "execution_count": 44,
     "metadata": {},
     "output_type": "execute_result"
    }
   ],
   "source": [
    "raw_data.sample(5)"
   ]
  },
  {
   "cell_type": "code",
   "execution_count": 6,
   "id": "uniform-period",
   "metadata": {},
   "outputs": [
    {
     "data": {
      "text/plain": [
       "array([0, 1])"
      ]
     },
     "execution_count": 6,
     "metadata": {},
     "output_type": "execute_result"
    }
   ],
   "source": [
    "raw_data.Class.unique()"
   ]
  },
  {
   "cell_type": "code",
   "execution_count": 9,
   "id": "practical-mainland",
   "metadata": {},
   "outputs": [
    {
     "data": {
      "text/plain": [
       "(1054,)"
      ]
     },
     "execution_count": 9,
     "metadata": {},
     "output_type": "execute_result"
    }
   ],
   "source": [
    "raw_data.Bidder_ID.unique().shape"
   ]
  },
  {
   "cell_type": "code",
   "execution_count": 59,
   "id": "directed-architecture",
   "metadata": {},
   "outputs": [
    {
     "data": {
      "text/plain": [
       "<AxesSubplot:>"
      ]
     },
     "execution_count": 59,
     "metadata": {},
     "output_type": "execute_result"
    },
    {
     "data": {
      "image/png": "[encoded data removed]",
      "text/plain": [
       "<Figure size 1440x360 with 1 Axes>"
      ]
     },
     "metadata": {
      "needs_background": "light"
     },
     "output_type": "display_data"
    }
   ],
   "source": [
    "plt.figure(figsize=(20, 5))\n",
    "sns.violinplot(data=raw_data.loc[:, ['Bidder_Tendency', 'Bidding_Ratio', 'Successive_Outbidding', 'Last_Bidding', 'Auction_Bids', 'Starting_Price_Average', 'Early_Bidding', 'Winning_Ratio']])"
   ]
  },
  {
   "cell_type": "code",
   "execution_count": 35,
   "id": "complete-lambda",
   "metadata": {},
   "outputs": [
    {
     "data": {
      "text/plain": [
       "<AxesSubplot:>"
      ]
     },
     "execution_count": 35,
     "metadata": {},
     "output_type": "execute_result"
    },
    {
     "data": {
      "image/png": "[encoded data removed]",
      "text/plain": [
       "<Figure size 432x288 with 1 Axes>"
      ]
     },
     "metadata": {
      "needs_background": "light"
     },
     "output_type": "display_data"
    }
   ],
   "source": [
    "pd.value_counts(raw_data.Auction_Duration).plot(kind='bar')"
   ]
  },
  {
   "cell_type": "code",
   "execution_count": 29,
   "id": "neural-queens",
   "metadata": {},
   "outputs": [
    {
     "name": "stdout",
     "output_type": "stream",
     "text": [
      "% positive: 0.11\n"
     ]
    }
   ],
   "source": [
    "# Pecrenatge of shill acutions:\n",
    "\n",
    "print(f\"% pos.ipynb_checkpoints/tive: {np.round(np.mean(raw_data.Class), 2)}\")"
   ]
  },
  {
   "cell_type": "code",
   "execution_count": 46,
   "id": "three-insulin",
   "metadata": {},
   "outputs": [
    {
     "data": {
      "text/plain": [
       "<AxesSubplot:>"
      ]
     },
     "execution_count": 46,
     "metadata": {},
     "output_type": "execute_result"
    },
    {
     "data": {
      "image/png": "[encoded data removed]",
      "text/plain": [
       "<Figure size 432x288 with 2 Axes>"
      ]
     },
     "metadata": {
      "needs_background": "light"
     },
     "output_type": "display_data"
    }
   ],
   "source": [
    "sns.heatmap(raw_data.drop(columns=['Class', 'Bidder_ID' , \"Auction_ID\"]).corr())"
   ]
  },
  {
   "cell_type": "code",
   "execution_count": 61,
   "id": "sacred-depth",
   "metadata": {},
   "outputs": [
    {
     "data": {
      "text/plain": [
       "((1054,), (807,))"
      ]
     },
     "execution_count": 61,
     "metadata": {},
     "output_type": "execute_result"
    }
   ],
   "source": [
    "raw_data.Bidder_ID.unique().shape, raw_data.Auction_ID.unique().shape"
   ]
  },
  {
   "cell_type": "markdown",
   "id": "searching-webmaster",
   "metadata": {},
   "source": [
    "**Качественный анализ:**\n",
    "\n",
    "- Явная несбалансированность классов, примерно 9 нег:1 пол;\n",
    "- Есть корреляции, однако не всегда они относятся к мошенникам: например, видно, что Early Bidding сильно коррелирует с Last_Bidding;\n",
    "- В распределении почти всех признаков явно просматриваются отдельные группы объектов.\n",
    "\n",
    "### Модели\n",
    "\n",
    "Как уже было сказано, в выборке есть два категориальных признака: Bidder_ID и Auction_ID. Самый простой способ работы с ними - это применить one-hot encoding. Однако, количество уникальных значений для каждого из них порядка 1e3, что делает применение последнего метода затруднительным. Поэтому мы будем работать в предположении, что эти два признака нам не известны, а известны только параметры аукциона и статистика пользователя.\n",
    "\n",
    "В качестве метрики качества будем использовать F1 Macro, в силу наличия несбалансированности в классах."
   ]
  },
  {
   "cell_type": "code",
   "execution_count": 8,
   "id": "golden-mayor",
   "metadata": {},
   "outputs": [
    {
     "data": {
      "text/plain": [
       "((6321, 9), (6321,))"
      ]
     },
     "execution_count": 8,
     "metadata": {},
     "output_type": "execute_result"
    }
   ],
   "source": [
    "X = raw_data.drop(columns=['Bidder_ID', 'Auction_ID', 'Class'])\n",
    "y = raw_data.Class\n",
    "\n",
    "X_train, X_test, y_train, y_test = train_test_split(X, y)\n",
    "\n",
    "X.shape, y.shape"
   ]
  },
  {
   "cell_type": "code",
   "execution_count": 6,
   "id": "unlikely-protection",
   "metadata": {},
   "outputs": [],
   "source": [
    "# target metric\n",
    "from sklearn.metrics import f1_score, make_scorer\n",
    "from functools import partial\n",
    "\n",
    "\n",
    "target_metric = partial(f1_score, average='macro')\n",
    "target_scorer = make_scorer(f1_score, average='macro')"
   ]
  },
  {
   "cell_type": "markdown",
   "id": "premium-biology",
   "metadata": {},
   "source": [
    "#### 1.1 Ada Boost"
   ]
  },
  {
   "cell_type": "code",
   "execution_count": 4,
   "id": "external-theta",
   "metadata": {},
   "outputs": [],
   "source": [
    "# Ada boost\n",
    "from sklearn.ensemble import AdaBoostClassifier\n",
    "from sklearn.model_selection import ParameterGrid, GridSearchCV\n",
    "\n",
    "ada_param_grid = {\n",
    "    'base_estimator': [DecisionTreeClassifier(max_depth=i) for i in [1, 3, 5, 7]],\n",
    "    'n_estimators': [3, 10, 20]\n",
    "}"
   ]
  },
  {
   "cell_type": "code",
   "execution_count": 98,
   "id": "twelve-liechtenstein",
   "metadata": {},
   "outputs": [
    {
     "data": {
      "text/plain": [
       "GridSearchCV(estimator=AdaBoostClassifier(),\n",
       "             param_grid={'base_estimator': [DecisionTreeClassifier(max_depth=1),\n",
       "                                            DecisionTreeClassifier(max_depth=3),\n",
       "                                            DecisionTreeClassifier(max_depth=5),\n",
       "                                            DecisionTreeClassifier(max_depth=7)],\n",
       "                         'n_estimators': [3, 10, 20]},\n",
       "             scoring=make_scorer(f1_score, average=macro))"
      ]
     },
     "execution_count": 98,
     "metadata": {},
     "output_type": "execute_result"
    }
   ],
   "source": [
    "cv = GridSearchCV(estimator=AdaBoostClassifier(), param_grid=ada_param_grid, scoring=target_scorer)\n",
    "cv.fit(X_train, y_train)"
   ]
  },
  {
   "cell_type": "code",
   "execution_count": 99,
   "id": "reserved-marking",
   "metadata": {},
   "outputs": [
    {
     "data": {
      "text/plain": [
       "{'base_estimator': DecisionTreeClassifier(max_depth=3), 'n_estimators': 20}"
      ]
     },
     "execution_count": 99,
     "metadata": {},
     "output_type": "execute_result"
    }
   ],
   "source": [
    "cv.best_params_"
   ]
  },
  {
   "cell_type": "code",
   "execution_count": 101,
   "id": "solved-montreal",
   "metadata": {},
   "outputs": [
    {
     "name": "stdout",
     "output_type": "stream",
     "text": [
      "              precision    recall  f1-score   support\n",
      "\n",
      "           0       1.00      1.00      1.00      1400\n",
      "           1       0.98      0.97      0.97       181\n",
      "\n",
      "    accuracy                           0.99      1581\n",
      "   macro avg       0.99      0.98      0.99      1581\n",
      "weighted avg       0.99      0.99      0.99      1581\n",
      "\n",
      "Target metric:  0.9858597582971687\n"
     ]
    }
   ],
   "source": [
    "best_ada_1 = AdaBoostClassifier(base_estimator=DecisionTreeClassifier(max_depth=3), n_estimators=20)\n",
    "best_ada_1.fit(X_train, y_train)\n",
    "\n",
    "y_pred = best_ada_1.predict(X_test)\n",
    "print(classification_report(y_test, y_pred))\n",
    "print('Target metric: ', target_metric(y_test, y_pred))"
   ]
  },
  {
   "cell_type": "markdown",
   "id": "infrared-cattle",
   "metadata": {},
   "source": [
    "#### 1.2 Gradient Boosting"
   ]
  },
  {
   "cell_type": "code",
   "execution_count": 11,
   "id": "retired-radical",
   "metadata": {},
   "outputs": [
    {
     "data": {
      "text/plain": [
       "GridSearchCV(estimator=GradientBoostingClassifier(),\n",
       "             param_grid={'learning_rate': [0.01, 0.1, 1],\n",
       "                         'n_estimators': [10, 100, 200, 500]},\n",
       "             scoring=make_scorer(f1_score, average=macro))"
      ]
     },
     "execution_count": 11,
     "metadata": {},
     "output_type": "execute_result"
    }
   ],
   "source": [
    "from sklearn.ensemble import GradientBoostingClassifier\n",
    "\n",
    "gb_param_grid = {\n",
    "    'learning_rate': [0.01, 0.1, 1],\n",
    "    'n_estimators': [10, 100, 200, 500]\n",
    "}\n",
    "\n",
    "cv = GridSearchCV(GradientBoostingClassifier(), param_grid=gb_param_grid, scoring=target_scorer)\n",
    "cv.fit(X_train, y_train)"
   ]
  },
  {
   "cell_type": "code",
   "execution_count": 12,
   "id": "frank-karen",
   "metadata": {},
   "outputs": [
    {
     "data": {
      "text/plain": [
       "{'learning_rate': 0.1, 'n_estimators': 200}"
      ]
     },
     "execution_count": 12,
     "metadata": {},
     "output_type": "execute_result"
    }
   ],
   "source": [
    "cv.best_params_"
   ]
  },
  {
   "cell_type": "code",
   "execution_count": 13,
   "id": "executed-manitoba",
   "metadata": {},
   "outputs": [
    {
     "name": "stdout",
     "output_type": "stream",
     "text": [
      "              precision    recall  f1-score   support\n",
      "\n",
      "           0       1.00      1.00      1.00      1417\n",
      "           1       1.00      0.99      1.00       164\n",
      "\n",
      "    accuracy                           1.00      1581\n",
      "   macro avg       1.00      1.00      1.00      1581\n",
      "weighted avg       1.00      1.00      1.00      1581\n",
      "\n",
      "Target metric:  0.9982945811691989\n"
     ]
    }
   ],
   "source": [
    "best_gb = GradientBoostingClassifier(**cv.best_params_)\n",
    "best_gb.fit(X_train, y_train)\n",
    "\n",
    "y_pred = best_gb.predict(X_test)\n",
    "print(classification_report(y_test, y_pred))\n",
    "print('Target metric: ', target_metric(y_test, y_pred))"
   ]
  },
  {
   "cell_type": "markdown",
   "id": "latest-howard",
   "metadata": {},
   "source": [
    "#### 1.3 Random Forest"
   ]
  },
  {
   "cell_type": "code",
   "execution_count": 14,
   "id": "substantial-separation",
   "metadata": {},
   "outputs": [
    {
     "data": {
      "text/plain": [
       "GridSearchCV(estimator=RandomForestClassifier(),\n",
       "             param_grid={'max_depth': [7, 10, 15],\n",
       "                         'max_features': ['auto', 2, 5],\n",
       "                         'max_samples': [0.3, 0.5, 1],\n",
       "                         'n_estimators': [10, 50, 100, 200, 500]},\n",
       "             scoring=make_scorer(f1_score, average=macro))"
      ]
     },
     "execution_count": 14,
     "metadata": {},
     "output_type": "execute_result"
    }
   ],
   "source": [
    "from sklearn.ensemble import RandomForestClassifier\n",
    "\n",
    "rf_param_grid = {\n",
    "    'n_estimators': [10, 50, 100, 200, 500],\n",
    "    'max_depth': [7, 10, 15],\n",
    "    'max_features': ['auto', 2, 5],\n",
    "    'max_samples': [0.3, 0.5, 1]\n",
    "    \n",
    "}\n",
    "\n",
    "cv = GridSearchCV(RandomForestClassifier(), param_grid=rf_param_grid, scoring=target_scorer)\n",
    "cv.fit(X_train, y_train)"
   ]
  },
  {
   "cell_type": "code",
   "execution_count": 17,
   "id": "peripheral-saskatchewan",
   "metadata": {},
   "outputs": [
    {
     "data": {
      "text/plain": [
       "{'max_depth': 15, 'max_features': 5, 'max_samples': 0.5, 'n_estimators': 10}"
      ]
     },
     "execution_count": 17,
     "metadata": {},
     "output_type": "execute_result"
    }
   ],
   "source": [
    "cv.best_params_"
   ]
  },
  {
   "cell_type": "code",
   "execution_count": 15,
   "id": "chemical-commodity",
   "metadata": {},
   "outputs": [
    {
     "name": "stdout",
     "output_type": "stream",
     "text": [
      "              precision    recall  f1-score   support\n",
      "\n",
      "           0       1.00      1.00      1.00      1417\n",
      "           1       0.99      0.99      0.99       164\n",
      "\n",
      "    accuracy                           1.00      1581\n",
      "   macro avg       1.00      0.99      0.99      1581\n",
      "weighted avg       1.00      1.00      1.00      1581\n",
      "\n",
      "Target metric:  0.9948837435075968\n"
     ]
    }
   ],
   "source": [
    "best_rf = RandomForestClassifier(**cv.best_params_)\n",
    "best_rf.fit(X_train, y_train)\n",
    "y_pred = best_rf.predict(X_test)\n",
    "\n",
    "print(classification_report(y_test, y_pred))\n",
    "print('Target metric: ', target_metric(y_test, y_pred))"
   ]
  },
  {
   "cell_type": "markdown",
   "id": "exterior-emission",
   "metadata": {},
   "source": [
    "#### 1.4 Bagging\n",
    "Так так bagging является более общим подходом, то для определенности будем строить его над SVM с rbf ядрами."
   ]
  },
  {
   "cell_type": "code",
   "execution_count": 22,
   "id": "pharmaceutical-embassy",
   "metadata": {},
   "outputs": [
    {
     "name": "stdout",
     "output_type": "stream",
     "text": [
      "Fitting 5 folds for each of 48 candidates, totalling 240 fits\n"
     ]
    },
    {
     "name": "stderr",
     "output_type": "stream",
     "text": [
      "[Parallel(n_jobs=10)]: Using backend LokyBackend with 10 concurrent workers.\n",
      "[Parallel(n_jobs=10)]: Done  30 tasks      | elapsed:    2.5s\n",
      "[Parallel(n_jobs=10)]: Done 180 tasks      | elapsed:   11.9s\n",
      "[Parallel(n_jobs=10)]: Done 240 out of 240 | elapsed:   34.7s finished\n"
     ]
    },
    {
     "data": {
      "text/plain": [
       "{'base_estimator__C': 10,\n",
       " 'max_features': 0.5,\n",
       " 'max_samples': 0.5,\n",
       " 'n_estimators': 100}"
      ]
     },
     "execution_count": 22,
     "metadata": {},
     "output_type": "execute_result"
    }
   ],
   "source": [
    "from sklearn.ensemble import BaggingClassifier\n",
    "\n",
    "bagging_params = {\n",
    "    \"base_estimator__C\": [1e-2, 1, 10, 100],\n",
    "    \"n_estimators\": [10, 50, 100],\n",
    "    'max_features': [0.5, 1],\n",
    "    'max_samples': [0.5, 1]\n",
    "}\n",
    "\n",
    "cv = GridSearchCV(BaggingClassifier(base_estimator=SVC()), param_grid=bagging_params, verbose=1, n_jobs=10)\n",
    "cv.fit(X_train, y_train)\n",
    "cv.best_params_"
   ]
  },
  {
   "cell_type": "code",
   "execution_count": 29,
   "id": "deluxe-yugoslavia",
   "metadata": {},
   "outputs": [
    {
     "name": "stdout",
     "output_type": "stream",
     "text": [
      "              precision    recall  f1-score   support\n",
      "\n",
      "           0       0.97      1.00      0.98      1417\n",
      "           1       0.98      0.69      0.81       164\n",
      "\n",
      "    accuracy                           0.97      1581\n",
      "   macro avg       0.97      0.84      0.90      1581\n",
      "weighted avg       0.97      0.97      0.96      1581\n",
      "\n",
      "Target metric:  0.8958261070644005\n"
     ]
    }
   ],
   "source": [
    "best_bag = BaggingClassifier(base_estimator=SVC(C=cv.best_params_['base_estimator__C']),\n",
    "                             n_estimators=cv.best_params_['n_estimators'],\n",
    "                             max_features=cv.best_params_['max_features'],\n",
    "                             max_samples=cv.best_params_['max_samples'])\n",
    "best_bag.fit(X_train, y_train)\n",
    "\n",
    "y_pred = best_bag.predict(X_test)\n",
    "\n",
    "print(classification_report(y_test, y_pred))\n",
    "print('Target metric: ', target_metric(y_test, y_pred))"
   ]
  },
  {
   "cell_type": "markdown",
   "id": "single-designer",
   "metadata": {},
   "source": [
    "#### Итоги по 1-й выборке:\n",
    "1. В целом, все методы показали хорошее качество, что говорит о простоте выборки.\n",
    "2. Методы с деревьями в качестве базовой модели классификации в показали себя лучше, чем SVM с rbf ядром, что коррелирует с выводом 3 о данных - в распределении многих признаков пристуствуют отдельные группы объектов, которые удобно описывать пороговыми правилами, из которых и состоят наши деревья. \n",
    "3. Методы с деревьями показали почти одинаковое качество, f1-macro в районе 99 - 98 процентов. Лучше всех формально себя показал GB, чуть хуже (< 0.5% разницы) RF, и на 3-м месте AdaBoost, который уступил примерно 1%.\n",
    "4. Интересно, что у RF и Bagging оптимально число признаков в каждой ноде оказалось не sqrt(9) = 3, а 5."
   ]
  },
  {
   "cell_type": "markdown",
   "id": "equipped-heater",
   "metadata": {},
   "source": [
    "## 2. Speaker Accent Recognition Data Set "
   ]
  },
  {
   "cell_type": "code",
   "execution_count": 30,
   "id": "adjusted-release",
   "metadata": {},
   "outputs": [
    {
     "name": "stdout",
     "output_type": "stream",
     "text": [
      "<class 'pandas.core.frame.DataFrame'>\n",
      "RangeIndex: 329 entries, 0 to 328\n",
      "Data columns (total 13 columns):\n",
      "language    329 non-null object\n",
      "X1          329 non-null float64\n",
      "X2          329 non-null float64\n",
      "X3          329 non-null float64\n",
      "X4          329 non-null float64\n",
      "X5          329 non-null float64\n",
      "X6          329 non-null float64\n",
      "X7          329 non-null float64\n",
      "X8          329 non-null float64\n",
      "X9          329 non-null float64\n",
      "X10         329 non-null float64\n",
      "X11         329 non-null float64\n",
      "X12         329 non-null float64\n",
      "dtypes: float64(12), object(1)\n",
      "memory usage: 33.5+ KB\n"
     ]
    }
   ],
   "source": [
    "raw_data = pd.read_csv(\"data/accent-recognition-mfcc--1/accent-mfcc-data-1.csv\")\n",
    "\n",
    "raw_data.info()"
   ]
  },
  {
   "cell_type": "code",
   "execution_count": 31,
   "id": "emerging-communication",
   "metadata": {},
   "outputs": [
    {
     "data": {
      "text/html": [
       "<div>\n",
       "<style scoped>\n",
       "    .dataframe tbody tr th:only-of-type {\n",
       "        vertical-align: middle;\n",
       "    }\n",
       "\n",
       "    .dataframe tbody tr th {\n",
       "        vertical-align: top;\n",
       "    }\n",
       "\n",
       "    .dataframe thead th {\n",
       "        text-align: right;\n",
       "    }\n",
       "</style>\n",
       "<table border=\"1\" class=\"dataframe\">\n",
       "  <thead>\n",
       "    <tr style=\"text-align: right;\">\n",
       "      <th></th>\n",
       "      <th>language</th>\n",
       "      <th>X1</th>\n",
       "      <th>X2</th>\n",
       "      <th>X3</th>\n",
       "      <th>X4</th>\n",
       "      <th>X5</th>\n",
       "      <th>X6</th>\n",
       "      <th>X7</th>\n",
       "      <th>X8</th>\n",
       "      <th>X9</th>\n",
       "      <th>X10</th>\n",
       "      <th>X11</th>\n",
       "      <th>X12</th>\n",
       "    </tr>\n",
       "  </thead>\n",
       "  <tbody>\n",
       "    <tr>\n",
       "      <th>292</th>\n",
       "      <td>US</td>\n",
       "      <td>11.793239</td>\n",
       "      <td>-8.060648</td>\n",
       "      <td>6.419787</td>\n",
       "      <td>10.369218</td>\n",
       "      <td>-6.002190</td>\n",
       "      <td>16.562828</td>\n",
       "      <td>-6.995932</td>\n",
       "      <td>3.753902</td>\n",
       "      <td>-0.605434</td>\n",
       "      <td>-6.807129</td>\n",
       "      <td>-0.803056</td>\n",
       "      <td>-7.734699</td>\n",
       "    </tr>\n",
       "    <tr>\n",
       "      <th>83</th>\n",
       "      <td>GE</td>\n",
       "      <td>-2.020461</td>\n",
       "      <td>1.111298</td>\n",
       "      <td>-2.107064</td>\n",
       "      <td>6.896539</td>\n",
       "      <td>-3.377759</td>\n",
       "      <td>10.684334</td>\n",
       "      <td>-10.489573</td>\n",
       "      <td>5.184497</td>\n",
       "      <td>-2.244897</td>\n",
       "      <td>-1.704590</td>\n",
       "      <td>3.565678</td>\n",
       "      <td>-2.529994</td>\n",
       "    </tr>\n",
       "    <tr>\n",
       "      <th>110</th>\n",
       "      <td>IT</td>\n",
       "      <td>-1.591825</td>\n",
       "      <td>3.147059</td>\n",
       "      <td>-1.316761</td>\n",
       "      <td>8.479270</td>\n",
       "      <td>-3.232697</td>\n",
       "      <td>11.212137</td>\n",
       "      <td>-9.015926</td>\n",
       "      <td>6.194512</td>\n",
       "      <td>-2.031739</td>\n",
       "      <td>-0.370499</td>\n",
       "      <td>5.243465</td>\n",
       "      <td>-3.953737</td>\n",
       "    </tr>\n",
       "    <tr>\n",
       "      <th>218</th>\n",
       "      <td>US</td>\n",
       "      <td>14.114726</td>\n",
       "      <td>-13.164407</td>\n",
       "      <td>3.753059</td>\n",
       "      <td>8.166042</td>\n",
       "      <td>-9.810916</td>\n",
       "      <td>10.545165</td>\n",
       "      <td>-10.555922</td>\n",
       "      <td>1.620419</td>\n",
       "      <td>1.627120</td>\n",
       "      <td>-5.083871</td>\n",
       "      <td>4.808198</td>\n",
       "      <td>-6.742841</td>\n",
       "    </tr>\n",
       "    <tr>\n",
       "      <th>99</th>\n",
       "      <td>IT</td>\n",
       "      <td>-1.270663</td>\n",
       "      <td>-0.781674</td>\n",
       "      <td>1.673638</td>\n",
       "      <td>7.571520</td>\n",
       "      <td>-8.549877</td>\n",
       "      <td>8.174395</td>\n",
       "      <td>-10.893478</td>\n",
       "      <td>5.119630</td>\n",
       "      <td>-0.324351</td>\n",
       "      <td>-3.813392</td>\n",
       "      <td>-0.611499</td>\n",
       "      <td>-0.560210</td>\n",
       "    </tr>\n",
       "  </tbody>\n",
       "</table>\n",
       "</div>"
      ],
      "text/plain": [
       "    language         X1         X2        X3         X4        X5         X6  \\\n",
       "292       US  11.793239  -8.060648  6.419787  10.369218 -6.002190  16.562828   \n",
       "83        GE  -2.020461   1.111298 -2.107064   6.896539 -3.377759  10.684334   \n",
       "110       IT  -1.591825   3.147059 -1.316761   8.479270 -3.232697  11.212137   \n",
       "218       US  14.114726 -13.164407  3.753059   8.166042 -9.810916  10.545165   \n",
       "99        IT  -1.270663  -0.781674  1.673638   7.571520 -8.549877   8.174395   \n",
       "\n",
       "            X7        X8        X9       X10       X11       X12  \n",
       "292  -6.995932  3.753902 -0.605434 -6.807129 -0.803056 -7.734699  \n",
       "83  -10.489573  5.184497 -2.244897 -1.704590  3.565678 -2.529994  \n",
       "110  -9.015926  6.194512 -2.031739 -0.370499  5.243465 -3.953737  \n",
       "218 -10.555922  1.620419  1.627120 -5.083871  4.808198 -6.742841  \n",
       "99  -10.893478  5.119630 -0.324351 -3.813392 -0.611499 -0.560210  "
      ]
     },
     "execution_count": 31,
     "metadata": {},
     "output_type": "execute_result"
    }
   ],
   "source": [
    "raw_data.sample(5)"
   ]
  },
  {
   "cell_type": "code",
   "execution_count": 32,
   "id": "western-expansion",
   "metadata": {},
   "outputs": [
    {
     "data": {
      "text/plain": [
       "array(['ES', 'FR', 'GE', 'IT', 'UK', 'US'], dtype=object)"
      ]
     },
     "execution_count": 32,
     "metadata": {},
     "output_type": "execute_result"
    }
   ],
   "source": [
    "raw_data.language.unique()"
   ]
  },
  {
   "cell_type": "markdown",
   "id": "vulnerable-business",
   "metadata": {},
   "source": [
    "**Количественный анализ:**\n",
    "\n",
    "1. Число объектов - 329\n",
    "2. Число признаков - 12, все вещественные\n",
    "3. Число классов - 6\n",
    "4. Тип задачи машинного обучения - мультиклассовая классификация.\n",
    "\n",
    "Заранее отмечу, что в этой выборке значительно меньше объектов, чем в первой выборке, а признаков - больше."
   ]
  },
  {
   "cell_type": "code",
   "execution_count": 43,
   "id": "varied-minutes",
   "metadata": {},
   "outputs": [
    {
     "data": {
      "text/plain": [
       "<AxesSubplot:>"
      ]
     },
     "execution_count": 43,
     "metadata": {},
     "output_type": "execute_result"
    },
    {
     "data": {
      "image/png": "[encoded data removed]",
      "text/plain": [
       "<Figure size 1440x360 with 1 Axes>"
      ]
     },
     "metadata": {
      "needs_background": "light"
     },
     "output_type": "display_data"
    }
   ],
   "source": [
    "plt.figure(figsize=(20, 5))\n",
    "sns.violinplot(data=raw_data.drop(columns='language'))"
   ]
  },
  {
   "cell_type": "code",
   "execution_count": 44,
   "id": "micro-tulsa",
   "metadata": {},
   "outputs": [
    {
     "data": {
      "text/plain": [
       "<AxesSubplot:>"
      ]
     },
     "execution_count": 44,
     "metadata": {},
     "output_type": "execute_result"
    },
    {
     "data": {
      "image/png": "[encoded data removed]",
      "text/plain": [
       "<Figure size 432x288 with 2 Axes>"
      ]
     },
     "metadata": {
      "needs_background": "light"
     },
     "output_type": "display_data"
    }
   ],
   "source": [
    "sns.heatmap(raw_data.drop(columns='language').corr())"
   ]
  },
  {
   "cell_type": "code",
   "execution_count": 45,
   "id": "decent-rubber",
   "metadata": {},
   "outputs": [
    {
     "data": {
      "text/plain": [
       "<AxesSubplot:>"
      ]
     },
     "execution_count": 45,
     "metadata": {},
     "output_type": "execute_result"
    },
    {
     "data": {
      "image/png": "[encoded data removed]",
      "text/plain": [
       "<Figure size 432x288 with 1 Axes>"
      ]
     },
     "metadata": {
      "needs_background": "light"
     },
     "output_type": "display_data"
    }
   ],
   "source": [
    "pd.value_counts(raw_data.language).plot(kind='bar')"
   ]
  },
  {
   "cell_type": "markdown",
   "id": "clear-silly",
   "metadata": {},
   "source": [
    "**Качественный анализ**\n",
    "1. Распределения имеют в основном четко выраженный пик, реже - 2.\n",
    "2. Многие признаки имеют серьезные отрицательные корреляции между собой.\n",
    "3. Опять же, присутсвтует несбалансированность классов (судя по всему, в пользу жителей США).\n",
    "\n",
    "**Априорные предположения**\n",
    "1. В силу небольшого размера и нетривиальности, кажется, что все алгоритмы покажут качество хуже, чем на 1-й выборке.\n",
    "2. В силу опять же небольшого размера кажется, что bagging алгоритмы будут показывать себя лучше, чем boosting."
   ]
  },
  {
   "cell_type": "markdown",
   "id": "alternate-possibility",
   "metadata": {},
   "source": [
    "### Модели"
   ]
  },
  {
   "cell_type": "code",
   "execution_count": 47,
   "id": "changing-italian",
   "metadata": {},
   "outputs": [
    {
     "data": {
      "text/plain": [
       "((246, 12), (83, 12))"
      ]
     },
     "execution_count": 47,
     "metadata": {},
     "output_type": "execute_result"
    }
   ],
   "source": [
    "X_train, X_test, y_train, y_test = train_test_split(raw_data.drop(columns='language'), raw_data.language)\n",
    "\n",
    "X_train.shape, X_test.shape"
   ]
  },
  {
   "cell_type": "markdown",
   "id": "paperback-monday",
   "metadata": {},
   "source": [
    "#### 2.1 Ada Boost"
   ]
  },
  {
   "cell_type": "code",
   "execution_count": 74,
   "id": "victorian-interstate",
   "metadata": {},
   "outputs": [],
   "source": [
    "# Ada boost\n",
    "from sklearn.ensemble import AdaBoostClassifier\n",
    "from sklearn.model_selection import ParameterGrid, GridSearchCV\n",
    "\n",
    "ada_param_grid = {\n",
    "    'base_estimator': [DecisionTreeClassifier(max_depth=i) for i in [1, 3, 5, 7]],\n",
    "    'learning_rate': [1e-2, 1e-1, 1, 10],\n",
    "    'n_estimators': [3, 10, 20]\n",
    "}"
   ]
  },
  {
   "cell_type": "code",
   "execution_count": 75,
   "id": "bottom-laptop",
   "metadata": {},
   "outputs": [
    {
     "data": {
      "text/plain": [
       "GridSearchCV(estimator=AdaBoostClassifier(), n_jobs=10,\n",
       "             param_grid={'base_estimator': [DecisionTreeClassifier(max_depth=1),\n",
       "                                            DecisionTreeClassifier(max_depth=3),\n",
       "                                            DecisionTreeClassifier(max_depth=5),\n",
       "                                            DecisionTreeClassifier(max_depth=7)],\n",
       "                         'learning_rate': [0.01, 0.1, 1, 10],\n",
       "                         'n_estimators': [3, 10, 20]},\n",
       "             scoring=make_scorer(f1_score, average=macro))"
      ]
     },
     "execution_count": 75,
     "metadata": {},
     "output_type": "execute_result"
    }
   ],
   "source": [
    "cv = GridSearchCV(estimator=AdaBoostClassifier(), param_grid=ada_param_grid, scoring=target_scorer, n_jobs=10)\n",
    "cv.fit(X_train, y_train)"
   ]
  },
  {
   "cell_type": "code",
   "execution_count": 76,
   "id": "exceptional-chapel",
   "metadata": {},
   "outputs": [
    {
     "data": {
      "text/plain": [
       "{'base_estimator': DecisionTreeClassifier(max_depth=7),\n",
       " 'learning_rate': 0.1,\n",
       " 'n_estimators': 10}"
      ]
     },
     "execution_count": 76,
     "metadata": {},
     "output_type": "execute_result"
    }
   ],
   "source": [
    "cv.best_params_"
   ]
  },
  {
   "cell_type": "code",
   "execution_count": 77,
   "id": "champion-worry",
   "metadata": {},
   "outputs": [
    {
     "name": "stdout",
     "output_type": "stream",
     "text": [
      "              precision    recall  f1-score   support\n",
      "\n",
      "          ES       1.00      0.78      0.88         9\n",
      "          FR       0.40      0.29      0.33         7\n",
      "          GE       0.00      0.00      0.00         8\n",
      "          IT       0.67      0.22      0.33         9\n",
      "          UK       0.55      0.40      0.46        15\n",
      "          US       0.47      0.77      0.59        35\n",
      "\n",
      "    accuracy                           0.53        83\n",
      "   macro avg       0.51      0.41      0.43        83\n",
      "weighted avg       0.51      0.53      0.49        83\n",
      "\n",
      "Target metric:  0.4316936083240431\n"
     ]
    }
   ],
   "source": [
    "best_ada_1 = AdaBoostClassifier(base_estimator=DecisionTreeClassifier(max_depth=3), n_estimators=20)\n",
    "best_ada_1.fit(X_train, y_train)\n",
    "\n",
    "y_pred = best_ada_1.predict(X_test)\n",
    "print(classification_report(y_test, y_pred))\n",
    "print('Target metric: ', target_metric(y_test, y_pred))"
   ]
  },
  {
   "cell_type": "markdown",
   "id": "prime-porcelain",
   "metadata": {},
   "source": [
    "#### 2.2 Gradient Boosting"
   ]
  },
  {
   "cell_type": "code",
   "execution_count": 84,
   "id": "everyday-resident",
   "metadata": {},
   "outputs": [
    {
     "data": {
      "text/plain": [
       "GridSearchCV(estimator=GradientBoostingClassifier(), n_jobs=10,\n",
       "             param_grid={'learning_rate': [0.01, 0.1, 1],\n",
       "                         'max_depth': [1, 3, 5, 7],\n",
       "                         'n_estimators': [10, 100, 200, 300, 400]},\n",
       "             scoring=make_scorer(f1_score, average=macro))"
      ]
     },
     "execution_count": 84,
     "metadata": {},
     "output_type": "execute_result"
    }
   ],
   "source": [
    "from sklearn.ensemble import GradientBoostingClassifier\n",
    "\n",
    "gb_param_grid = {\n",
    "    'learning_rate': [0.01, 0.1, 1],\n",
    "    'n_estimators': [10, 100, 200, 300, 400],\n",
    "    'max_depth': [1, 3, 5, 7]\n",
    "}\n",
    "\n",
    "cv = GridSearchCV(GradientBoostingClassifier(), param_grid=gb_param_grid, scoring=target_scorer, n_jobs=10)\n",
    "cv.fit(X_train, y_train)"
   ]
  },
  {
   "cell_type": "code",
   "execution_count": 85,
   "id": "turkish-beads",
   "metadata": {},
   "outputs": [
    {
     "data": {
      "text/plain": [
       "{'learning_rate': 0.1, 'max_depth': 3, 'n_estimators': 400}"
      ]
     },
     "execution_count": 85,
     "metadata": {},
     "output_type": "execute_result"
    }
   ],
   "source": [
    "cv.best_params_"
   ]
  },
  {
   "cell_type": "code",
   "execution_count": 86,
   "id": "fixed-sleep",
   "metadata": {},
   "outputs": [
    {
     "name": "stdout",
     "output_type": "stream",
     "text": [
      "              precision    recall  f1-score   support\n",
      "\n",
      "          ES       1.00      0.67      0.80         9\n",
      "          FR       0.60      0.43      0.50         7\n",
      "          GE       0.80      0.50      0.62         8\n",
      "          IT       0.75      0.67      0.71         9\n",
      "          UK       0.73      0.73      0.73        15\n",
      "          US       0.68      0.86      0.76        35\n",
      "\n",
      "    accuracy                           0.72        83\n",
      "   macro avg       0.76      0.64      0.69        83\n",
      "weighted avg       0.74      0.72      0.72        83\n",
      "\n",
      "Target metric:  0.6856823287575335\n"
     ]
    }
   ],
   "source": [
    "best_gb = GradientBoostingClassifier(**cv.best_params_)\n",
    "best_gb.fit(X_train, y_train)\n",
    "\n",
    "y_pred = best_gb.predict(X_test)\n",
    "print(classification_report(y_test, y_pred))\n",
    "print('Target metric: ', target_metric(y_test, y_pred))"
   ]
  },
  {
   "cell_type": "markdown",
   "id": "sixth-pearl",
   "metadata": {},
   "source": [
    "#### 2.3 Random Forest"
   ]
  },
  {
   "cell_type": "code",
   "execution_count": 88,
   "id": "forced-hobby",
   "metadata": {},
   "outputs": [
    {
     "data": {
      "text/plain": [
       "GridSearchCV(estimator=RandomForestClassifier(), n_jobs=10,\n",
       "             param_grid={'max_depth': [10, 15, 17, 20],\n",
       "                         'max_features': ['auto', 2, 5, 7],\n",
       "                         'max_samples': [0.3, 0.5, 0.7],\n",
       "                         'n_estimators': [10, 50, 100, 200, 500, 700, 1000]},\n",
       "             scoring=make_scorer(f1_score, average=macro))"
      ]
     },
     "execution_count": 88,
     "metadata": {},
     "output_type": "execute_result"
    }
   ],
   "source": [
    "from sklearn.ensemble import RandomForestClassifier\n",
    "\n",
    "rf_param_grid = {\n",
    "    'n_estimators': [10, 50, 100, 200, 500, 700, 1000],\n",
    "    'max_depth': [10, 15, 17, 20],\n",
    "    'max_features': ['auto', 2, 5, 7],\n",
    "    'max_samples': [0.3, 0.5, 0.7]\n",
    "    \n",
    "}\n",
    "\n",
    "cv = GridSearchCV(RandomForestClassifier(), param_grid=rf_param_grid, scoring=target_scorer, n_jobs=10)\n",
    "cv.fit(X_train, y_train)"
   ]
  },
  {
   "cell_type": "code",
   "execution_count": 89,
   "id": "right-violin",
   "metadata": {},
   "outputs": [
    {
     "data": {
      "text/plain": [
       "{'max_depth': 15,\n",
       " 'max_features': 'auto',\n",
       " 'max_samples': 0.7,\n",
       " 'n_estimators': 700}"
      ]
     },
     "execution_count": 89,
     "metadata": {},
     "output_type": "execute_result"
    }
   ],
   "source": [
    "cv.best_params_"
   ]
  },
  {
   "cell_type": "code",
   "execution_count": 90,
   "id": "adjusted-headline",
   "metadata": {},
   "outputs": [
    {
     "name": "stdout",
     "output_type": "stream",
     "text": [
      "              precision    recall  f1-score   support\n",
      "\n",
      "          ES       1.00      0.67      0.80         9\n",
      "          FR       1.00      0.57      0.73         7\n",
      "          GE       0.71      0.62      0.67         8\n",
      "          IT       0.83      0.56      0.67         9\n",
      "          UK       0.91      0.67      0.77        15\n",
      "          US       0.69      0.97      0.81        35\n",
      "\n",
      "    accuracy                           0.77        83\n",
      "   macro avg       0.86      0.68      0.74        83\n",
      "weighted avg       0.81      0.77      0.77        83\n",
      "\n",
      "Target metric:  0.7398934398934398\n"
     ]
    }
   ],
   "source": [
    "best_rf = RandomForestClassifier(**cv.best_params_)\n",
    "best_rf.fit(X_train, y_train)\n",
    "y_pred = best_rf.predict(X_test)\n",
    "\n",
    "print(classification_report(y_test, y_pred))\n",
    "print('Target metric: ', target_metric(y_test, y_pred))"
   ]
  },
  {
   "cell_type": "markdown",
   "id": "abroad-buffer",
   "metadata": {},
   "source": [
    "#### 2.4 Bagging"
   ]
  },
  {
   "cell_type": "code",
   "execution_count": 91,
   "id": "integral-referral",
   "metadata": {},
   "outputs": [
    {
     "name": "stdout",
     "output_type": "stream",
     "text": [
      "Fitting 5 folds for each of 320 candidates, totalling 1600 fits\n"
     ]
    },
    {
     "name": "stderr",
     "output_type": "stream",
     "text": [
      "[Parallel(n_jobs=10)]: Using backend LokyBackend with 10 concurrent workers.\n",
      "[Parallel(n_jobs=10)]: Done  40 tasks      | elapsed:    2.3s\n",
      "[Parallel(n_jobs=10)]: Done 250 tasks      | elapsed:   11.7s\n",
      "[Parallel(n_jobs=10)]: Done 567 tasks      | elapsed:   30.2s\n",
      "[Parallel(n_jobs=10)]: Done 997 tasks      | elapsed:  1.1min\n",
      "[Parallel(n_jobs=10)]: Done 1510 tasks      | elapsed:  2.1min\n",
      "[Parallel(n_jobs=10)]: Done 1600 out of 1600 | elapsed:  3.9min finished\n"
     ]
    },
    {
     "data": {
      "text/plain": [
       "{'base_estimator__C': 1000.0,\n",
       " 'max_features': 0.5,\n",
       " 'max_samples': 0.7,\n",
       " 'n_estimators': 200}"
      ]
     },
     "execution_count": 91,
     "metadata": {},
     "output_type": "execute_result"
    }
   ],
   "source": [
    "from sklearn.ensemble import BaggingClassifier\n",
    "\n",
    "bagging_params = {\n",
    "    \"base_estimator__C\": [100, 200, 500, 1e3, 5e3],\n",
    "    \"n_estimators\": [50,100, 200, 500],\n",
    "    'max_features': [0.3, 0.5, 0.7, 1],\n",
    "    'max_samples': [0.3, 0.5, 0.7, 1]\n",
    "}\n",
    "\n",
    "cv = GridSearchCV(BaggingClassifier(base_estimator=SVC()), param_grid=bagging_params, verbose=1, n_jobs=10)\n",
    "cv.fit(X_train, y_train)\n",
    "cv.best_params_"
   ]
  },
  {
   "cell_type": "code",
   "execution_count": 92,
   "id": "alert-tender",
   "metadata": {},
   "outputs": [
    {
     "name": "stdout",
     "output_type": "stream",
     "text": [
      "              precision    recall  f1-score   support\n",
      "\n",
      "          ES       1.00      0.78      0.88         9\n",
      "          FR       0.80      0.57      0.67         7\n",
      "          GE       0.56      0.62      0.59         8\n",
      "          IT       0.75      0.67      0.71         9\n",
      "          UK       0.82      0.60      0.69        15\n",
      "          US       0.74      0.91      0.82        35\n",
      "\n",
      "    accuracy                           0.76        83\n",
      "   macro avg       0.78      0.69      0.72        83\n",
      "weighted avg       0.77      0.76      0.76        83\n",
      "\n",
      "Target metric:  0.7247674710910005\n"
     ]
    }
   ],
   "source": [
    "best_bag = BaggingClassifier(base_estimator=SVC(C=cv.best_params_['base_estimator__C']),\n",
    "                             n_estimators=cv.best_params_['n_estimators'],\n",
    "                             max_features=cv.best_params_['max_features'],\n",
    "                             max_samples=cv.best_params_['max_samples'])\n",
    "best_bag.fit(X_train, y_train)\n",
    "\n",
    "y_pred = best_bag.predict(X_test)\n",
    "\n",
    "print(classification_report(y_test, y_pred))\n",
    "print('Target metric: ', target_metric(y_test, y_pred))"
   ]
  },
  {
   "cell_type": "markdown",
   "id": "representative-basis",
   "metadata": {},
   "source": [
    "**Итоги по 2-й выборке**\n",
    "1. Как и предполагалось изначально, 2-я выборка заметно более сложная, и качество у всех алгоритмов оказалось сильно хуже, чем на 1-й.\n",
    "2. Также оказалось, что Bagging алгоритмы на этой выборке показали ощутимо лучшее (~5%) качество, чем GB, и сильно превзошел AdaBoost. \n",
    "3. Лучше всех себя показал RF, от него лишь на 1.5% отстал Bagging над SVM.\n",
    "\n",
    "\n",
    "# Выводы\n",
    "1. Boosting неплохо себя показывает на больших выборках, Bagging же способен учиться и на малых.\n",
    "2. Bagging чуствителен к выбору базового алгоритма, достаточно сравнить RF и Bagging над SVM на выборке 1.\n",
    "3. RF достаточно универсальная модель, которая успешно справляется с выборками как большого, так и малого размера."
   ]
  }
 ],
 "metadata": {
  "kernelspec": {
   "display_name": "Python 3",
   "language": "python",
   "name": "python3"
  },
  "language_info": {
   "codemirror_mode": {
    "name": "ipython",
    "version": 3
   },
   "file_extension": ".py",
   "mimetype": "text/x-python",
   "name": "python",
   "nbconvert_exporter": "python",
   "pygments_lexer": "ipython3",
   "version": "3.8.5"
  }
 },
 "nbformat": 4,
 "nbformat_minor": 5
}
