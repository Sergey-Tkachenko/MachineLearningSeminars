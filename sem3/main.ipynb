{
  "nbformat": 4,
  "nbformat_minor": 0,
  "metadata": {
    "accelerator": "GPU",
    "celltoolbar": "Slideshow",
    "colab": {
      "name": "main.ipynb",
      "provenance": [],
      "collapsed_sections": []
    },
    "kernelspec": {
      "display_name": "Python 3",
      "language": "python",
      "name": "python3"
    },
    "language_info": {
      "codemirror_mode": {
        "name": "ipython",
        "version": 3
      },
      "file_extension": ".py",
      "mimetype": "text/x-python",
      "name": "python",
      "nbconvert_exporter": "python",
      "pygments_lexer": "ipython3",
      "version": "3.7.3"
    },
    "widgets": {
      "application/vnd.jupyter.widget-state+json": {
        "197062a6cbf44413bb0eaae2ab47623c": {
          "model_module": "@jupyter-widgets/controls",
          "model_name": "HBoxModel",
          "model_module_version": "1.5.0",
          "state": {
            "_dom_classes": [],
            "_model_module": "@jupyter-widgets/controls",
            "_model_module_version": "1.5.0",
            "_model_name": "HBoxModel",
            "_view_count": null,
            "_view_module": "@jupyter-widgets/controls",
            "_view_module_version": "1.5.0",
            "_view_name": "HBoxView",
            "box_style": "",
            "children": [
              "IPY_MODEL_8ea955ef7b9f46aeb7d3d4bf3a784b12",
              "IPY_MODEL_cd65e46296cc4dfaa389a66f9be7634f"
            ],
            "layout": "IPY_MODEL_e63d71e887ef4c2594774d70a590d23c"
          }
        },
        "e63d71e887ef4c2594774d70a590d23c": {
          "model_module": "@jupyter-widgets/base",
          "model_name": "LayoutModel",
          "model_module_version": "1.2.0",
          "state": {
            "_model_module": "@jupyter-widgets/base",
            "_model_module_version": "1.2.0",
            "_model_name": "LayoutModel",
            "_view_count": null,
            "_view_module": "@jupyter-widgets/base",
            "_view_module_version": "1.2.0",
            "_view_name": "LayoutView",
            "align_content": null,
            "align_items": null,
            "align_self": null,
            "border": null,
            "bottom": null,
            "display": null,
            "flex": null,
            "flex_flow": null,
            "grid_area": null,
            "grid_auto_columns": null,
            "grid_auto_flow": null,
            "grid_auto_rows": null,
            "grid_column": null,
            "grid_gap": null,
            "grid_row": null,
            "grid_template_areas": null,
            "grid_template_columns": null,
            "grid_template_rows": null,
            "height": null,
            "justify_content": null,
            "justify_items": null,
            "left": null,
            "margin": null,
            "max_height": null,
            "max_width": null,
            "min_height": null,
            "min_width": null,
            "object_fit": null,
            "object_position": null,
            "order": null,
            "overflow": null,
            "overflow_x": null,
            "overflow_y": null,
            "padding": null,
            "right": null,
            "top": null,
            "visibility": null,
            "width": null
          }
        },
        "8ea955ef7b9f46aeb7d3d4bf3a784b12": {
          "model_module": "@jupyter-widgets/controls",
          "model_name": "FloatProgressModel",
          "model_module_version": "1.5.0",
          "state": {
            "_dom_classes": [],
            "_model_module": "@jupyter-widgets/controls",
            "_model_module_version": "1.5.0",
            "_model_name": "FloatProgressModel",
            "_view_count": null,
            "_view_module": "@jupyter-widgets/controls",
            "_view_module_version": "1.5.0",
            "_view_name": "ProgressView",
            "bar_style": "",
            "description": "100%",
            "description_tooltip": null,
            "layout": "IPY_MODEL_e812bfb32d5443228a135f5af3893f30",
            "max": 157,
            "min": 0,
            "orientation": "horizontal",
            "style": "IPY_MODEL_527bcc0925d7449aaa3bec75d0f5972a",
            "value": 157
          }
        },
        "cd65e46296cc4dfaa389a66f9be7634f": {
          "model_module": "@jupyter-widgets/controls",
          "model_name": "HTMLModel",
          "model_module_version": "1.5.0",
          "state": {
            "_dom_classes": [],
            "_model_module": "@jupyter-widgets/controls",
            "_model_module_version": "1.5.0",
            "_model_name": "HTMLModel",
            "_view_count": null,
            "_view_module": "@jupyter-widgets/controls",
            "_view_module_version": "1.5.0",
            "_view_name": "HTMLView",
            "description": "",
            "description_tooltip": null,
            "layout": "IPY_MODEL_daa9e6e83252466aadb6e9e3f8cd15a1",
            "placeholder": "​",
            "style": "IPY_MODEL_e3862186bdc242f7bc5d6698cde7a86c",
            "value": " 157/157 [00:01&lt;00:00, 92.51it/s]"
          }
        },
        "527bcc0925d7449aaa3bec75d0f5972a": {
          "model_module": "@jupyter-widgets/controls",
          "model_name": "ProgressStyleModel",
          "model_module_version": "1.5.0",
          "state": {
            "_model_module": "@jupyter-widgets/controls",
            "_model_module_version": "1.5.0",
            "_model_name": "ProgressStyleModel",
            "_view_count": null,
            "_view_module": "@jupyter-widgets/base",
            "_view_module_version": "1.2.0",
            "_view_name": "StyleView",
            "bar_color": null,
            "description_width": "initial"
          }
        },
        "e812bfb32d5443228a135f5af3893f30": {
          "model_module": "@jupyter-widgets/base",
          "model_name": "LayoutModel",
          "model_module_version": "1.2.0",
          "state": {
            "_model_module": "@jupyter-widgets/base",
            "_model_module_version": "1.2.0",
            "_model_name": "LayoutModel",
            "_view_count": null,
            "_view_module": "@jupyter-widgets/base",
            "_view_module_version": "1.2.0",
            "_view_name": "LayoutView",
            "align_content": null,
            "align_items": null,
            "align_self": null,
            "border": null,
            "bottom": null,
            "display": null,
            "flex": null,
            "flex_flow": null,
            "grid_area": null,
            "grid_auto_columns": null,
            "grid_auto_flow": null,
            "grid_auto_rows": null,
            "grid_column": null,
            "grid_gap": null,
            "grid_row": null,
            "grid_template_areas": null,
            "grid_template_columns": null,
            "grid_template_rows": null,
            "height": null,
            "justify_content": null,
            "justify_items": null,
            "left": null,
            "margin": null,
            "max_height": null,
            "max_width": null,
            "min_height": null,
            "min_width": null,
            "object_fit": null,
            "object_position": null,
            "order": null,
            "overflow": null,
            "overflow_x": null,
            "overflow_y": null,
            "padding": null,
            "right": null,
            "top": null,
            "visibility": null,
            "width": null
          }
        },
        "e3862186bdc242f7bc5d6698cde7a86c": {
          "model_module": "@jupyter-widgets/controls",
          "model_name": "DescriptionStyleModel",
          "model_module_version": "1.5.0",
          "state": {
            "_model_module": "@jupyter-widgets/controls",
            "_model_module_version": "1.5.0",
            "_model_name": "DescriptionStyleModel",
            "_view_count": null,
            "_view_module": "@jupyter-widgets/base",
            "_view_module_version": "1.2.0",
            "_view_name": "StyleView",
            "description_width": ""
          }
        },
        "daa9e6e83252466aadb6e9e3f8cd15a1": {
          "model_module": "@jupyter-widgets/base",
          "model_name": "LayoutModel",
          "model_module_version": "1.2.0",
          "state": {
            "_model_module": "@jupyter-widgets/base",
            "_model_module_version": "1.2.0",
            "_model_name": "LayoutModel",
            "_view_count": null,
            "_view_module": "@jupyter-widgets/base",
            "_view_module_version": "1.2.0",
            "_view_name": "LayoutView",
            "align_content": null,
            "align_items": null,
            "align_self": null,
            "border": null,
            "bottom": null,
            "display": null,
            "flex": null,
            "flex_flow": null,
            "grid_area": null,
            "grid_auto_columns": null,
            "grid_auto_flow": null,
            "grid_auto_rows": null,
            "grid_column": null,
            "grid_gap": null,
            "grid_row": null,
            "grid_template_areas": null,
            "grid_template_columns": null,
            "grid_template_rows": null,
            "height": null,
            "justify_content": null,
            "justify_items": null,
            "left": null,
            "margin": null,
            "max_height": null,
            "max_width": null,
            "min_height": null,
            "min_width": null,
            "object_fit": null,
            "object_position": null,
            "order": null,
            "overflow": null,
            "overflow_x": null,
            "overflow_y": null,
            "padding": null,
            "right": null,
            "top": null,
            "visibility": null,
            "width": null
          }
        },
        "f13f8feca9b5461d8751c5f4cac4d558": {
          "model_module": "@jupyter-widgets/controls",
          "model_name": "HBoxModel",
          "model_module_version": "1.5.0",
          "state": {
            "_dom_classes": [],
            "_model_module": "@jupyter-widgets/controls",
            "_model_module_version": "1.5.0",
            "_model_name": "HBoxModel",
            "_view_count": null,
            "_view_module": "@jupyter-widgets/controls",
            "_view_module_version": "1.5.0",
            "_view_name": "HBoxView",
            "box_style": "",
            "children": [
              "IPY_MODEL_ce91101a5a914cf9a69eb2b202f7420b",
              "IPY_MODEL_29113ad505544459a07701fb1c9e583b"
            ],
            "layout": "IPY_MODEL_97b3b4eb095b4f1297ac14960b1b2e2e"
          }
        },
        "97b3b4eb095b4f1297ac14960b1b2e2e": {
          "model_module": "@jupyter-widgets/base",
          "model_name": "LayoutModel",
          "model_module_version": "1.2.0",
          "state": {
            "_model_module": "@jupyter-widgets/base",
            "_model_module_version": "1.2.0",
            "_model_name": "LayoutModel",
            "_view_count": null,
            "_view_module": "@jupyter-widgets/base",
            "_view_module_version": "1.2.0",
            "_view_name": "LayoutView",
            "align_content": null,
            "align_items": null,
            "align_self": null,
            "border": null,
            "bottom": null,
            "display": null,
            "flex": null,
            "flex_flow": null,
            "grid_area": null,
            "grid_auto_columns": null,
            "grid_auto_flow": null,
            "grid_auto_rows": null,
            "grid_column": null,
            "grid_gap": null,
            "grid_row": null,
            "grid_template_areas": null,
            "grid_template_columns": null,
            "grid_template_rows": null,
            "height": null,
            "justify_content": null,
            "justify_items": null,
            "left": null,
            "margin": null,
            "max_height": null,
            "max_width": null,
            "min_height": null,
            "min_width": null,
            "object_fit": null,
            "object_position": null,
            "order": null,
            "overflow": null,
            "overflow_x": null,
            "overflow_y": null,
            "padding": null,
            "right": null,
            "top": null,
            "visibility": null,
            "width": null
          }
        },
        "ce91101a5a914cf9a69eb2b202f7420b": {
          "model_module": "@jupyter-widgets/controls",
          "model_name": "FloatProgressModel",
          "model_module_version": "1.5.0",
          "state": {
            "_dom_classes": [],
            "_model_module": "@jupyter-widgets/controls",
            "_model_module_version": "1.5.0",
            "_model_name": "FloatProgressModel",
            "_view_count": null,
            "_view_module": "@jupyter-widgets/controls",
            "_view_module_version": "1.5.0",
            "_view_name": "ProgressView",
            "bar_style": "",
            "description": "100%",
            "description_tooltip": null,
            "layout": "IPY_MODEL_efb2ce8ae65c40d8a22dd790ca86b272",
            "max": 157,
            "min": 0,
            "orientation": "horizontal",
            "style": "IPY_MODEL_cda244cb81f8429394916e66f6183281",
            "value": 157
          }
        },
        "29113ad505544459a07701fb1c9e583b": {
          "model_module": "@jupyter-widgets/controls",
          "model_name": "HTMLModel",
          "model_module_version": "1.5.0",
          "state": {
            "_dom_classes": [],
            "_model_module": "@jupyter-widgets/controls",
            "_model_module_version": "1.5.0",
            "_model_name": "HTMLModel",
            "_view_count": null,
            "_view_module": "@jupyter-widgets/controls",
            "_view_module_version": "1.5.0",
            "_view_name": "HTMLView",
            "description": "",
            "description_tooltip": null,
            "layout": "IPY_MODEL_b73c235dd60942c7ae4b93bbe1236565",
            "placeholder": "​",
            "style": "IPY_MODEL_2f23acfa7b1e428a9d949068994f97a0",
            "value": " 157/157 [00:01&lt;00:00, 101.50it/s]"
          }
        },
        "cda244cb81f8429394916e66f6183281": {
          "model_module": "@jupyter-widgets/controls",
          "model_name": "ProgressStyleModel",
          "model_module_version": "1.5.0",
          "state": {
            "_model_module": "@jupyter-widgets/controls",
            "_model_module_version": "1.5.0",
            "_model_name": "ProgressStyleModel",
            "_view_count": null,
            "_view_module": "@jupyter-widgets/base",
            "_view_module_version": "1.2.0",
            "_view_name": "StyleView",
            "bar_color": null,
            "description_width": "initial"
          }
        },
        "efb2ce8ae65c40d8a22dd790ca86b272": {
          "model_module": "@jupyter-widgets/base",
          "model_name": "LayoutModel",
          "model_module_version": "1.2.0",
          "state": {
            "_model_module": "@jupyter-widgets/base",
            "_model_module_version": "1.2.0",
            "_model_name": "LayoutModel",
            "_view_count": null,
            "_view_module": "@jupyter-widgets/base",
            "_view_module_version": "1.2.0",
            "_view_name": "LayoutView",
            "align_content": null,
            "align_items": null,
            "align_self": null,
            "border": null,
            "bottom": null,
            "display": null,
            "flex": null,
            "flex_flow": null,
            "grid_area": null,
            "grid_auto_columns": null,
            "grid_auto_flow": null,
            "grid_auto_rows": null,
            "grid_column": null,
            "grid_gap": null,
            "grid_row": null,
            "grid_template_areas": null,
            "grid_template_columns": null,
            "grid_template_rows": null,
            "height": null,
            "justify_content": null,
            "justify_items": null,
            "left": null,
            "margin": null,
            "max_height": null,
            "max_width": null,
            "min_height": null,
            "min_width": null,
            "object_fit": null,
            "object_position": null,
            "order": null,
            "overflow": null,
            "overflow_x": null,
            "overflow_y": null,
            "padding": null,
            "right": null,
            "top": null,
            "visibility": null,
            "width": null
          }
        },
        "2f23acfa7b1e428a9d949068994f97a0": {
          "model_module": "@jupyter-widgets/controls",
          "model_name": "DescriptionStyleModel",
          "model_module_version": "1.5.0",
          "state": {
            "_model_module": "@jupyter-widgets/controls",
            "_model_module_version": "1.5.0",
            "_model_name": "DescriptionStyleModel",
            "_view_count": null,
            "_view_module": "@jupyter-widgets/base",
            "_view_module_version": "1.2.0",
            "_view_name": "StyleView",
            "description_width": ""
          }
        },
        "b73c235dd60942c7ae4b93bbe1236565": {
          "model_module": "@jupyter-widgets/base",
          "model_name": "LayoutModel",
          "model_module_version": "1.2.0",
          "state": {
            "_model_module": "@jupyter-widgets/base",
            "_model_module_version": "1.2.0",
            "_model_name": "LayoutModel",
            "_view_count": null,
            "_view_module": "@jupyter-widgets/base",
            "_view_module_version": "1.2.0",
            "_view_name": "LayoutView",
            "align_content": null,
            "align_items": null,
            "align_self": null,
            "border": null,
            "bottom": null,
            "display": null,
            "flex": null,
            "flex_flow": null,
            "grid_area": null,
            "grid_auto_columns": null,
            "grid_auto_flow": null,
            "grid_auto_rows": null,
            "grid_column": null,
            "grid_gap": null,
            "grid_row": null,
            "grid_template_areas": null,
            "grid_template_columns": null,
            "grid_template_rows": null,
            "height": null,
            "justify_content": null,
            "justify_items": null,
            "left": null,
            "margin": null,
            "max_height": null,
            "max_width": null,
            "min_height": null,
            "min_width": null,
            "object_fit": null,
            "object_position": null,
            "order": null,
            "overflow": null,
            "overflow_x": null,
            "overflow_y": null,
            "padding": null,
            "right": null,
            "top": null,
            "visibility": null,
            "width": null
          }
        }
      }
    }
  },
  "cells": [
    {
      "cell_type": "markdown",
      "metadata": {
        "id": "ziuV4XT0CexM"
      },
      "source": [
        "# Нейронные сети: Autograd"
      ]
    },
    {
      "cell_type": "markdown",
      "metadata": {
        "id": "tISWM17JCexO"
      },
      "source": [
        "## Библиотеки"
      ]
    },
    {
      "cell_type": "code",
      "metadata": {
        "id": "XpO-G91S5cfy"
      },
      "source": [
        "import warnings\n",
        "warnings.filterwarnings(\"ignore\")\n",
        "\n",
        "try:\n",
        "    import google.colab\n",
        "    IN_COLAB = True\n",
        "except:\n",
        "    IN_COLAB = False\n",
        "\n",
        "if IN_COLAB:\n",
        "    !wget -q -O requirements.txt https://raw.githubusercontent.com/andriygav/MachineLearningSeminars/master/sem2/requirements.txt\n",
        "    !pip install -q -r requirements.txt"
      ],
      "execution_count": null,
      "outputs": []
    },
    {
      "cell_type": "code",
      "metadata": {
        "id": "BrQm-zbjCexP"
      },
      "source": [
        "import matplotlib.pyplot as plt\n",
        "from matplotlib import gridspec\n",
        "import seaborn as sns\n",
        "import pandas as pd\n",
        "from tqdm.notebook import tqdm\n",
        "\n",
        "from scipy.special import expit\n",
        "import numpy as np\n",
        "import torch\n",
        "\n",
        "from sklearn.linear_model import (LogisticRegression, LinearRegression)\n",
        "from sklearn.model_selection import LeaveOneOut, KFold\n",
        "from sklearn.metrics import classification_report\n",
        "from sklearn.model_selection import ParameterGrid\n",
        "\n",
        "\n",
        "from torchvision import datasets\n",
        "from torchvision import transforms"
      ],
      "execution_count": null,
      "outputs": []
    },
    {
      "cell_type": "markdown",
      "metadata": {
        "id": "pfhExuP0CexW"
      },
      "source": [
        "## Разбор домашней задачи"
      ]
    },
    {
      "cell_type": "markdown",
      "metadata": {
        "id": "trfKC1iw3vG9"
      },
      "source": [
        "Рассмотрим совместное правдоподобие модели и данных:\n",
        "$$\n",
        "p\\bigr(\\mathbf{y}, \\mathbf{w}|\\mathbf{X}\\bigr) = \\prod_{i=1}^{l}p\\bigr(y_i|\\mathbf{w}, \\mathbf{x}_i\\bigr)p\\bigr(\\mathbf{w}\\bigr),\n",
        "$$\n",
        "где для для простоты рассмотрим $p\\bigr(\\mathbf{w}\\bigr)=\\mathcal{N}\\bigr(\\mathbf{0}, \\gamma\\mathbf{I})$.\n",
        "\n",
        "По принципу максимума правдоподобия получаем следующую функцию для минимизации:\n",
        "$$\n",
        "\\mathcal{L}\\bigr(\\mathbf{w}, \\mathbf{X}, \\mathbf{y}\\bigr) = -\\sum_{i=1}^{l}\\log p\\bigr(y_i|\\mathbf{w}, \\mathbf{x}_i\\bigr) - \\log p\\bigr(\\mathbf{w}\\bigr) = \\sum_{i=1}^{l}\\left[\\frac{\\beta}{2}\\left(\\mathbf{w}^{\\mathsf{T}}\\mathbf{x}_i-y_i\\right)^2 + C_1\\right] + \\frac{\\gamma}{2}\\mathbf{w}^{\\mathsf{T}}\\mathbf{w} + C_2.\n",
        "$$\n",
        "Для удобства перепишем в матричном виде:\n",
        "$$\n",
        "\\beta\\sum_{i=1}^{l}\\left(\\mathbf{w}^{\\mathsf{T}}\\mathbf{x}_i - y_i\\right)^2 + \\gamma\\mathbf{w}^{\\mathsf{T}}\\mathbf{w}=\n",
        "\\beta\\left(\\mathbf{X}\\mathbf{w} - \\mathbf{y}\\right)^{\\mathsf{T}}\\left(\\mathbf{X}\\mathbf{w} - \\mathbf{y}\\right)  + \\gamma\\mathbf{w}^{\\mathsf{T}}\\mathbf{w}= \\\\\n",
        "=\\beta\\mathbf{w}^{\\mathsf{T}}\\mathbf{X}^{\\mathsf{T}}\\mathbf{X}\\mathbf{w} - 2\\beta\\mathbf{y}\\mathbf{X}\\mathbf{w} + \\beta\\mathbf{y}^{\\mathsf{T}}\\mathbf{y} + \\gamma\\mathbf{w}^{\\mathsf{T}}\\mathbf{w}\n",
        "$$"
      ]
    },
    {
      "cell_type": "markdown",
      "metadata": {
        "id": "UMEyN0H4CexX"
      },
      "source": [
        "\n",
        "Воспользуемся необходимым условием первого порядка:\n",
        "$$\n",
        "\\frac{\\partial}{\\partial \\mathbf{w}}\\left(\\beta\\mathbf{w}^{\\mathsf{T}}\\mathbf{X}^{\\mathsf{T}}\\mathbf{X}\\mathbf{w} - 2\\beta\\mathbf{y}\\mathbf{X}\\mathbf{w} + \\beta\\mathbf{y}^{\\mathsf{T}}\\mathbf{y} + \\gamma\\mathbf{w}^{\\mathsf{T}}\\mathbf{w}\\right) = 0 = 2\\beta\\mathbf{X}^{\\mathsf{T}}\\mathbf{X}\\mathbf{w} - 2\\beta\\mathbf{X}^{\\mathsf{T}}\\mathbf{y} + 2\\gamma\\mathbf{w} \\\\\n",
        "\\Rightarrow \\hat{\\mathbf{w}} = \\beta\\left(\\beta\\mathbf{X}^{\\mathsf{T}}\\mathbf{X} + \\gamma\\mathbf{I}\\right)^{-1}\\mathbf{X}^{\\mathsf{T}}\\mathbf{y}\n",
        "$$"
      ]
    },
    {
      "cell_type": "code",
      "metadata": {
        "id": "l2biygA7CexX"
      },
      "source": [
        "np.random.seed(0)\n",
        "l = 1000\n",
        "n = 2\n",
        "\n",
        "\n",
        "X_train = np.random.randn(l, n)\n",
        "X_test = np.random.randn(500, n)\n",
        "w = np.random.randn(n)\n",
        "Y_train = np.random.binomial(n=1, p=expit(X_train@w))\n",
        "Y_test = np.random.binomial(n=1, p=expit(X_test@w))"
      ],
      "execution_count": null,
      "outputs": []
    },
    {
      "cell_type": "code",
      "metadata": {
        "id": "hwGU4PUCCexb"
      },
      "source": [
        "loo = KFold(10)\n",
        "number_of_batch = loo.get_n_splits(X_train)\n",
        "\n",
        "gamma_scores = dict()\n",
        "gammas = [1e-10, 1e-4, 1e-3, 1e-2, .1, 1., 10., 1e2, 1e3, 1e4, 1e10]\n",
        "for gamma in tqdm(gammas):\n",
        "    list_of_scores = []\n",
        "    for train_index, test_index in tqdm(loo.split(X_train), \n",
        "                                        total=number_of_batch, leave=False):\n",
        "        x_train, x_test = X_train[train_index], X_train[test_index]\n",
        "        y_train, y_test = Y_train[train_index], Y_train[test_index]\n",
        "\n",
        "        model = LogisticRegression(penalty='l2', C=2/gamma, solver='saga',\n",
        "                                   fit_intercept=False, random_state=0)\n",
        "        model.fit(x_train, y_train)\n",
        "        list_of_scores.append(model.score(x_test, y_test))\n",
        "        \n",
        "    gamma_scores[gamma] = np.mean(list_of_scores)"
      ],
      "execution_count": null,
      "outputs": []
    },
    {
      "cell_type": "code",
      "metadata": {
        "colab": {
          "base_uri": "https://localhost:8080/"
        },
        "id": "JkSACjY4Cexf",
        "outputId": "faac7578-15df-42fe-c53f-fe367fe36a4c"
      },
      "source": [
        "best_gamma = sorted(gamma_scores, \n",
        "                    key=lambda x: gamma_scores[x], reverse=True)[0]\n",
        "\n",
        "model = LogisticRegression(penalty='l2', C=2/best_gamma, fit_intercept=False, \n",
        "                           random_state=0, solver='saga')\n",
        "model.fit(X_train, Y_train)\n",
        "print('Точность: {}'.format(model.score(X_test, Y_test)))"
      ],
      "execution_count": null,
      "outputs": [
        {
          "name": "stdout",
          "output_type": "stream",
          "text": [
            "Точность: 0.766\n"
          ]
        }
      ]
    },
    {
      "cell_type": "code",
      "metadata": {
        "id": "xmkmBpX9Cexi"
      },
      "source": [
        "def get_line(a, b, c=0, x_min=-10, x_max=10):\n",
        "    x1, y1 = -(-b+ c)/a, -1\n",
        "    x2, y2 = -(b + c)/a, 1\n",
        "    \n",
        "    polynomial = np.poly1d(np.polyfit([x1, x2], [y1, y2], 1))\n",
        "    x_axis = np.linspace(x_min, x_max)\n",
        "    y_axis = polynomial(x_axis)\n",
        "    \n",
        "    return x_axis, y_axis"
      ],
      "execution_count": null,
      "outputs": []
    },
    {
      "cell_type": "code",
      "metadata": {
        "colab": {
          "base_uri": "https://localhost:8080/",
          "height": 269
        },
        "id": "DDaRTkt0Cexl",
        "outputId": "0f61b704-a8cc-4ee9-97c5-3748e51672ed"
      },
      "source": [
        "cols = ['blue', 'red']\n",
        "\n",
        "for k in np.unique(Y_test):\n",
        "    plt.plot(X_test[Y_test==k,0], X_test[Y_test==k,1], 'o', \n",
        "             label='класс {}'.format(k), color=cols[k])\n",
        "\n",
        "plt.plot(*get_line(*model.coef_[0], x_min=-0.6, x_max=0.6), \n",
        "         linewidth=2, color='black')\n",
        "\n",
        "plt.legend(loc='best')\n",
        "plt.show()"
      ],
      "execution_count": null,
      "outputs": [
        {
          "data": {
            "image/png": "[encoded data removed]",
            "text/plain": [
              "<matplotlib.figure.Figure at 0x7f5b22789410>"
            ]
          },
          "metadata": {
            "needs_background": "light"
          },
          "output_type": "display_data"
        }
      ]
    },
    {
      "cell_type": "markdown",
      "metadata": {
        "id": "bUveBSgcCexp"
      },
      "source": [
        "## Автоматическое дифференцирование"
      ]
    },
    {
      "cell_type": "markdown",
      "metadata": {
        "id": "pcNza5WhCexq"
      },
      "source": [
        "### Разбор примера\n",
        "$$\n",
        "f\\bigr(\\mathbf{x}\\bigr) = x_3\\cdot\\cos\\bigr(\\frac{x_1}{x_2}\\bigr)\\cdot\\left(\\exp\\bigr(x_3\\bigr)+ \\frac{x_1}{x_2}\\right)\n",
        "$$"
      ]
    },
    {
      "cell_type": "markdown",
      "metadata": {
        "id": "n5TOc3Y_Cexs"
      },
      "source": [
        "#### Граф вычислений\n",
        "$$\n",
        "f\\bigr(\\mathbf{x}\\bigr) = x_3\\cdot\\cos\\bigr(\\frac{x_1}{x_2}\\bigr)\\cdot\\left(\\exp\\bigr(x_3\\bigr)+ \\frac{x_1}{x_2}\\right)\n",
        "$$\n",
        "![](https://github.com/andriygav/MachineLearningSeminars/blob/master/sem3/fig1.png?raw=1)"
      ]
    },
    {
      "cell_type": "markdown",
      "metadata": {
        "id": "x5nsKeY8Cexs"
      },
      "source": [
        "$$\n",
        "f\\bigr(\\mathbf{x}\\bigr) = x_3\\cdot\\cos\\bigr(\\frac{x_1}{x_2}\\bigr)\\cdot\\left(\\exp\\bigr(x_3\\bigr)+ \\frac{x_1}{x_2}\\right)\n",
        "$$\n",
        "\n",
        "#### Дифференцирование вперед\n",
        "- $\\frac{\\partial z_1}{\\partial x_1} = \\frac{1}{x_2}$\n",
        "- $\\frac{\\partial z_2}{\\partial x_1} = 0$\n",
        "- $\\frac{\\partial z_3}{\\partial x_1} = \\frac{\\partial z_3}{\\partial z_1}\\frac{\\partial z_1}{\\partial x_1} = -\\sin\\bigr(\\frac{x_1}{x_2}\\bigr)\\frac{1}{x_2}$\n",
        "- $\\frac{\\partial z_4}{\\partial x_1} = \\frac{\\partial z_4}{\\partial z_1}\\frac{\\partial z_1}{\\partial x_1} + \\frac{\\partial z_4}{\\partial z_2}\\frac{\\partial z_2}{\\partial x_1} = \\frac{1}{x_2}$\n",
        "- $\\frac{\\partial z_5}{\\partial x_1} = \\frac{\\partial z_5}{\\partial z_3}\\frac{\\partial z_3}{\\partial x_1} + \\frac{\\partial z_5}{\\partial z_4}\\frac{\\partial z_4}{\\partial x_1} = -\\sin\\bigr(\\frac{x_1}{x_2}\\bigr)\\frac{1}{x_2}\\left(\\exp\\bigr(x_3\\bigr)+ \\frac{x_1}{x_2}\\right) +\\cos\\bigr(\\frac{x_1}{x_2}\\bigr)\\frac{1}{x_2}$\n",
        "- $\\frac{\\partial z_6}{\\partial x_1} = \\frac{\\partial z_6}{\\partial z_5}\\frac{\\partial z_5}{\\partial x_1} + \\frac{\\partial z_6}{\\partial x_3}\\frac{\\partial x_3}{\\partial x_1} = x_3\\left(-\\sin\\bigr(\\frac{x_1}{x_2}\\bigr)\\frac{1}{x_2}\\left(\\exp\\bigr(x_3\\bigr)+ \\frac{x_1}{x_2}\\right) +\\cos\\bigr(\\frac{x_1}{x_2}\\bigr)\\frac{1}{x_2}\\right)$\n",
        "- $\\frac{\\partial f}{x_1}= \\frac{\\partial f}{\\partial x_1}\\frac{\\partial z_6}{\\partial x_1} = x_3\\left(-\\sin\\bigr(\\frac{x_1}{x_2}\\bigr)\\frac{1}{x_2}\\left(\\exp\\bigr(x_3\\bigr)+ \\frac{x_1}{x_2}\\right) +\\cos\\bigr(\\frac{x_1}{x_2}\\bigr)\\frac{1}{x_2}\\right)$"
      ]
    },
    {
      "cell_type": "markdown",
      "metadata": {
        "id": "5NuPuD09Cext"
      },
      "source": [
        "$$\n",
        "f\\bigr(\\mathbf{x}\\bigr) = x_3\\cdot\\cos\\bigr(\\frac{x_1}{x_2}\\bigr)\\cdot\\left(\\exp\\bigr(x_3\\bigr)+ \\frac{x_1}{x_2}\\right)\n",
        "$$\n",
        "\n",
        "#### Дифференцирование назад\n",
        "- $\\frac{\\partial f}{\\partial z_6} = 1$\n",
        "- $\\frac{\\partial f}{\\partial z_5} = \\frac{\\partial f}{\\partial z_6}\\frac{\\partial z_6}{\\partial z_5} = x_3$\n",
        "- $\\frac{\\partial f}{\\partial z_4} = \\frac{\\partial f}{\\partial z_5}\\frac{\\partial z_5}{\\partial z_4} = x_3\\cos\\bigr(\\frac{x_1}{x_2}\\bigr)$\n",
        "- $\\frac{\\partial f}{\\partial z_3} = \\frac{\\partial f}{\\partial z_5}\\frac{\\partial z_5}{\\partial z_3} = x_3\\left(\\exp\\bigr(x_3\\bigr)+ \\frac{x_1}{x_2}\\right)$\n",
        "- $\\frac{\\partial f}{\\partial z_2} = \\frac{\\partial f}{\\partial z_4}\\frac{\\partial z_4}{\\partial z_2} = x_3\\cos\\bigr(\\frac{x_1}{x_2}\\bigr)$\n",
        "- $\\frac{\\partial f}{\\partial z_1} = \\frac{\\partial f}{\\partial z_3}\\frac{\\partial z_3}{\\partial z_1} + \\frac{\\partial f}{\\partial z_4}\\frac{\\partial z_4}{\\partial z_1} = -\\sin\\bigr(\\frac{x_1}{x_2}\\bigr)x_3\\left(\\exp\\bigr(x_3\\bigr)+ \\frac{x_1}{x_2}\\right) -\\sin\\bigr(\\frac{x_1}{x_2}\\bigr)x_3\\cos\\bigr(\\frac{x_1}{x_2}\\bigr)$\n",
        "- $\\frac{\\partial f}{\\partial x_1} = \\frac{\\partial f}{\\partial z_1}\\frac{\\partial z_1}{\\partial x_1} = -\\frac{1}{x_2}\\sin\\bigr(\\frac{x_1}{x_2}\\bigr)x_3\\left(\\exp\\bigr(x_3\\bigr)+ \\frac{x_1}{x_2}\\right) -\\frac{1}{x_2}\\sin\\bigr(\\frac{x_1}{x_2}\\bigr)x_3\\cos\\bigr(\\frac{x_1}{x_2}\\bigr)$\n"
      ]
    },
    {
      "cell_type": "markdown",
      "metadata": {
        "id": "QCsnwof6Cext"
      },
      "source": [
        "### Плюсы и минусы каждого метода\n",
        "Дифференцирование вперед:\n",
        "- использует меньше памяти чем дифференцирование назад;\n",
        "- вычислительная сложность зависит от числа параметров.\n",
        "\n",
        "Дифференцирование назад:\n",
        "- использует больше памяти чем дифференцирование вперед;\n",
        "- вычислительная сложность не зависит от числа параметров."
      ]
    },
    {
      "cell_type": "markdown",
      "metadata": {
        "id": "vO9OvPaSCexu"
      },
      "source": [
        "## MNIST Dataset"
      ]
    },
    {
      "cell_type": "code",
      "metadata": {
        "id": "E5o74GZqCexu"
      },
      "source": [
        "MNIST_train = datasets.MNIST('./mnist', train=True, download=True, \n",
        "                             transform=transforms.ToTensor())\n",
        "\n",
        "MNIST_test = datasets.MNIST('./mnist', train=False, download=True,\n",
        "                            transform=transforms.ToTensor())"
      ],
      "execution_count": null,
      "outputs": []
    },
    {
      "cell_type": "code",
      "metadata": {
        "colab": {
          "base_uri": "https://localhost:8080/",
          "height": 269
        },
        "id": "U57vrUIdCexy",
        "outputId": "3d1cb76a-29ec-4c95-94f7-f762cf3b8b60"
      },
      "source": [
        "fig, gs = plt.figure(figsize=(19,4)), gridspec.GridSpec(1, 4)\n",
        "\n",
        "ax = []\n",
        "\n",
        "for i in range(4):\n",
        "    ax.append(fig.add_subplot(gs[i]))\n",
        "    ax[i].imshow(np.array(MNIST_train[i][0][0]), 'gray')\n",
        "\n",
        "plt.show()"
      ],
      "execution_count": null,
      "outputs": [
        {
          "data": {
            "image/png": "[encoded data removed]",
            "text/plain": [
              "<matplotlib.figure.Figure at 0x7f5b1fa92510>"
            ]
          },
          "metadata": {
            "needs_background": "light"
          },
          "output_type": "display_data"
        }
      ]
    },
    {
      "cell_type": "markdown",
      "metadata": {
        "id": "htJRDzyACex1"
      },
      "source": [
        "### Полносвязная нейронная сеть (Персептрон)\n",
        "![](https://github.com/andriygav/MachineLearningSeminars/blob/master/sem3/fig2.png?raw=1)"
      ]
    },
    {
      "cell_type": "markdown",
      "metadata": {
        "id": "R7l5agvtCex1"
      },
      "source": [
        "Перепишем в матричном виде:\n",
        "$$\n",
        "f(\\mathbf{x}, \\mathbf{W}) = \\mathbf{W}_{n_2+1}\\sigma\\bigr( \\cdots\\mathbf{W}_2\\sigma\\bigr(\\mathbf{W}_{1}\\mathbf{x}\\bigr)\\cdots\\bigr)\n",
        "$$\n",
        "\n",
        "В данном примере введены следующие обозначения:\n",
        "- число $n$ --- размерность пространства признаков (`input_dim`);\n",
        "- число $n_1$ --- размерность скрытого слоя (`hidden_dim`);\n",
        "- число $n_2$ --- количество скрытых слоев (`num_layers`);\n",
        "- число $n_3$ --- размерность пространства ответов (`output_dim`).\n",
        "\n",
        "Заметим, что при $n_2=0$ получаем линейную модель, то есть линейная модель это частный случай полносвязного персептрона.\n",
        "\n",
        "P.S. размерность скрытого слоя может зависить от номера слоя, для простоты рассмотрим фиксируемый размер скрытого слоя."
      ]
    },
    {
      "cell_type": "code",
      "metadata": {
        "id": "06bK3iA3Cex2"
      },
      "source": [
        "class Perceptron(torch.nn.Module):\n",
        "    @property\n",
        "    def device(self):\n",
        "        for p in self.parameters():\n",
        "            return p.device\n",
        "\n",
        "    def __init__(self, input_dim=784, num_layers=0, \n",
        "                 hidden_dim=64, output_dim=10, p=0.0):\n",
        "        super(Perceptron, self).__init__()\n",
        "        \n",
        "        self.layers = torch.nn.Sequential()\n",
        "        \n",
        "        prev_size = input_dim\n",
        "        for i in range(num_layers):\n",
        "            self.layers.add_module('layer{}'.format(i), \n",
        "                                  torch.nn.Linear(prev_size, hidden_dim))\n",
        "            self.layers.add_module('relu{}'.format(i), torch.nn.ReLU())\n",
        "            self.layers.add_module('dropout{}'.format(i), torch.nn.Dropout(p=p))\n",
        "            prev_size = hidden_dim\n",
        "        \n",
        "        self.layers.add_module('classifier', \n",
        "                               torch.nn.Linear(prev_size, output_dim))        \n",
        "        \n",
        "    def forward(self, input):\n",
        "        return self.layers(input)"
      ],
      "execution_count": null,
      "outputs": []
    },
    {
      "cell_type": "code",
      "metadata": {
        "colab": {
          "base_uri": "https://localhost:8080/"
        },
        "id": "Bt9VzgdKC7wG",
        "outputId": "2538bd0b-8a7c-43ab-8b79-e9a143352d6b"
      },
      "source": [
        "device = torch.device(\"cuda\" if torch.cuda.is_available() else \"cpu\")\n",
        "device"
      ],
      "execution_count": null,
      "outputs": [
        {
          "output_type": "execute_result",
          "data": {
            "text/plain": [
              "device(type='cuda')"
            ]
          },
          "metadata": {},
          "execution_count": 4
        }
      ]
    },
    {
      "cell_type": "code",
      "metadata": {
        "colab": {
          "base_uri": "https://localhost:8080/"
        },
        "id": "F27K1G0QCex4",
        "outputId": "d9ff4101-1330-4ec3-9411-e6bb27d55e29"
      },
      "source": [
        "model = Perceptron()\n",
        "model.to(device)"
      ],
      "execution_count": null,
      "outputs": [
        {
          "data": {
            "text/plain": [
              "Perceptron(\n",
              "  (layers): Sequential(\n",
              "    (classifier): Linear(in_features=784, out_features=10, bias=True)\n",
              "  )\n",
              ")"
            ]
          },
          "execution_count": 12,
          "metadata": {},
          "output_type": "execute_result"
        }
      ]
    },
    {
      "cell_type": "code",
      "metadata": {
        "colab": {
          "base_uri": "https://localhost:8080/"
        },
        "id": "Y-D60w2UCex7",
        "outputId": "02ddbb07-44dd-4ab9-8b7e-8a867c3b3691"
      },
      "source": [
        "model = Perceptron(num_layers=1)\n",
        "model.to(device)"
      ],
      "execution_count": null,
      "outputs": [
        {
          "data": {
            "text/plain": [
              "Perceptron(\n",
              "  (layers): Sequential(\n",
              "    (layer0): Linear(in_features=784, out_features=64, bias=True)\n",
              "    (relu0): ReLU()\n",
              "    (dropout0): Dropout(p=0.0, inplace=False)\n",
              "    (classifier): Linear(in_features=64, out_features=10, bias=True)\n",
              "  )\n",
              ")"
            ]
          },
          "execution_count": 13,
          "metadata": {},
          "output_type": "execute_result"
        }
      ]
    },
    {
      "cell_type": "code",
      "metadata": {
        "colab": {
          "base_uri": "https://localhost:8080/"
        },
        "id": "KoYsLYG-CeyA",
        "outputId": "97646428-6935-4a2a-938c-5f5dd587cbe0"
      },
      "source": [
        "model = Perceptron(num_layers=2)\n",
        "model.to(device)"
      ],
      "execution_count": null,
      "outputs": [
        {
          "data": {
            "text/plain": [
              "Perceptron(\n",
              "  (layers): Sequential(\n",
              "    (layer0): Linear(in_features=784, out_features=64, bias=True)\n",
              "    (relu0): ReLU()\n",
              "    (dropout0): Dropout(p=0.0, inplace=False)\n",
              "    (layer1): Linear(in_features=64, out_features=64, bias=True)\n",
              "    (relu1): ReLU()\n",
              "    (dropout1): Dropout(p=0.0, inplace=False)\n",
              "    (classifier): Linear(in_features=64, out_features=10, bias=True)\n",
              "  )\n",
              ")"
            ]
          },
          "execution_count": 14,
          "metadata": {},
          "output_type": "execute_result"
        }
      ]
    },
    {
      "cell_type": "code",
      "metadata": {
        "id": "gyRG-f4OFeDB"
      },
      "source": [
        "def testing(model, dataset):\n",
        "    generator = torch.utils.data.DataLoader(dataset, batch_size=64)\n",
        "\n",
        "    pred = []\n",
        "    real = []\n",
        "    for x, y in generator:\n",
        "        x = x.view([-1, 784]).to(device)\n",
        "        y = y.to(device)\n",
        "\n",
        "        pred.extend(torch.argmax(model(x), dim=-1).cpu().numpy().tolist())\n",
        "        real.extend(y.cpu().numpy().tolist())\n",
        "\n",
        "    return np.mean(np.array(real) == np.array(pred)), \\\n",
        "           classification_report(real, pred)"
      ],
      "execution_count": null,
      "outputs": []
    },
    {
      "cell_type": "code",
      "metadata": {
        "id": "xuG8e3xbCeyE"
      },
      "source": [
        "def trainer(model, dataset, loss_function, optimizer, epochs):\n",
        "    for epoch in tqdm(range(epochs), leave=False):\n",
        "        generator = torch.utils.data.DataLoader(dataset, batch_size=64, \n",
        "                                              shuffle=True)\n",
        "        for x, y in tqdm(generator, leave=False):\n",
        "            optimizer.zero_grad()\n",
        "            x = x.view([-1, 784]).to(device)\n",
        "            y = y.to(device)\n",
        "\n",
        "            output = model(x)\n",
        "            loss = loss_function(output, y)\n",
        "            loss.backward()\n",
        "            optimizer.step()"
      ],
      "execution_count": null,
      "outputs": []
    },
    {
      "cell_type": "code",
      "metadata": {
        "id": "zbiuY299Vtga"
      },
      "source": [
        "def draw_table(data, title=['ACCURACY'], width=[60, 11]):    \n",
        "    row_format = '|' + '|'.join([(\"{:>\"+str(w)+\"}\") for w in width]) + '|'\n",
        "    row_format_bet = '+' + '+'.join([(\"{:>\"+str(w)+\"}\") for w in width]) + '+'\n",
        "    \n",
        "    print(row_format_bet.format(\n",
        "        \"-\"*width[0], *[\"-\"*width[i+1] for i, _ in enumerate(title)]))\n",
        "    print(row_format.format(\"\", *title))\n",
        "    print(row_format_bet.format(\n",
        "        \"-\"*width[0], *[\"-\"*width[i+1] for i, _ in enumerate(title)]))\n",
        "    for key in data:\n",
        "        if len(key) > width[0]:\n",
        "            row_name = '...' + key[len(key)-width[0]+3:]\n",
        "        else:\n",
        "            row_name = key\n",
        "        print(row_format.format(row_name, *[round(x, 2) for x in data[key]]))\n",
        "        print(row_format_bet.format(\n",
        "            \"-\"*width[0], *[\"-\"*width[i+1] for i, _ in enumerate(title)]))"
      ],
      "execution_count": null,
      "outputs": []
    },
    {
      "cell_type": "code",
      "metadata": {
        "id": "5A_miZWmEstx"
      },
      "source": [
        "model = Perceptron(num_layers=0)\n",
        "model.to(device)"
      ],
      "execution_count": null,
      "outputs": []
    },
    {
      "cell_type": "code",
      "metadata": {
        "colab": {
          "base_uri": "https://localhost:8080/",
          "height": 306,
          "referenced_widgets": [
            "197062a6cbf44413bb0eaae2ab47623c",
            "e63d71e887ef4c2594774d70a590d23c",
            "8ea955ef7b9f46aeb7d3d4bf3a784b12",
            "cd65e46296cc4dfaa389a66f9be7634f",
            "527bcc0925d7449aaa3bec75d0f5972a",
            "e812bfb32d5443228a135f5af3893f30",
            "e3862186bdc242f7bc5d6698cde7a86c",
            "daa9e6e83252466aadb6e9e3f8cd15a1"
          ]
        },
        "id": "pGxA8FPpGMJY",
        "outputId": "69c44c76-8859-4b88-d90a-e756c60a3689"
      },
      "source": [
        "_ = model.eval()\n",
        "acc, report = testing(model, MNIST_test)\n",
        "print(report)"
      ],
      "execution_count": null,
      "outputs": [
        {
          "data": {
            "application/vnd.jupyter.widget-view+json": {
              "model_id": "197062a6cbf44413bb0eaae2ab47623c",
              "version_major": 2,
              "version_minor": 0
            },
            "text/plain": []
          },
          "metadata": {},
          "output_type": "display_data"
        },
        {
          "name": "stdout",
          "output_type": "stream",
          "text": [
            "              precision    recall  f1-score   support\n",
            "\n",
            "           0       0.04      0.00      0.00       980\n",
            "           1       0.01      0.03      0.02      1135\n",
            "           2       0.19      0.07      0.10      1032\n",
            "           3       0.03      0.01      0.01      1010\n",
            "           4       0.10      0.22      0.13       982\n",
            "           5       0.05      0.04      0.05       892\n",
            "           6       0.11      0.00      0.00       958\n",
            "           7       0.10      0.24      0.14      1028\n",
            "           8       0.10      0.05      0.07       974\n",
            "           9       0.11      0.11      0.11      1009\n",
            "\n",
            "    accuracy                           0.08     10000\n",
            "   macro avg       0.08      0.08      0.06     10000\n",
            "weighted avg       0.08      0.08      0.06     10000\n",
            "\n"
          ]
        }
      ]
    },
    {
      "cell_type": "code",
      "metadata": {
        "id": "pimVcP6WH3M2"
      },
      "source": [
        "_ = model.train()\n",
        "trainer(model=model, \n",
        "        dataset=MNIST_train, \n",
        "        loss_function=torch.nn.CrossEntropyLoss(), \n",
        "        optimizer=torch.optim.Adam(model.parameters(), lr=0.001), \n",
        "        epochs=4)"
      ],
      "execution_count": null,
      "outputs": []
    },
    {
      "cell_type": "code",
      "metadata": {
        "colab": {
          "base_uri": "https://localhost:8080/",
          "height": 306,
          "referenced_widgets": [
            "f13f8feca9b5461d8751c5f4cac4d558",
            "97b3b4eb095b4f1297ac14960b1b2e2e",
            "ce91101a5a914cf9a69eb2b202f7420b",
            "29113ad505544459a07701fb1c9e583b",
            "cda244cb81f8429394916e66f6183281",
            "efb2ce8ae65c40d8a22dd790ca86b272",
            "2f23acfa7b1e428a9d949068994f97a0",
            "b73c235dd60942c7ae4b93bbe1236565"
          ]
        },
        "id": "KHdbvSSrDaCF",
        "outputId": "d9004370-45ef-42f9-a7c4-6365875b9ae8"
      },
      "source": [
        "_ = model.eval()\n",
        "acc, report = testing(model, MNIST_test)\n",
        "print(report)"
      ],
      "execution_count": null,
      "outputs": [
        {
          "data": {
            "application/vnd.jupyter.widget-view+json": {
              "model_id": "f13f8feca9b5461d8751c5f4cac4d558",
              "version_major": 2,
              "version_minor": 0
            },
            "text/plain": []
          },
          "metadata": {},
          "output_type": "display_data"
        },
        {
          "name": "stdout",
          "output_type": "stream",
          "text": [
            "              precision    recall  f1-score   support\n",
            "\n",
            "           0       0.96      0.98      0.97       980\n",
            "           1       0.97      0.98      0.97      1135\n",
            "           2       0.94      0.89      0.91      1032\n",
            "           3       0.90      0.92      0.91      1010\n",
            "           4       0.91      0.95      0.93       982\n",
            "           5       0.92      0.85      0.89       892\n",
            "           6       0.94      0.96      0.95       958\n",
            "           7       0.92      0.93      0.92      1028\n",
            "           8       0.86      0.90      0.88       974\n",
            "           9       0.92      0.89      0.91      1009\n",
            "\n",
            "    accuracy                           0.93     10000\n",
            "   macro avg       0.92      0.92      0.92     10000\n",
            "weighted avg       0.93      0.93      0.92     10000\n",
            "\n"
          ]
        }
      ]
    },
    {
      "cell_type": "markdown",
      "metadata": {
        "id": "WN-2s9C3In0-"
      },
      "source": [
        "#### Гиперпараметры, которые нужно подобрать\n",
        "- num_layers\n",
        "- hidden_dim\n",
        "- lr\n",
        "- p\n",
        "\n",
        "Воспользуемся Cross Validation для их подбора."
      ]
    },
    {
      "cell_type": "code",
      "metadata": {
        "id": "zczJgaLTEkf3"
      },
      "source": [
        "cross_val = KFold(3)\n",
        "number_of_batch = cross_val.get_n_splits(MNIST_train)\n",
        "\n",
        "grid = ParameterGrid({'num_layers': [0, 2], \n",
        "                      'hidden_dim': [8, 64],\n",
        "                      'p': [0.3, 0.7],\n",
        "                      'lr': [0.001]})\n",
        "\n",
        "X_train = MNIST_train.transform(MNIST_train.data.numpy()).transpose(0,1)\n",
        "Y_train = MNIST_train.targets.data"
      ],
      "execution_count": null,
      "outputs": []
    },
    {
      "cell_type": "code",
      "metadata": {
        "id": "Pd0js7cPJqse"
      },
      "source": [
        "scores = dict()\n",
        "for item in tqdm(grid):\n",
        "    list_of_scores = []\n",
        "    for train_index, test_index in tqdm(cross_val.split(X_train), \n",
        "                                        total=number_of_batch, leave=False):\n",
        "        x_train_fold = X_train[train_index]\n",
        "        x_test_fold = X_train[test_index]\n",
        "        y_train_fold = Y_train[train_index]\n",
        "        y_test_fold = Y_train[test_index]\n",
        "\n",
        "        traindata = torch.utils.data.TensorDataset(x_train_fold, y_train_fold)\n",
        "        testdata = torch.utils.data.TensorDataset(x_test_fold, y_test_fold)\n",
        "\n",
        "        model = Perceptron(num_layers=item['num_layers'], p=item['p'],\n",
        "                           hidden_dim=item['hidden_dim'])\n",
        "        model.to(device)\n",
        "        _ = model.train()\n",
        "        trainer(model=model, \n",
        "                dataset=traindata, \n",
        "                loss_function=torch.nn.CrossEntropyLoss(), \n",
        "                optimizer=torch.optim.Adam(model.parameters(), lr=item['lr']), \n",
        "                epochs=4)\n",
        "        \n",
        "        _ = model.eval()\n",
        "        acc, report = testing(model, testdata)\n",
        "        list_of_scores.append(acc)\n",
        "    scores[str(item)] = [np.mean(list_of_scores)]"
      ],
      "execution_count": null,
      "outputs": []
    },
    {
      "cell_type": "code",
      "metadata": {
        "colab": {
          "base_uri": "https://localhost:8080/"
        },
        "id": "WauMmtFvVfb9",
        "outputId": "2061a688-e5a6-4146-c928-035797a195f9"
      },
      "source": [
        "draw_table(scores)"
      ],
      "execution_count": null,
      "outputs": [
        {
          "name": "stdout",
          "output_type": "stream",
          "text": [
            "+------------------------------------------------------------+------------+\n",
            "|                                                            |    ACCURACY|\n",
            "+------------------------------------------------------------+------------+\n",
            "|   {'hidden_dim': 8, 'lr': 0.001, 'num_layers': 0, 'p': 0.3}|        0.92|\n",
            "+------------------------------------------------------------+------------+\n",
            "|   {'hidden_dim': 8, 'lr': 0.001, 'num_layers': 0, 'p': 0.7}|        0.92|\n",
            "+------------------------------------------------------------+------------+\n",
            "|   {'hidden_dim': 8, 'lr': 0.001, 'num_layers': 2, 'p': 0.3}|         0.8|\n",
            "+------------------------------------------------------------+------------+\n",
            "|   {'hidden_dim': 8, 'lr': 0.001, 'num_layers': 2, 'p': 0.7}|        0.59|\n",
            "+------------------------------------------------------------+------------+\n",
            "|  {'hidden_dim': 64, 'lr': 0.001, 'num_layers': 0, 'p': 0.3}|        0.92|\n",
            "+------------------------------------------------------------+------------+\n",
            "|  {'hidden_dim': 64, 'lr': 0.001, 'num_layers': 0, 'p': 0.7}|        0.92|\n",
            "+------------------------------------------------------------+------------+\n",
            "|  {'hidden_dim': 64, 'lr': 0.001, 'num_layers': 2, 'p': 0.3}|        0.95|\n",
            "+------------------------------------------------------------+------------+\n",
            "|  {'hidden_dim': 64, 'lr': 0.001, 'num_layers': 2, 'p': 0.7}|        0.91|\n",
            "+------------------------------------------------------------+------------+\n"
          ]
        }
      ]
    },
    {
      "cell_type": "markdown",
      "metadata": {
        "id": "rd4gmpzt5Vmq"
      },
      "source": [
        "## Прореживание нейросетей"
      ]
    },
    {
      "cell_type": "markdown",
      "metadata": {
        "id": "ekGrMhKj5Vmq"
      },
      "source": [
        "<img src=\"https://github.com/andriygav/MachineLearningSeminars/blob/master/sem3/fig3.png?raw=1\" alt=\"drawing\" width=\"400\"/>\n",
        "\n",
        "1 - Произвольное удаление параметров 2 - Optimal Brain Damage\n",
        "3 - Variational Method               4 - Удаление зависимых признаков\n",
        "\n",
        "* *Грабовой А.В., Бахтеев О.Ю., Стрижов В.В.* Определение релевантности параметровнейросети // Информатика и ее применения, 2019.\n",
        "* *Грабовой А.В., Бахтеев О. Ю., Стрижов В.В.* Введение отношения порядка на множествепараметров аппроксимирующих моделей // Информатика и ее применения, 2020."
      ]
    },
    {
      "cell_type": "markdown",
      "metadata": {
        "id": "uhbWXdrP5Vmq"
      },
      "source": [
        "<img src=\"https://github.com/andriygav/MachineLearningSeminars/blob/master/sem3/fig4.png?raw=1\" alt=\"drawing\" width=\"400\"/>\n",
        "\n",
        "1 - Произвольное удаление параметров 2 - Optimal Brain Damage\n",
        "3 - Variational Method               4 - Удаление зависимых признаков"
      ]
    },
    {
      "cell_type": "markdown",
      "metadata": {
        "id": "nKsJQivc3xSx"
      },
      "source": [
        "# Homework 3\n",
        "## Task 1\n",
        "Проделать то, что было на семинаре для выборки FashionMnist: подбор гиперпараметров модели (выполнить более подробно чем на семинаре), также провести анализ полученных результатов.\n"
      ]
    },
    {
      "cell_type": "code",
      "metadata": {
        "id": "5_p9vOww3196"
      },
      "source": [
        "FMNIST_train = datasets.FashionMNIST(\"./fminst_train\",\n",
        "                                     train=True,\n",
        "                                     transform=transforms.ToTensor(),\n",
        "                                     download=True)\n",
        "\n",
        "FMIST_test = datasets.FashionMNIST(\"./fminst_test\", \n",
        "                                   train=False,\n",
        "                                   transform=transforms.ToTensor(),\n",
        "                                   download=True)"
      ],
      "execution_count": null,
      "outputs": []
    },
    {
      "cell_type": "code",
      "metadata": {
        "colab": {
          "base_uri": "https://localhost:8080/"
        },
        "id": "9risxjl9TY3S",
        "outputId": "0e0ff4e1-f047-4cd8-a5cc-552a9092b9c9"
      },
      "source": [
        "# Определим размер выборок\n",
        "FMNIST_train.data.shape, FMIST_test.data.shape"
      ],
      "execution_count": null,
      "outputs": [
        {
          "output_type": "execute_result",
          "data": {
            "text/plain": [
              "(torch.Size([60000, 28, 28]), torch.Size([10000, 28, 28]))"
            ]
          },
          "metadata": {},
          "execution_count": 9
        }
      ]
    },
    {
      "cell_type": "code",
      "metadata": {
        "colab": {
          "base_uri": "https://localhost:8080/",
          "height": 269
        },
        "id": "LDsVR-v5TkJo",
        "outputId": "fd912165-aaaf-4443-a4ef-f4682493f949"
      },
      "source": [
        "# Рассмотрим несколько объектов из выборки:\n",
        "fig, gs = plt.figure(figsize=(19,4)), gridspec.GridSpec(1, 4)\n",
        "\n",
        "ax = []\n",
        "\n",
        "for i in range(4):\n",
        "    ax.append(fig.add_subplot(gs[i]))\n",
        "    ax[i].imshow(np.array(FMNIST_train[i][0][0]), 'gray')\n",
        "\n",
        "plt.show()"
      ],
      "execution_count": null,
      "outputs": [
        {
          "output_type": "display_data",
          "data": {
            "image/png": "[encoded data removed]",
            "text/plain": [
              "<matplotlib.figure.Figure at 0x7fb352dd6310>"
            ]
          },
          "metadata": {
            "needs_background": "light"
          }
        }
      ]
    },
    {
      "cell_type": "code",
      "metadata": {
        "colab": {
          "base_uri": "https://localhost:8080/"
        },
        "id": "_y_dO1sxUY45",
        "outputId": "b1ed5608-519c-4037-bb54-8473d3fe6e59"
      },
      "source": [
        "# Теперь определимся с количеством классов в выборке:\n",
        "\n",
        "print(f\"Total number of classes = {len(FMNIST_train.classes)}\")\n",
        "print(FMNIST_train.classes)"
      ],
      "execution_count": null,
      "outputs": [
        {
          "output_type": "stream",
          "name": "stdout",
          "text": [
            "Total number of classes = 10\n",
            "['T-shirt/top', 'Trouser', 'Pullover', 'Dress', 'Coat', 'Sandal', 'Shirt', 'Sneaker', 'Bag', 'Ankle boot']\n"
          ]
        }
      ]
    },
    {
      "cell_type": "markdown",
      "metadata": {
        "id": "GXe-l4bFVlJn"
      },
      "source": [
        "Теперь, когда мы имеем некоторое представление о нашем даатасете, можно попробовать обучить т.н. \"бейзлайн\" - модель, качество которой мы будем пытаться в дальнейшем превзойти."
      ]
    },
    {
      "cell_type": "code",
      "metadata": {
        "colab": {
          "base_uri": "https://localhost:8080/"
        },
        "id": "v5skccPlU9WQ",
        "outputId": "70e73a19-db1b-49f2-86e9-fe7db0e198e0"
      },
      "source": [
        "baseline = Perceptron(input_dim=784, # количество классов остается прежним\n",
        "                      num_layers=3, # соотвествующая теорема гласит, что такого числа классов достаточно.\n",
        "                      hidden_dim=42, # см. \"Автостопом по Галактике\"\n",
        "                      output_dim=10, # кол-во классов также остается прежним\n",
        "                      p=0.0) # для бейзлайна нет необходимости думать о регуляризации\n",
        "baseline.to(device=device)"
      ],
      "execution_count": null,
      "outputs": [
        {
          "output_type": "execute_result",
          "data": {
            "text/plain": [
              "Perceptron(\n",
              "  (layers): Sequential(\n",
              "    (layer0): Linear(in_features=784, out_features=42, bias=True)\n",
              "    (relu0): ReLU()\n",
              "    (dropout0): Dropout(p=0.0, inplace=False)\n",
              "    (layer1): Linear(in_features=42, out_features=42, bias=True)\n",
              "    (relu1): ReLU()\n",
              "    (dropout1): Dropout(p=0.0, inplace=False)\n",
              "    (layer2): Linear(in_features=42, out_features=42, bias=True)\n",
              "    (relu2): ReLU()\n",
              "    (dropout2): Dropout(p=0.0, inplace=False)\n",
              "    (classifier): Linear(in_features=42, out_features=10, bias=True)\n",
              "  )\n",
              ")"
            ]
          },
          "metadata": {},
          "execution_count": 14
        }
      ]
    },
    {
      "cell_type": "code",
      "metadata": {
        "id": "_gJ4S21aW4L-"
      },
      "source": [
        "# Не забываем переводить модель в режим обучения.\n",
        "# Хотя сейчас это фактически не играет никакой роли.\n",
        "\n",
        "baseline.train()\n",
        "trainer(model=baseline,\n",
        "        dataset=FMNIST_train,\n",
        "        loss_function=torch.nn.CrossEntropyLoss(),\n",
        "        optimizer=torch.optim.Adam(baseline.parameters(), lr=1e-3),\n",
        "        epochs=10)"
      ],
      "execution_count": null,
      "outputs": []
    },
    {
      "cell_type": "code",
      "metadata": {
        "colab": {
          "base_uri": "https://localhost:8080/"
        },
        "id": "1pLncHxZXtQ_",
        "outputId": "2b3d4381-159f-4aa8-948f-0760aeca802b"
      },
      "source": [
        "baseline.eval()\n",
        "\n",
        "acc, report = testing(baseline, FMIST_test)\n",
        "print(report)"
      ],
      "execution_count": null,
      "outputs": [
        {
          "output_type": "stream",
          "name": "stdout",
          "text": [
            "              precision    recall  f1-score   support\n",
            "\n",
            "           0       0.84      0.81      0.82      1000\n",
            "           1       0.99      0.96      0.97      1000\n",
            "           2       0.85      0.68      0.76      1000\n",
            "           3       0.86      0.90      0.88      1000\n",
            "           4       0.75      0.84      0.79      1000\n",
            "           5       0.95      0.95      0.95      1000\n",
            "           6       0.67      0.72      0.69      1000\n",
            "           7       0.96      0.90      0.93      1000\n",
            "           8       0.97      0.97      0.97      1000\n",
            "           9       0.91      0.97      0.94      1000\n",
            "\n",
            "    accuracy                           0.87     10000\n",
            "   macro avg       0.87      0.87      0.87     10000\n",
            "weighted avg       0.87      0.87      0.87     10000\n",
            "\n"
          ]
        }
      ]
    },
    {
      "cell_type": "markdown",
      "metadata": {
        "id": "H_6AsFsLY3FX"
      },
      "source": [
        "Итак, наша отправная точка - ACCURACY = 0.87. Посмотрим, насколько подбор гиперпараметров сможет помочь улучшить этот показатель."
      ]
    },
    {
      "cell_type": "code",
      "metadata": {
        "id": "qyH8hCMGXyqP"
      },
      "source": [
        "cross_val = KFold(5) # классическое значение для kfold\n",
        "number_of_batch = cross_val.get_n_splits(FMNIST_train)\n",
        "\n",
        "param_grid = ParameterGrid(\n",
        "    {'num_layers': [4, 5], \n",
        "    'hidden_dim': [42, 84],\n",
        "    'p': [0.2, 0.4],\n",
        "    'lr': [0.001]}\n",
        ")\n",
        "\n",
        "X_train = FMNIST_train.transform(FMNIST_train.data.numpy()).transpose(0, 1)\n",
        "Y_train = FMNIST_train.targets.data"
      ],
      "execution_count": null,
      "outputs": []
    },
    {
      "cell_type": "code",
      "metadata": {
        "id": "fsnjbekMZy4w"
      },
      "source": [
        "# Заметим, что дальше ничего переписывать не нужно - мы все переопределили.\n",
        "# А то значит, что настало время для copy&paste.\n",
        "\n",
        "scores = dict()\n",
        "for item in tqdm(param_grid):\n",
        "    list_of_scores = []\n",
        "    for train_index, test_index in tqdm(cross_val.split(X_train), \n",
        "                                        total=number_of_batch, leave=False):\n",
        "        x_train_fold = X_train[train_index]\n",
        "        x_test_fold = X_train[test_index]\n",
        "        y_train_fold = Y_train[train_index]\n",
        "        y_test_fold = Y_train[test_index]\n",
        "\n",
        "        traindata = torch.utils.data.TensorDataset(x_train_fold, y_train_fold)\n",
        "        testdata = torch.utils.data.TensorDataset(x_test_fold, y_test_fold)\n",
        "\n",
        "        model = Perceptron(num_layers=item['num_layers'], p=item['p'],\n",
        "                           hidden_dim=item['hidden_dim'])\n",
        "        model.to(device)\n",
        "        _ = model.train()\n",
        "        trainer(model=model, \n",
        "                dataset=traindata, \n",
        "                loss_function=torch.nn.CrossEntropyLoss(), \n",
        "                optimizer=torch.optim.Adam(model.parameters(), lr=item['lr']), \n",
        "                epochs=15)\n",
        "        \n",
        "        _ = model.eval()\n",
        "        acc, report = testing(model, testdata)\n",
        "        list_of_scores.append(acc)\n",
        "    scores[str(item)] = [np.mean(list_of_scores)]"
      ],
      "execution_count": null,
      "outputs": []
    },
    {
      "cell_type": "code",
      "metadata": {
        "id": "W_ZilzfiKUm8",
        "colab": {
          "base_uri": "https://localhost:8080/"
        },
        "outputId": "27f86510-445b-4ef8-e296-28712c0506f3"
      },
      "source": [
        "draw_table(scores)"
      ],
      "execution_count": null,
      "outputs": [
        {
          "metadata": {
            "tags": null
          },
          "name": "stdout",
          "output_type": "stream",
          "text": [
            "+------------------------------------------------------------+-----------+\n",
            "|                                                            |   ACCURACY|\n",
            "+------------------------------------------------------------+-----------+\n",
            "|  {'hidden_dim': 42, 'lr': 0.001, 'num_layers': 4, 'p': 0.2}|       0.87|\n",
            "+------------------------------------------------------------+-----------+\n",
            "|  {'hidden_dim': 42, 'lr': 0.001, 'num_layers': 4, 'p': 0.4}|       0.79|\n",
            "+------------------------------------------------------------+-----------+\n",
            "|  {'hidden_dim': 42, 'lr': 0.001, 'num_layers': 5, 'p': 0.2}|       0.86|\n",
            "+------------------------------------------------------------+-----------+\n",
            "|  {'hidden_dim': 42, 'lr': 0.001, 'num_layers': 5, 'p': 0.4}|       0.74|\n",
            "+------------------------------------------------------------+-----------+\n",
            "|  {'hidden_dim': 84, 'lr': 0.001, 'num_layers': 4, 'p': 0.2}|       0.88|\n",
            "+------------------------------------------------------------+-----------+\n",
            "|  {'hidden_dim': 84, 'lr': 0.001, 'num_layers': 4, 'p': 0.4}|       0.86|\n",
            "+------------------------------------------------------------+-----------+\n",
            "|  {'hidden_dim': 84, 'lr': 0.001, 'num_layers': 5, 'p': 0.2}|       0.88|\n",
            "+------------------------------------------------------------+-----------+\n",
            "|  {'hidden_dim': 84, 'lr': 0.001, 'num_layers': 5, 'p': 0.4}|       0.84|\n",
            "+------------------------------------------------------------+-----------+\n"
          ]
        }
      ]
    },
    {
      "cell_type": "markdown",
      "metadata": {
        "id": "JAtaq-EUbmrf"
      },
      "source": [
        "### Выводы:\n",
        "\n",
        "1. Видно, что dropout стабильно уменьшает качество. Абсолютно все попытки c p=0.4 получились хуже, чем с p=0.2.\n",
        "\n",
        "2. Количество слоев(5 или 4) не повлияло на качество.\n",
        "\n",
        "3. Лучшее качество получается при бОльшей размерности скрытого слоя."
      ]
    },
    {
      "cell_type": "markdown",
      "metadata": {
        "id": "kWr2rM9NdU5G"
      },
      "source": [
        "## Task 2\n",
        "Указать какие минусы вы увидели в подборе гиперпараметров на семинаре (их как минимум 3).\n",
        "\n",
        "1. Кажется, что все-таки 3-х фолдов мало для объективной оценки качества модели. Традиционное значение - 5, часто берут и больше.\n",
        "2. Достаточно неравномерная сетка параметров. Например, кол-во размерность внутреннего слоя может принимать всего два значения - 8 и 64. Иногда действительно важно оценить именно порядок величин, но для более аккуратной подгонки лучше использовать более равномерную сетку.\n",
        "3. Малое количество эпох. Поэтому архитекруты с бОльшим значением dropout не успевают обучиться.\n",
        "4. Никак не подбирается lr. А ведь чем больше архитектура, тем дольше и медленее необходимо ее учить.\n"
      ]
    }
  ]
}