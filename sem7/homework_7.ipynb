{
 "cells": [
  {
   "cell_type": "code",
   "execution_count": 1,
   "id": "impaired-compiler",
   "metadata": {
    "tags": []
   },
   "outputs": [
    {
     "name": "stdout",
     "output_type": "stream",
     "text": [
      "Requirement already satisfied: sentence_transformers in /home/serg/miniconda3/lib/python3.8/site-packages (2.1.0)\n",
      "Requirement already satisfied: torchvision in /home/serg/miniconda3/lib/python3.8/site-packages (from sentence_transformers) (0.9.0)\n",
      "Requirement already satisfied: transformers<5.0.0,>=4.6.0 in /home/serg/miniconda3/lib/python3.8/site-packages (from sentence_transformers) (4.7.0)\n",
      "Requirement already satisfied: scipy in /home/serg/miniconda3/lib/python3.8/site-packages (from sentence_transformers) (1.3.3)\n",
      "Requirement already satisfied: sentencepiece in /home/serg/miniconda3/lib/python3.8/site-packages (from sentence_transformers) (0.1.96)\n",
      "Requirement already satisfied: numpy in /home/serg/miniconda3/lib/python3.8/site-packages (from sentence_transformers) (1.18.5)\n",
      "Requirement already satisfied: scikit-learn in /home/serg/miniconda3/lib/python3.8/site-packages (from sentence_transformers) (0.23.2)\n",
      "Requirement already satisfied: huggingface-hub in /home/serg/miniconda3/lib/python3.8/site-packages (from sentence_transformers) (0.0.8)\n",
      "Requirement already satisfied: torch>=1.6.0 in /home/serg/miniconda3/lib/python3.8/site-packages (from sentence_transformers) (1.8.1)\n",
      "Requirement already satisfied: tqdm in /home/serg/miniconda3/lib/python3.8/site-packages (from sentence_transformers) (4.46.1)\n",
      "Requirement already satisfied: tokenizers>=0.10.3 in /home/serg/miniconda3/lib/python3.8/site-packages (from sentence_transformers) (0.10.3)\n",
      "Requirement already satisfied: nltk in /home/serg/miniconda3/lib/python3.8/site-packages (from sentence_transformers) (3.4.5)\n",
      "Requirement already satisfied: typing-extensions in /home/serg/miniconda3/lib/python3.8/site-packages (from torch>=1.6.0->sentence_transformers) (3.7.4.3)\n",
      "Requirement already satisfied: requests in /home/serg/miniconda3/lib/python3.8/site-packages (from transformers<5.0.0,>=4.6.0->sentence_transformers) (2.22.0)\n",
      "Requirement already satisfied: sacremoses in /home/serg/miniconda3/lib/python3.8/site-packages (from transformers<5.0.0,>=4.6.0->sentence_transformers) (0.0.35)\n",
      "Requirement already satisfied: packaging in /home/serg/miniconda3/lib/python3.8/site-packages (from transformers<5.0.0,>=4.6.0->sentence_transformers) (20.9)\n",
      "Requirement already satisfied: pyyaml in /home/serg/miniconda3/lib/python3.8/site-packages (from transformers<5.0.0,>=4.6.0->sentence_transformers) (5.4.1)\n",
      "Requirement already satisfied: regex!=2019.12.17 in /home/serg/miniconda3/lib/python3.8/site-packages (from transformers<5.0.0,>=4.6.0->sentence_transformers) (2021.3.17)\n",
      "Requirement already satisfied: filelock in /home/serg/miniconda3/lib/python3.8/site-packages (from transformers<5.0.0,>=4.6.0->sentence_transformers) (3.0.12)\n",
      "Requirement already satisfied: six in /home/serg/miniconda3/lib/python3.8/site-packages (from nltk->sentence_transformers) (1.15.0)\n",
      "Requirement already satisfied: pyparsing>=2.0.2 in /home/serg/miniconda3/lib/python3.8/site-packages (from packaging->transformers<5.0.0,>=4.6.0->sentence_transformers) (2.4.7)\n",
      "Requirement already satisfied: idna<2.9,>=2.5 in /home/serg/miniconda3/lib/python3.8/site-packages (from requests->transformers<5.0.0,>=4.6.0->sentence_transformers) (2.8)\n",
      "Requirement already satisfied: urllib3!=1.25.0,!=1.25.1,<1.26,>=1.21.1 in /home/serg/miniconda3/lib/python3.8/site-packages (from requests->transformers<5.0.0,>=4.6.0->sentence_transformers) (1.25.11)\n",
      "Requirement already satisfied: certifi>=2017.4.17 in /home/serg/miniconda3/lib/python3.8/site-packages (from requests->transformers<5.0.0,>=4.6.0->sentence_transformers) (2020.12.5)\n",
      "Requirement already satisfied: chardet<3.1.0,>=3.0.2 in /home/serg/miniconda3/lib/python3.8/site-packages (from requests->transformers<5.0.0,>=4.6.0->sentence_transformers) (3.0.4)\n",
      "Requirement already satisfied: joblib in /home/serg/miniconda3/lib/python3.8/site-packages (from sacremoses->transformers<5.0.0,>=4.6.0->sentence_transformers) (1.0.1)\n",
      "Requirement already satisfied: click in /home/serg/miniconda3/lib/python3.8/site-packages (from sacremoses->transformers<5.0.0,>=4.6.0->sentence_transformers) (7.1.2)\n",
      "Requirement already satisfied: threadpoolctl>=2.0.0 in /home/serg/miniconda3/lib/python3.8/site-packages (from scikit-learn->sentence_transformers) (2.1.0)\n",
      "Requirement already satisfied: pillow>=4.1.1 in /home/serg/miniconda3/lib/python3.8/site-packages (from torchvision->sentence_transformers) (8.1.2)\n",
      "Requirement already satisfied: samplesizelib in /home/serg/miniconda3/lib/python3.8/site-packages (0.0.4)\n",
      "Requirement already satisfied: scikit-learn==0.23.2 in /home/serg/miniconda3/lib/python3.8/site-packages (from samplesizelib) (0.23.2)\n",
      "Requirement already satisfied: scipy==1.3.3 in /home/serg/miniconda3/lib/python3.8/site-packages (from samplesizelib) (1.3.3)\n",
      "Requirement already satisfied: tqdm==4.46.1 in /home/serg/miniconda3/lib/python3.8/site-packages (from samplesizelib) (4.46.1)\n",
      "Requirement already satisfied: numpy==1.18.5 in /home/serg/miniconda3/lib/python3.8/site-packages (from samplesizelib) (1.18.5)\n",
      "Requirement already satisfied: joblib>=0.11 in /home/serg/miniconda3/lib/python3.8/site-packages (from scikit-learn==0.23.2->samplesizelib) (1.0.1)\n",
      "Requirement already satisfied: threadpoolctl>=2.0.0 in /home/serg/miniconda3/lib/python3.8/site-packages (from scikit-learn==0.23.2->samplesizelib) (2.1.0)\n"
     ]
    }
   ],
   "source": [
    "!pip install sentence_transformers\n",
    "!pip install samplesizelib"
   ]
  },
  {
   "cell_type": "code",
   "execution_count": 2,
   "id": "approximate-central",
   "metadata": {},
   "outputs": [],
   "source": [
    "import warnings\n",
    "warnings.filterwarnings(\"ignore\")"
   ]
  },
  {
   "cell_type": "code",
   "execution_count": 16,
   "id": "distributed-ethiopia",
   "metadata": {},
   "outputs": [],
   "source": [
    "import matplotlib.pyplot as plt\n",
    "from matplotlib.image import imread\n",
    "from mpl_toolkits import mplot3d\n",
    "from matplotlib import gridspec\n",
    "from mlxtend.plotting import plot_decision_regions\n",
    "import seaborn as sns\n",
    "import pandas as pd\n",
    "from tqdm.notebook import tqdm\n",
    "import time\n",
    "import os\n",
    "\n",
    "from scipy.special import softmax\n",
    "from scipy.spatial.distance import cdist\n",
    "import numpy as np\n",
    "import torch\n",
    "    \n",
    "from sklearn.preprocessing import StandardScaler\n",
    "from sklearn.svm import SVC, SVR\n",
    "from sklearn.linear_model import LogisticRegression\n",
    "from sklearn.metrics import classification_report\n",
    "from sklearn.model_selection import KFold, ParameterGrid\n",
    "from sklearn.datasets import make_classification, make_regression\n",
    "from sklearn.model_selection import train_test_split\n",
    "\n",
    "from sklearn.decomposition import PCA\n",
    "\n",
    "from sentence_transformers import SentenceTransformer\n",
    "\n",
    "from samplesizelib.linear.statistical import LikelihoodRatioEstimator\n",
    "from samplesizelib.linear.models import RegressionModel\n",
    "\n",
    "from torchvision import datasets\n",
    "from torchvision import transforms"
   ]
  },
  {
   "cell_type": "markdown",
   "id": "wanted-disabled",
   "metadata": {
    "id": "295SPV-50n1N"
   },
   "source": [
    "# Homework\n",
    "**Task** : Использовать модель для векторизации предложений из семинара. На основе полученных векторов решить задачу сентимент анализа для выборки Twitter (задача бинарной классификации). В качестве модели рассмотреть логистическую регрессию. Рекомендуется использовать модель Perceptron с третьего семинара, а также функцию ошибки torch.nn.BCELoss. \n",
    "\n",
    "# Данные\n"
   ]
  },
  {
   "cell_type": "code",
   "execution_count": 4,
   "id": "practical-consciousness",
   "metadata": {
    "colab": {
     "base_uri": "https://localhost:8080/",
     "height": 238
    },
    "id": "jDzLuQrC0ujY",
    "outputId": "e9dfd81d-a838-449d-b0eb-37bfbc34bd11"
   },
   "outputs": [],
   "source": [
    "# data = pd.read_csv(\"data/Sentiment Analysis Dataset.csv\", error_bad_lines=False)\n",
    "\n",
    "# data.head(5)"
   ]
  },
  {
   "cell_type": "code",
   "execution_count": 5,
   "id": "express-tutorial",
   "metadata": {
    "colab": {
     "base_uri": "https://localhost:8080/"
    },
    "id": "-E5xxgKG1Dvr",
    "outputId": "cbde4c10-ec66-4320-c4b4-58dc6a7dbd69"
   },
   "outputs": [],
   "source": [
    "# x, y = data.SentimentText, data.Sentiment # for now we will take only 1% of original dataset due to computation difficulties\n",
    "\n",
    "# x_train, x_test, y_train, y_test = train_test_split(x, y, test_size=0.2)\n",
    "\n",
    "# x_train.shape, x_test.shape"
   ]
  },
  {
   "cell_type": "code",
   "execution_count": 6,
   "id": "internal-month",
   "metadata": {
    "id": "GqqFc4x921cP"
   },
   "outputs": [],
   "source": [
    "# Sentences to vectors\n",
    "\n",
    "# vectorizer = SentenceTransformer('LaBSE', device='cuda', cache_folder='vectorizer_params/')\n",
    "# X_train = vectorizer.encode(x_train.to_list())\n",
    "# X_test = vectorizer.encode(x_test.to_list())\n",
    "\n",
    "# Y_train = y_train.to_numpy().astype(np.byte)\n",
    "# Y_test = y_test.to_numpy().astype(np.byte)\n",
    "\n",
    "# # save to files\n",
    "\n",
    "# np.save(file='data/train_vectors_full', arr=X_train.astype(np.float16))\n",
    "# np.save(file='data/test_vectors_full', arr=X_test.astype(np.float16))\n",
    "\n",
    "# np.save(file='data/target_train_full', arr=Y_train)\n",
    "# np.save(file='data/target_test_full', arr=Y_test)"
   ]
  },
  {
   "cell_type": "code",
   "execution_count": 7,
   "id": "integrated-bloom",
   "metadata": {
    "colab": {
     "base_uri": "https://localhost:8080/"
    },
    "id": "i6Eu8-Rb-lI_",
    "outputId": "4ba4307e-5585-44a4-de62-d12833f886e8"
   },
   "outputs": [
    {
     "data": {
      "text/plain": [
       "((1262889, 768), (315723, 768), (1262889,), (315723,))"
      ]
     },
     "execution_count": 7,
     "metadata": {},
     "output_type": "execute_result"
    }
   ],
   "source": [
    "X_train = np.load(\"data/train_vectors_full.npy\")\n",
    "X_test = np.load(\"data/test_vectors_full.npy\")\n",
    "\n",
    "Y_train = np.load('data/target_train_full.npy')\n",
    "Y_test = np.load('data/target_test_full.npy')\n",
    "\n",
    "X_train.shape, X_test.shape, Y_train.shape, Y_test.shape"
   ]
  },
  {
   "cell_type": "code",
   "execution_count": 8,
   "id": "brief-wiring",
   "metadata": {
    "colab": {
     "base_uri": "https://localhost:8080/"
    },
    "id": "_kCp9oqpHIQ7",
    "outputId": "b68a45ca-dae8-47e6-89b8-5aab76e9c9ac"
   },
   "outputs": [
    {
     "data": {
      "text/plain": [
       "(dtype('int8'), dtype('int8'))"
      ]
     },
     "execution_count": 8,
     "metadata": {},
     "output_type": "execute_result"
    }
   ],
   "source": [
    "Y_train.dtype, Y_test.dtype"
   ]
  },
  {
   "cell_type": "markdown",
   "id": "anonymous-spyware",
   "metadata": {
    "id": "1IlREddp-wQt",
    "tags": []
   },
   "source": [
    "По-хорошему мы должны были бы использовать K-Fold, чтобы получить объективную оценку качества и отобрать гиперпараметры, а затем измериить качество работы на тесте. Однако, мы имеем дело с достаточно большим датасетом (1.2 М train и 0.3 M тест). K-Fold на выборке такого размера даже при небольшой архитектуре займет много времени. Поэтому мы будем использовать обычный train/val split. В силу размера выборки, оценка качества и при таком подходе должна быть достаточно объективной."
   ]
  },
  {
   "cell_type": "code",
   "execution_count": 25,
   "id": "mineral-sphere",
   "metadata": {},
   "outputs": [
    {
     "data": {
      "text/plain": [
       "(torch.Size([1136600, 768]), torch.Size([126289, 768]))"
      ]
     },
     "execution_count": 25,
     "metadata": {},
     "output_type": "execute_result"
    }
   ],
   "source": [
    "x_train_fold, x_val_fold, y_train_fold, y_val_fold = train_test_split(X_train, Y_train, test_size=0.1)\n",
    "\n",
    "\n",
    "x_train_fold = torch.Tensor(x_train_fold)\n",
    "x_val_fold = torch.Tensor(x_val_fold)\n",
    "y_train_fold = torch.FloatTensor(y_train_fold)\n",
    "y_val_fold = torch.FloatTensor(y_val_fold)\n",
    "\n",
    "traindata = torch.utils.data.TensorDataset(x_train_fold, y_train_fold)\n",
    "valdata = torch.utils.data.TensorDataset(x_val_fold, y_val_fold)\n",
    "\n",
    "test_dataset = torch.utils.data.TensorDataset(torch.Tensor(X_test), torch.FloatTensor(Y_test))\n",
    "\n",
    "x_train_fold.shape, x_val_fold.shape"
   ]
  },
  {
   "cell_type": "markdown",
   "id": "owned-remedy",
   "metadata": {
    "id": "3ys3_Wwi3iEs"
   },
   "source": [
    "## Model side\n",
    "\n",
    "В качестве модели рассмотрим перцептрон из семинара 3."
   ]
  },
  {
   "cell_type": "code",
   "execution_count": 10,
   "id": "organized-sphere",
   "metadata": {
    "id": "W81q8QDtFk5t"
   },
   "outputs": [],
   "source": [
    "INPUT_DIM = 768"
   ]
  },
  {
   "cell_type": "code",
   "execution_count": 11,
   "id": "norman-providence",
   "metadata": {
    "colab": {
     "base_uri": "https://localhost:8080/"
    },
    "id": "CDDsbADxFPMG",
    "outputId": "0602b7cc-6ace-4212-974f-d3a4f4e6dd63"
   },
   "outputs": [],
   "source": [
    "device = torch.device(\"cuda\" if torch.cuda.is_available() else \"cpu\")\n",
    "# device = 'cpu'"
   ]
  },
  {
   "cell_type": "code",
   "execution_count": 12,
   "id": "arabic-public",
   "metadata": {
    "id": "Bo59vWmh3i3A"
   },
   "outputs": [],
   "source": [
    "class Perceptron(torch.nn.Module):\n",
    "    @property\n",
    "    def device(self):\n",
    "        for p in self.parameters():\n",
    "            return p.device\n",
    "\n",
    "    def __init__(self, input_dim=INPUT_DIM, num_layers=0, \n",
    "                 hidden_dim=100, output_dim=1, p=0.0):\n",
    "        super(Perceptron, self).__init__()\n",
    "        \n",
    "        self.layers = torch.nn.Sequential()\n",
    "        \n",
    "        prev_size = input_dim\n",
    "        for i in range(num_layers):\n",
    "            self.layers.add_module('layer{}'.format(i), \n",
    "                                  torch.nn.Linear(prev_size, hidden_dim))\n",
    "            self.layers.add_module('relu{}'.format(i), torch.nn.ReLU())\n",
    "            self.layers.add_module('dropout{}'.format(i), torch.nn.Dropout(p=p))\n",
    "            prev_size = hidden_dim\n",
    "        \n",
    "        self.layers.add_module('classifier', \n",
    "                               torch.nn.Linear(prev_size, output_dim))        \n",
    "        \n",
    "    def forward(self, input):\n",
    "        return self.layers(input)"
   ]
  },
  {
   "cell_type": "code",
   "execution_count": 13,
   "id": "usual-facing",
   "metadata": {
    "id": "zWb7CrfYNYkt"
   },
   "outputs": [],
   "source": [
    "from IPython.display import clear_output\n",
    "\n",
    "\n",
    "def testing_binary(model, dataset):\n",
    "    generator = torch.utils.data.DataLoader(dataset, batch_size=51200)\n",
    "\n",
    "    pred = []\n",
    "    real = []\n",
    "    for x, y in generator:\n",
    "        x = x.to(device)\n",
    "\n",
    "        pred.extend((model(x).squeeze() >= 0).cpu().numpy().tolist())\n",
    "        real.extend(y.cpu().numpy().tolist())\n",
    "\n",
    "    return np.mean(np.array(real) == np.array(pred)), \\\n",
    "           classification_report(real, pred)\n",
    "\n",
    "\n",
    "def trainer(model, dataset, loss_function, optimizer, epochs, val_data=None):\n",
    "    loss_history = []\n",
    "    acc_history = []\n",
    "    \n",
    "    for epoch in tqdm(range(epochs), leave=False):\n",
    "        generator = torch.utils.data.DataLoader(dataset, batch_size=51200, \n",
    "                                              shuffle=True)\n",
    "        \n",
    "        model.train()\n",
    "        for x, y in generator:\n",
    "            optimizer.zero_grad()\n",
    "            x = x.to(device)\n",
    "            y = y.to(device)\n",
    "\n",
    "            output = model(x)\n",
    "            loss = loss_function(output.squeeze(), y)\n",
    "            loss.backward()\n",
    "            optimizer.step()\n",
    "            \n",
    "            loss_history.append(loss.data.cpu().numpy())\n",
    "        \n",
    "        model.eval()\n",
    "        acc, _ = testing_binary(model, val_data)\n",
    "        acc_history.append(acc)\n",
    "        clear_output(True)\n",
    "\n",
    "        # print intermediate results\n",
    "        plt.subplots(1, 2)\n",
    "        \n",
    "        plt.subplot(1, 2, 1)\n",
    "        plt.plot(loss_history)\n",
    "    \n",
    "        plt.subplot(1, 2, 2)\n",
    "        plt.plot(acc_history)\n",
    "        \n",
    "        time.sleep(0.1)\n",
    "        plt.pause(0.0001)"
   ]
  },
  {
   "cell_type": "markdown",
   "id": "necessary-diploma",
   "metadata": {},
   "source": [
    "В силу опять же большой выборки, неплохо иметь априорное представление о том, что мы получим на выходе перед hyperparameter tuning. Для этого мы воспользуемся baseline моделью, гиперпараметры которой выбраны умозрительно."
   ]
  },
  {
   "cell_type": "code",
   "execution_count": 11,
   "id": "chubby-harvest",
   "metadata": {},
   "outputs": [],
   "source": [
    "baseline_model = Perceptron(hidden_dim=200, num_layers=5, p=0.1).to(device)\n",
    "optimizer = torch.optim.Adam(baseline_model.parameters(), lr=1e-4)"
   ]
  },
  {
   "cell_type": "code",
   "execution_count": 12,
   "id": "greek-start",
   "metadata": {
    "tags": []
   },
   "outputs": [
    {
     "data": {
      "image/png": "[encoded data removed]",
      "text/plain": [
       "<Figure size 432x288 with 2 Axes>"
      ]
     },
     "metadata": {
      "needs_background": "light"
     },
     "output_type": "display_data"
    }
   ],
   "source": [
    "baseline_model.train()\n",
    "\n",
    "trainer(baseline_model,\n",
    "        traindata,\n",
    "        torch.nn.BCEWithLogitsLoss(),\n",
    "        optimizer,\n",
    "        epochs=1000,\n",
    "        val_data=valdata)"
   ]
  },
  {
   "cell_type": "code",
   "execution_count": 13,
   "id": "extreme-opposition",
   "metadata": {},
   "outputs": [],
   "source": [
    "\n",
    "\n",
    "acc, report = testing_binary(baseline_model, test_dataset)"
   ]
  },
  {
   "cell_type": "code",
   "execution_count": 14,
   "id": "legal-following",
   "metadata": {},
   "outputs": [
    {
     "data": {
      "text/plain": [
       "0.8024787551112843"
      ]
     },
     "execution_count": 14,
     "metadata": {},
     "output_type": "execute_result"
    }
   ],
   "source": [
    "acc"
   ]
  },
  {
   "cell_type": "code",
   "execution_count": 17,
   "id": "animated-quilt",
   "metadata": {},
   "outputs": [],
   "source": [
    "# save model weights\n",
    "baseline_model.eval()\n",
    "torch.save(baseline_model.state_dict(), \"models/baseline.pth\")"
   ]
  },
  {
   "cell_type": "markdown",
   "id": "aware-subcommittee",
   "metadata": {},
   "source": [
    "**Замечание:** видно, что качество на тесте хорошо совпадает с качеством на валидационной выборке. Таким образом, предположение о достаточности простой валидации обосновано.\n",
    "\n",
    "Из графиков выше и полученного качества можно сделать следующие выводы:\n",
    "- Делать сеть глубже или шире смысла нет, так как несмотря на объем выборки, она все равно переобучается.\n",
    "- Количество эпох не имеет смысла делать больше 200, далее модель начинает переобучаться.\n",
    "- lr подобран оптимально, модель и не учится слишком быстро, и не слишком медленно.\n",
    "- dropout можно увеличить.\n",
    "\n",
    "### Cross val и grid search\n",
    "Делать глубокий grid search смысла нет в силу большого времени. Поэтому мы немного поэкспериментируем с шириной сети и параметром **p** у Dropout, а остальные параметры (кроме количества эпох) оставим теми же."
   ]
  },
  {
   "cell_type": "code",
   "execution_count": 14,
   "id": "present-worst",
   "metadata": {},
   "outputs": [],
   "source": [
    "param_grid = ParameterGrid(\n",
    "    {'hid_dim': [200, 250],\n",
    "    'p': [0.3, 0.6]})"
   ]
  },
  {
   "cell_type": "code",
   "execution_count": 15,
   "id": "worth-representative",
   "metadata": {},
   "outputs": [
    {
     "data": {
      "image/png": "[encoded data removed]",
      "text/plain": [
       "<Figure size 432x288 with 2 Axes>"
      ]
     },
     "metadata": {
      "needs_background": "light"
     },
     "output_type": "display_data"
    },
    {
     "name": "stdout",
     "output_type": "stream",
     "text": [
      "\n"
     ]
    }
   ],
   "source": [
    "for item in tqdm(param_grid):    \n",
    "    model = Perceptron(input_dim=INPUT_DIM, hidden_dim=item['hid_dim'], num_layers=5, p=item['p']).to(device)\n",
    "    optimizer = torch.optim.Adam(model.parameters(), lr=1e-4)\n",
    "        \n",
    "    trainer(model, traindata, torch.nn.BCEWithLogitsLoss(), optimizer, epochs=200, val_data=valdata)\n",
    "    \n",
    "    torch.save(model.state_dict(), f\"models/perc_hid_dim_{item['hid_dim']}_p_{item['p']}\")"
   ]
  },
  {
   "cell_type": "markdown",
   "id": "administrative-admission",
   "metadata": {},
   "source": [
    "Теперь оценим качество каждой из имеющихся моделей."
   ]
  },
  {
   "cell_type": "code",
   "execution_count": 21,
   "id": "spread-handle",
   "metadata": {},
   "outputs": [],
   "source": [
    "path = \"models/\"\n",
    "# model_names = os.listdir(path)\n",
    "model_names = ['baseline.pth',\n",
    " 'perc_hid_dim_200_p_0.3.pth',\n",
    " 'perc_hid_dim_200_p_0.6.pth',\n",
    " 'perc_hid_dim_250_p_0.3.pth',\n",
    " 'perc_hid_dim_250_p_0.6.pth']"
   ]
  },
  {
   "cell_type": "code",
   "execution_count": 28,
   "id": "dutch-resistance",
   "metadata": {},
   "outputs": [],
   "source": [
    "accs = {}\n",
    "\n",
    "for name in model_names:\n",
    "    if '250' in name:\n",
    "        model = Perceptron(input_dim=INPUT_DIM, hidden_dim=250, num_layers=5).to(device)\n",
    "    else:\n",
    "        model = Perceptron(input_dim=INPUT_DIM, hidden_dim=200, num_layers=5).to(device)\n",
    "    \n",
    "    model.load_state_dict(torch.load(path + name))\n",
    "    model.eval()\n",
    "    \n",
    "    acc, _ = testing_binary(model, valdata)\n",
    "    \n",
    "    accs[name] = acc"
   ]
  },
  {
   "cell_type": "code",
   "execution_count": 29,
   "id": "requested-microphone",
   "metadata": {},
   "outputs": [
    {
     "data": {
      "text/plain": [
       "{'baseline.pth': 0.8807655456928157,\n",
       " 'perc_hid_dim_200_p_0.3.pth': 0.8369295821488807,\n",
       " 'perc_hid_dim_200_p_0.6.pth': 0.8295021735859813,\n",
       " 'perc_hid_dim_250_p_0.3.pth': 0.8405245112400922,\n",
       " 'perc_hid_dim_250_p_0.6.pth': 0.8310541694050947}"
      ]
     },
     "execution_count": 29,
     "metadata": {},
     "output_type": "execute_result"
    }
   ],
   "source": [
    "accs"
   ]
  },
  {
   "cell_type": "code",
   "execution_count": 39,
   "id": "loving-packet",
   "metadata": {},
   "outputs": [
    {
     "name": "stdout",
     "output_type": "stream",
     "text": [
      "best_accuracy = 0.8170579907070439\n",
      "               precision    recall  f1-score   support\n",
      "\n",
      "         0.0       0.82      0.81      0.82    158085\n",
      "         1.0       0.81      0.82      0.82    157638\n",
      "\n",
      "    accuracy                           0.82    315723\n",
      "   macro avg       0.82      0.82      0.82    315723\n",
      "weighted avg       0.82      0.82      0.82    315723\n",
      "\n"
     ]
    }
   ],
   "source": [
    "best_model = Perceptron(input_dim=INPUT_DIM, hidden_dim=250, num_layers=5).to(device)\n",
    "best_model.load_state_dict(torch.load('models/perc_hid_dim_250_p_0.3.pth'))\n",
    "\n",
    "best_model.eval()\n",
    "acc, report = testing_binary(best_model, test_dataset)\n",
    "print(f\"best_accuracy = {acc}\\n\", report)"
   ]
  },
  {
   "cell_type": "markdown",
   "id": "dominican-variable",
   "metadata": {},
   "source": [
    "Как видно, лучшая модель превзошла baseline на почти на 2%, что очень даже неплохо. Лучший результат на валидационной выборке показала модель с **p=0.3** и **hid_dim=250**, то есть модель с лучшей обобщающей способностью (и наиболее склонная к overfitting'у).\n",
    "\n",
    "Стоит отметить, что все-таки результат на тесте и валидации немного отличаются -- мы \"подогнали\" модели под валидационную выборку. Однако отличие не очень большое, так что в целом алгоритм можно считать валидным.\n",
    "\n",
    "**P.S.** не могу сказать, с чем связано столь высокое качество baseline на валидации (0.88). Скорее всего, это связано с перезапуском процесса обучения и изменением разбиения на train/val. Однако разбиение Train/Test было постоянным, и конечный результат на тесте можно считать валидным."
   ]
  }
 ],
 "metadata": {
  "kernelspec": {
   "display_name": "Python 3",
   "language": "python",
   "name": "python3"
  },
  "language_info": {
   "codemirror_mode": {
    "name": "ipython",
    "version": 3
   },
   "file_extension": ".py",
   "mimetype": "text/x-python",
   "name": "python",
   "nbconvert_exporter": "python",
   "pygments_lexer": "ipython3",
   "version": "3.8.5"
  }
 },
 "nbformat": 4,
 "nbformat_minor": 5
}
