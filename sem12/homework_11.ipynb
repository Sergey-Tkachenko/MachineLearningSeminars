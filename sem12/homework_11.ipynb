{
 "cells": [
  {
   "cell_type": "markdown",
   "id": "downtown-healthcare",
   "metadata": {
    "id": "s3qWY0M5LA6r",
    "slideshow": {
     "slide_type": "slide"
    }
   },
   "source": [
    "## Библиотеки"
   ]
  },
  {
   "cell_type": "code",
   "execution_count": 57,
   "id": "referenced-delivery",
   "metadata": {
    "id": "K2_VhyWeteMB",
    "slideshow": {
     "slide_type": "subslide"
    }
   },
   "outputs": [],
   "source": [
    "import matplotlib.pyplot as plt\n",
    "from matplotlib.image import imread\n",
    "from mpl_toolkits import mplot3d\n",
    "from copy import deepcopy\n",
    "from mlxtend.plotting import plot_decision_regions\n",
    "import seaborn as sns\n",
    "import pandas as pd\n",
    "from tqdm.notebook import tqdm\n",
    "from scipy.spatial.distance import cdist\n",
    "import numpy as np\n",
    "from sklearn import tree, base\n",
    "import itertools\n",
    "from sklearn.tree import DecisionTreeClassifier, DecisionTreeRegressor\n",
    "from sklearn.ensemble import (RandomForestClassifier, AdaBoostClassifier, \n",
    "                              GradientBoostingClassifier, BaggingClassifier)\n",
    "from sklearn.svm import SVC, SVR\n",
    "from sklearn.linear_model import LogisticRegression, LinearRegression\n",
    "from sklearn.metrics import classification_report, roc_auc_score, roc_curve\n",
    "from sklearn.model_selection import KFold, ParameterGrid\n",
    "from sklearn.model_selection import cross_val_score, RepeatedStratifiedKFold, RepeatedKFold\n",
    "from sklearn.datasets import make_classification, make_regression, load_wine, load_boston\n",
    "from sklearn.model_selection import train_test_split\n",
    "from sklearn.decomposition import PCA\n",
    "from sklearn.metrics import mean_squared_error, r2_score\n",
    "from torchvision import datasets, transforms\n",
    "import torch\n",
    "\n",
    "import xgboost as xgb\n",
    "from catboost import CatBoostClassifier\n",
    "import lightgbm as lgb"
   ]
  },
  {
   "cell_type": "markdown",
   "id": "municipal-pressing",
   "metadata": {},
   "source": [
    "# Домашнее задание\n",
    "\n",
    "**Objective**: Реализовать комитетный бустинг для задачи регрессии.\n",
    "\n",
    "Фактически, будет тот же код, что и для GBR из семинара, однако теперь мы будем сортировать объекты по величине отклонения и брать те, что находятся в середине.\n",
    "\n"
   ]
  },
  {
   "cell_type": "code",
   "execution_count": null,
   "id": "rubber-parallel",
   "metadata": {},
   "outputs": [],
   "source": [
    "class ComBoostRegressor(object):\n",
    "    def __init__(self, base_estimator=None, n_estimators=10):\n",
    "        self.n_estimators = n_estimators\n",
    "        self.base_estimator = DecisionTreeRegressor(max_depth=1)\n",
    "        if base_estimator:\n",
    "            self.base_estimator = base_estimator\n",
    "            \n",
    "        self.b = [base.clone(self.base_estimator) for _ in range(self.n_estimators)]\n",
    "        \n",
    "    def get_params(self, deep=True):\n",
    "        return {'n_estimators': self.n_estimators, \n",
    "                'base_estimator': self.base_estimator}\n",
    "    \n",
    "    def score(self, X, Y):\n",
    "        return r2_score(Y, self.predict(X))\n",
    "    \n",
    "    def predict(self, X):\n",
    "        return np.sum([elem.predict(X) for elem in self.b], axis=0)\n",
    "    \n",
    "    def fit(self, X, Y, l0=0, l1=100, l2=None, dl=100):\n",
    "        if l2 is None:\n",
    "            l2 = len(X)\n",
    "        \n",
    "        # learn t-th model to predict difference btw predict and target\n",
    "        residual = Y.copy()\n",
    "        for t, b in enumerate(self.b):\n",
    "            if t == 0:\n",
    "                b.fit(X, residual)\n",
    "                residual = Y  - b.predict(X)\n",
    "            else:\n",
    "                sorted_ids = np.argsort(residual ** 2)\n",
    "                # sort objects with respect to value of residual\n",
    "                X_sorted = X[sorted_ids]\n",
    "                residual_sorted = residual[sorted_ids]\n",
    "                \n",
    "                dict_of_param = []\n",
    "                \n",
    "                for k in range(l1, l2, dl):\n",
    "                    new_item = {'l0': l0, 'k': k}\n",
    "                    \n",
    "                    # fit local t-th estimator\n",
    "                    local_b = base.clone(self.base_estimator)\n",
    "                    local_b.fit(X_sorted[l0:k], residual_sorted[l0:k])\n",
    "                    \n",
    "                    # update res\n",
    "                    local_pred = local_b.predict(X)\n",
    "                    new_res = residual_sorted - local_pred\n",
    "                    \n",
    "                    new_item['Q'] = np.mean(new_res ** 2)\n",
    "                    dict_of_param.append(new_item)\n",
    "                \n",
    "                # take object btw best boundaries\n",
    "                element = sorted(dict_of_param, key=lambda x: x['Q'])[0]\n",
    "                b.fit(X_sorted[element['l0']: element['k']],\n",
    "                      residual_sorted[element['l0']: element['k']])\n",
    "                \n",
    "                # update residual\n",
    "                residual = residual - b.predict(X)\n",
    "                "
   ]
  },
  {
   "cell_type": "markdown",
   "id": "useful-cylinder",
   "metadata": {},
   "source": [
    "Сгенерируем выборку:"
   ]
  },
  {
   "cell_type": "code",
   "execution_count": null,
   "id": "compatible-payroll",
   "metadata": {},
   "outputs": [],
   "source": [
    "X, y = make_regression(n_samples=1000, n_features=20, random_state=6)"
   ]
  },
  {
   "cell_type": "markdown",
   "id": "immune-steal",
   "metadata": {},
   "source": [
    "Рассмотрим наш алгоритм в сравнении с различными базовыми алгоритамами.\n",
    "\n",
    "## DecisionTree"
   ]
  },
  {
   "cell_type": "code",
   "execution_count": 95,
   "id": "minute-cookbook",
   "metadata": {},
   "outputs": [
    {
     "name": "stdout",
     "output_type": "stream",
     "text": [
      "SCORE: 0.46 (0.07)\n"
     ]
    }
   ],
   "source": [
    "X, y = make_regression(n_samples=1000, n_features=20, random_state=6)\n",
    "model = DecisionTreeRegressor(max_depth=3)\n",
    "\n",
    "cv = RepeatedKFold(n_splits=10, n_repeats=3, random_state=1)\n",
    "n_scores = cross_val_score(model, X, y, cv=cv, n_jobs=-1)\n",
    "print('SCORE: %.2f (%.2f)' % (np.mean(n_scores), np.std(n_scores)))"
   ]
  },
  {
   "cell_type": "markdown",
   "id": "stylish-complaint",
   "metadata": {},
   "source": [
    "В ходе экспрериментов было установлено, что, как ни странно, лучше всего себя показывают решающие пни, т.е. деревья с глубиной 1:"
   ]
  },
  {
   "cell_type": "code",
   "execution_count": 96,
   "id": "metropolitan-watson",
   "metadata": {},
   "outputs": [
    {
     "name": "stdout",
     "output_type": "stream",
     "text": [
      "SCORE: 0.90 (0.06)\n"
     ]
    }
   ],
   "source": [
    "X, y = make_regression(n_samples=1000, n_features=20, random_state=6)\n",
    "model = ComBoostRegressor(DecisionTreeRegressor(max_depth=1), n_estimators=1000)\n",
    "\n",
    "n_scores = cross_val_score(model, X, y, cv=cv, n_jobs=-1)\n",
    "print('SCORE: %.2f (%.2f)' % (np.mean(n_scores), np.std(n_scores)))"
   ]
  },
  {
   "cell_type": "markdown",
   "id": "professional-cameroon",
   "metadata": {},
   "source": [
    "Для сравнения, качество дерева с глубиной 20:"
   ]
  },
  {
   "cell_type": "code",
   "execution_count": 104,
   "id": "pursuant-things",
   "metadata": {},
   "outputs": [
    {
     "name": "stdout",
     "output_type": "stream",
     "text": [
      "SCORE: 0.57 (0.07)\n"
     ]
    }
   ],
   "source": [
    "model = DecisionTreeRegressor(max_depth=20)\n",
    "\n",
    "n_scores = cross_val_score(model, X, y, cv=cv, n_jobs=-1)\n",
    "print('SCORE: %.2f (%.2f)' % (np.mean(n_scores), np.std(n_scores)))"
   ]
  },
  {
   "cell_type": "markdown",
   "id": "african-sodium",
   "metadata": {},
   "source": [
    "## SVM"
   ]
  },
  {
   "cell_type": "code",
   "execution_count": 99,
   "id": "manual-macedonia",
   "metadata": {},
   "outputs": [
    {
     "name": "stdout",
     "output_type": "stream",
     "text": [
      "SCORE: 0.11 (0.01)\n"
     ]
    }
   ],
   "source": [
    "model = SVR(kernel='rbf')\n",
    "\n",
    "n_scores = cross_val_score(model, X, y, cv=cv, n_jobs=-1)\n",
    "print('SCORE: %.2f (%.2f)' % (np.mean(n_scores), np.std(n_scores)))"
   ]
  },
  {
   "cell_type": "code",
   "execution_count": 105,
   "id": "unusual-upper",
   "metadata": {},
   "outputs": [
    {
     "name": "stdout",
     "output_type": "stream",
     "text": [
      "SCORE: 0.50 (0.15)\n"
     ]
    }
   ],
   "source": [
    "model = ComBoostRegressor(SVR(kernel='rbf'), n_estimators=1000)\n",
    "\n",
    "n_scores = cross_val_score(model, X, y, cv=cv, n_jobs=-1)\n",
    "print('SCORE: %.2f (%.2f)' % (np.mean(n_scores), np.std(n_scores)))"
   ]
  },
  {
   "cell_type": "markdown",
   "id": "undefined-andrew",
   "metadata": {},
   "source": [
    "## Linear regression"
   ]
  },
  {
   "cell_type": "code",
   "execution_count": 114,
   "id": "continental-excess",
   "metadata": {},
   "outputs": [
    {
     "name": "stdout",
     "output_type": "stream",
     "text": [
      "SCORE: 1.00 (0.00)\n"
     ]
    }
   ],
   "source": [
    "model = LinearRegression()\n",
    "\n",
    "n_scores = cross_val_score(model, X, y, cv=cv, n_jobs=-1)\n",
    "print('SCORE: %.2f (%.2f)' % (np.mean(n_scores), np.std(n_scores)))"
   ]
  },
  {
   "cell_type": "code",
   "execution_count": 115,
   "id": "boxed-agent",
   "metadata": {},
   "outputs": [
    {
     "name": "stdout",
     "output_type": "stream",
     "text": [
      "SCORE: 1.00 (0.00)\n"
     ]
    }
   ],
   "source": [
    "model = ComBoostRegressor(LinearRegression(), n_estimators=10)\n",
    "\n",
    "n_scores = cross_val_score(model, X, y, cv=cv, n_jobs=-1)\n",
    "print('SCORE: %.2f (%.2f)' % (np.mean(n_scores), np.std(n_scores)))"
   ]
  },
  {
   "cell_type": "markdown",
   "id": "going-lesson",
   "metadata": {},
   "source": [
    "## Выводы\n",
    "\n",
    "1. Алгоритм работает, так как почти во всех случаях удалось добиться ощутимой прибавки к качеству.\n",
    "2. Неожиданно хорошо себя показали деревья глубины 1, обеспечив очень высокий показатель R_2 при приемлемой погрешности.\n",
    "3. Сложные алгоритмы вроде SVM показывают себя при использовании в бустинге ожидаемо плохо. Справедливости ради, стоит отметить, что качество SVM на данной выборке также мало по сравнению даже с простыми деревьями.\n",
    "4. В целом, полученные результаты позволяют сделать вывод об адекватности алгоритма ComBoost."
   ]
  }
 ],
 "metadata": {
  "kernelspec": {
   "display_name": "Python 3",
   "language": "python",
   "name": "python3"
  },
  "language_info": {
   "codemirror_mode": {
    "name": "ipython",
    "version": 3
   },
   "file_extension": ".py",
   "mimetype": "text/x-python",
   "name": "python",
   "nbconvert_exporter": "python",
   "pygments_lexer": "ipython3",
   "version": "3.8.5"
  }
 },
 "nbformat": 4,
 "nbformat_minor": 5
}
