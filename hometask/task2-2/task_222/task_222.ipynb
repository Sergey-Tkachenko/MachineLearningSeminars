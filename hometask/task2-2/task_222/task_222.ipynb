{
 "cells": [
  {
   "cell_type": "markdown",
   "metadata": {
    "id": "lX0EogwdchM8"
   },
   "source": [
    "# Imports and TB"
   ]
  },
  {
   "cell_type": "code",
   "execution_count": 4,
   "metadata": {
    "colab": {
     "base_uri": "https://localhost:8080/"
    },
    "executionInfo": {
     "elapsed": 34706,
     "status": "ok",
     "timestamp": 1650797688477,
     "user": {
      "displayName": "Сергей Ткаченко",
      "userId": "05102634588004494536"
     },
     "user_tz": -180
    },
    "id": "_-r0z2aPJOAm",
    "outputId": "2f824de2-9ec3-484e-d33d-129d03389ad7"
   },
   "outputs": [
    {
     "name": "stdout",
     "output_type": "stream",
     "text": [
      "\u001b[31mERROR: pip's dependency resolver does not currently take into account all the packages that are installed. This behaviour is the source of the following dependency conflicts.\n",
      "samplesizelib 0.0.4 requires numpy==1.18.5, but you have numpy 1.22.3 which is incompatible.\n",
      "pymatgen 2022.0.8 requires scipy>=1.5.0, but you have scipy 1.3.3 which is incompatible.\u001b[0m\n"
     ]
    }
   ],
   "source": [
    "# !pip install --quiet -U bigartm pymorphy2[fast] pyLDAvis"
   ]
  },
  {
   "cell_type": "code",
   "execution_count": 1,
   "metadata": {
    "executionInfo": {
     "elapsed": 9220,
     "status": "ok",
     "timestamp": 1650797697682,
     "user": {
      "displayName": "Сергей Ткаченко",
      "userId": "05102634588004494536"
     },
     "user_tz": -180
    },
    "id": "LCFfGmPYcIaw"
   },
   "outputs": [
    {
     "name": "stderr",
     "output_type": "stream",
     "text": [
      "/home/serg/miniconda3/lib/python3.8/site-packages/sklearn/feature_extraction/image.py:172: DeprecationWarning: `np.int` is a deprecated alias for the builtin `int`. To silence this warning, use `int` by itself. Doing this will not modify any behavior and is safe. When replacing `np.int`, you may wish to use e.g. `np.int64` or `np.int32` to specify the precision. If you wish to review your current use, check the release note link for additional information.\n",
      "Deprecated in NumPy 1.20; for more details and guidance: https://numpy.org/devdocs/release/1.20.0-notes.html#deprecations\n",
      "  dtype=np.int):\n",
      "/home/serg/miniconda3/lib/python3.8/site-packages/sklearn/linear_model/_least_angle.py:34: DeprecationWarning: `np.float` is a deprecated alias for the builtin `float`. To silence this warning, use `float` by itself. Doing this will not modify any behavior and is safe. If you specifically wanted the numpy scalar type, use `np.float64` here.\n",
      "Deprecated in NumPy 1.20; for more details and guidance: https://numpy.org/devdocs/release/1.20.0-notes.html#deprecations\n",
      "  method='lar', copy_X=True, eps=np.finfo(np.float).eps,\n",
      "/home/serg/miniconda3/lib/python3.8/site-packages/sklearn/decomposition/_lda.py:28: DeprecationWarning: `np.float` is a deprecated alias for the builtin `float`. To silence this warning, use `float` by itself. Doing this will not modify any behavior and is safe. If you specifically wanted the numpy scalar type, use `np.float64` here.\n",
      "Deprecated in NumPy 1.20; for more details and guidance: https://numpy.org/devdocs/release/1.20.0-notes.html#deprecations\n",
      "  EPS = np.finfo(np.float).eps\n",
      "/home/serg/miniconda3/lib/python3.8/site-packages/sklearn/ensemble/_gb.py:33: DeprecationWarning: `np.bool` is a deprecated alias for the builtin `bool`. To silence this warning, use `bool` by itself. Doing this will not modify any behavior and is safe. If you specifically wanted the numpy scalar type, use `np.bool_` here.\n",
      "Deprecated in NumPy 1.20; for more details and guidance: https://numpy.org/devdocs/release/1.20.0-notes.html#deprecations\n",
      "  from ._gradient_boosting import predict_stages\n",
      "/home/serg/miniconda3/lib/python3.8/site-packages/xgboost/compat.py:31: FutureWarning: pandas.Int64Index is deprecated and will be removed from pandas in a future version. Use pandas.Index with the appropriate dtype instead.\n",
      "  from pandas import MultiIndex, Int64Index\n"
     ]
    }
   ],
   "source": [
    "import matplotlib.pyplot as plt\n",
    "from mpl_toolkits import mplot3d\n",
    "from matplotlib import gridspec\n",
    "\n",
    "from tqdm.notebook import tqdm\n",
    "import numpy as np\n",
    "import  pandas as pd\n",
    "import seaborn as sns\n",
    "import pymorphy2\n",
    "import torch\n",
    "import scipy\n",
    "from sklearn.utils import shuffle\n",
    "import re\n",
    "\n",
    "import artm\n",
    "\n",
    "from sklearn.feature_extraction.text import CountVectorizer\n",
    "from sklearn.decomposition import LatentDirichletAllocation\n",
    "from sklearn.ensemble import RandomForestClassifier\n",
    "from sklearn.metrics import classification_report\n",
    "from torch.utils.tensorboard import SummaryWriter\n",
    "\n",
    "from xgboost import XGBClassifier\n",
    "\n",
    "from pathlib import Path\n"
   ]
  },
  {
   "cell_type": "code",
   "execution_count": 3,
   "metadata": {
    "colab": {
     "base_uri": "https://localhost:8080/"
    },
    "executionInfo": {
     "elapsed": 26498,
     "status": "ok",
     "timestamp": 1650797653774,
     "user": {
      "displayName": "Сергей Ткаченко",
      "userId": "05102634588004494536"
     },
     "user_tz": -180
    },
    "id": "hmvYWP2hffdi",
    "outputId": "ecd03008-ad29-4224-b89d-d4981732f7ce"
   },
   "outputs": [],
   "source": [
    "# from google.colab import drive\n",
    "# from pathlib import Path\n",
    "# drive.mount('/content/drive', force_remount=True)\n",
    "\n",
    "WORKDIR = Path('./')"
   ]
  },
  {
   "cell_type": "code",
   "execution_count": 4,
   "metadata": {
    "executionInfo": {
     "elapsed": 7,
     "status": "ok",
     "timestamp": 1650797653775,
     "user": {
      "displayName": "Сергей Ткаченко",
      "userId": "05102634588004494536"
     },
     "user_tz": -180
    },
    "id": "0mpO67Ujj-MD"
   },
   "outputs": [],
   "source": [
    "TB_DIR = WORKDIR / \"tensorboard\"\n",
    "DATA_DIR = WORKDIR / \"data\""
   ]
  },
  {
   "cell_type": "markdown",
   "metadata": {
    "id": "cCuxsU2HkIAb"
   },
   "source": [
    "# 1. Data\n",
    "Используем предобработанную выборку из семинара 19."
   ]
  },
  {
   "cell_type": "code",
   "execution_count": 5,
   "metadata": {
    "executionInfo": {
     "elapsed": 54401,
     "status": "ok",
     "timestamp": 1650797757395,
     "user": {
      "displayName": "Сергей Ткаченко",
      "userId": "05102634588004494536"
     },
     "user_tz": -180
    },
    "id": "1VjOfRIhkHFb"
   },
   "outputs": [],
   "source": [
    "processed_data = pd.read_csv(DATA_DIR / 'lenta-ru-proccess.csv')"
   ]
  },
  {
   "cell_type": "code",
   "execution_count": 5,
   "metadata": {
    "colab": {
     "base_uri": "https://localhost:8080/",
     "height": 424
    },
    "executionInfo": {
     "elapsed": 12,
     "status": "ok",
     "timestamp": 1650797757397,
     "user": {
      "displayName": "Сергей Ткаченко",
      "userId": "05102634588004494536"
     },
     "user_tz": -180
    },
    "id": "D4XDqeNAkzXA",
    "outputId": "352f7c0d-8972-4a0c-9765-a44219a37a81"
   },
   "outputs": [
    {
     "data": {
      "text/html": [
       "<div>\n",
       "<style scoped>\n",
       "    .dataframe tbody tr th:only-of-type {\n",
       "        vertical-align: middle;\n",
       "    }\n",
       "\n",
       "    .dataframe tbody tr th {\n",
       "        vertical-align: top;\n",
       "    }\n",
       "\n",
       "    .dataframe thead th {\n",
       "        text-align: right;\n",
       "    }\n",
       "</style>\n",
       "<table border=\"1\" class=\"dataframe\">\n",
       "  <thead>\n",
       "    <tr style=\"text-align: right;\">\n",
       "      <th></th>\n",
       "      <th>text</th>\n",
       "      <th>tags</th>\n",
       "      <th>len</th>\n",
       "      <th>date</th>\n",
       "    </tr>\n",
       "  </thead>\n",
       "  <tbody>\n",
       "    <tr>\n",
       "      <th>0</th>\n",
       "      <td>1 сентябрь весь территория россия вводиться но...</td>\n",
       "      <td>Все</td>\n",
       "      <td>1654</td>\n",
       "      <td>31-08-1999</td>\n",
       "    </tr>\n",
       "    <tr>\n",
       "      <th>1</th>\n",
       "      <td>сведение миссия оон , передаваемый риа \" новос...</td>\n",
       "      <td>Все</td>\n",
       "      <td>1086</td>\n",
       "      <td>31-08-1999</td>\n",
       "    </tr>\n",
       "    <tr>\n",
       "      <th>2</th>\n",
       "      <td>15 представитель национал - большевистский пар...</td>\n",
       "      <td>Все</td>\n",
       "      <td>1219</td>\n",
       "      <td>31-08-1999</td>\n",
       "    </tr>\n",
       "    <tr>\n",
       "      <th>3</th>\n",
       "      <td>наметить сегодняшний день церемония вступление...</td>\n",
       "      <td>Все</td>\n",
       "      <td>3094</td>\n",
       "      <td>31-08-1999</td>\n",
       "    </tr>\n",
       "    <tr>\n",
       "      <th>4</th>\n",
       "      <td>юг киргизия , именно баткенский чон - алайском...</td>\n",
       "      <td>Все</td>\n",
       "      <td>1354</td>\n",
       "      <td>31-08-1999</td>\n",
       "    </tr>\n",
       "    <tr>\n",
       "      <th>...</th>\n",
       "      <td>...</td>\n",
       "      <td>...</td>\n",
       "      <td>...</td>\n",
       "      <td>...</td>\n",
       "    </tr>\n",
       "    <tr>\n",
       "      <th>863280</th>\n",
       "      <td>популярный место среди турист мурманский облас...</td>\n",
       "      <td>Россия</td>\n",
       "      <td>1231</td>\n",
       "      <td>11-09-2020</td>\n",
       "    </tr>\n",
       "    <tr>\n",
       "      <th>863281</th>\n",
       "      <td>рейтинг международный рейтинговый агентство s ...</td>\n",
       "      <td>NaN</td>\n",
       "      <td>1425</td>\n",
       "      <td>11-09-2020</td>\n",
       "    </tr>\n",
       "    <tr>\n",
       "      <th>863282</th>\n",
       "      <td>российский учёный найти якутия новый подвид ар...</td>\n",
       "      <td>События</td>\n",
       "      <td>1299</td>\n",
       "      <td>11-09-2020</td>\n",
       "    </tr>\n",
       "    <tr>\n",
       "      <th>863283</th>\n",
       "      <td>указание коронавирус причина смерть человек не...</td>\n",
       "      <td>Общество</td>\n",
       "      <td>2061</td>\n",
       "      <td>11-09-2020</td>\n",
       "    </tr>\n",
       "    <tr>\n",
       "      <th>863284</th>\n",
       "      <td>президент сша дональд трамп стать посредник но...</td>\n",
       "      <td>Политика</td>\n",
       "      <td>1020</td>\n",
       "      <td>11-09-2020</td>\n",
       "    </tr>\n",
       "  </tbody>\n",
       "</table>\n",
       "<p>863285 rows × 4 columns</p>\n",
       "</div>"
      ],
      "text/plain": [
       "                                                     text      tags   len  \\\n",
       "0       1 сентябрь весь территория россия вводиться но...       Все  1654   \n",
       "1       сведение миссия оон , передаваемый риа \" новос...       Все  1086   \n",
       "2       15 представитель национал - большевистский пар...       Все  1219   \n",
       "3       наметить сегодняшний день церемония вступление...       Все  3094   \n",
       "4       юг киргизия , именно баткенский чон - алайском...       Все  1354   \n",
       "...                                                   ...       ...   ...   \n",
       "863280  популярный место среди турист мурманский облас...    Россия  1231   \n",
       "863281  рейтинг международный рейтинговый агентство s ...       NaN  1425   \n",
       "863282  российский учёный найти якутия новый подвид ар...   События  1299   \n",
       "863283  указание коронавирус причина смерть человек не...  Общество  2061   \n",
       "863284  президент сша дональд трамп стать посредник но...  Политика  1020   \n",
       "\n",
       "              date  \n",
       "0       31-08-1999  \n",
       "1       31-08-1999  \n",
       "2       31-08-1999  \n",
       "3       31-08-1999  \n",
       "4       31-08-1999  \n",
       "...            ...  \n",
       "863280  11-09-2020  \n",
       "863281  11-09-2020  \n",
       "863282  11-09-2020  \n",
       "863283  11-09-2020  \n",
       "863284  11-09-2020  \n",
       "\n",
       "[863285 rows x 4 columns]"
      ]
     },
     "execution_count": 5,
     "metadata": {},
     "output_type": "execute_result"
    }
   ],
   "source": [
    "processed_data"
   ]
  },
  {
   "cell_type": "markdown",
   "metadata": {
    "id": "08QL9bjexKzm"
   },
   "source": [
    "## 1.2 Split via modalities\n",
    "Так как bigartm будет учиться на каждом наборе модальностей отдельно, то необходимо создать три соответствующих vowpal_wabbit файла. Опять же, делаем это по аналогии с семинаром 19. Будем анализировать три набора модальностей:\n",
    "- Только текст\n",
    "- Текст и тег\n",
    "- Текст, тег и месяц \n",
    "\n",
    "Также у нас будет ещё одна дополнительная модальность -- год. Она будет использована лишь в самом конце -- для предсказания даты средствами самого BigARTM, без использования дополнительных классификаторов."
   ]
  },
  {
   "cell_type": "code",
   "execution_count": 6,
   "metadata": {
    "executionInfo": {
     "elapsed": 616,
     "status": "ok",
     "timestamp": 1650798260659,
     "user": {
      "displayName": "Сергей Ткаченко",
      "userId": "05102634588004494536"
     },
     "user_tz": -180
    },
    "id": "-XGOLePYxNLd"
   },
   "outputs": [],
   "source": [
    "# PATHS\n",
    "filename_valid_clear = DATA_DIR / 'vw_data/texts_valid_clear.vw.txt'\n",
    "filename_train_clear = DATA_DIR / 'vw_data/texts_train_clear.vw.txt'\n",
    "\n",
    "filename_valid_tag = DATA_DIR / 'vw_data/texts_valid_tag.vw.txt'\n",
    "filename_train_tag = DATA_DIR / 'vw_data/texts_train_tag.vw.txt'\n",
    "\n",
    "filename_valid_tag_month = DATA_DIR / 'vw_data/texts_valid_tag_month.vw.txt'\n",
    "filename_train_tag_month = DATA_DIR / 'vw_data/texts_train_tag_month.vw.txt'\n",
    "\n",
    "filename_valid_tag_month_year = DATA_DIR / 'vw_data/texts_valid_tag_month_year.vw.txt'\n",
    "filename_train_tag_month_year = DATA_DIR / 'vw_data/texts_train_tag_month_year.vw.txt'\n",
    "\n",
    "filename_y_train = DATA_DIR / \"vw_data/y_train.txt\"\n",
    "filename_y_valid = DATA_DIR / \"vw_data/y_valid.txt\""
   ]
  },
  {
   "cell_type": "code",
   "execution_count": 8,
   "metadata": {
    "colab": {
     "base_uri": "https://localhost:8080/",
     "height": 49,
     "referenced_widgets": [
      "ae42de2ddec744dcad4b0b4623a4eb04",
      "d552b83c7c8f4e568a3c3371ae875045",
      "08b5f9296e184d6598ff60dbdfff124f",
      "cfc72ff39e22489fb4905a928b441afe",
      "cd94e5ab011645978265a84d772804f3",
      "31b5ea67ba2f42ed8bc67770b7e3e8db",
      "37ff0435a89d4ce8a1629f716d2b8068",
      "cc9f9c34df024eabbfa9ec8bd5485386",
      "b4cf8c5ec7334090972489a6f5d44dce",
      "7667238322154518acef50b4249d133e",
      "2ead2dd5784b4758aa6efe5d293d5f79"
     ]
    },
    "executionInfo": {
     "elapsed": 100656,
     "status": "ok",
     "timestamp": 1650746616678,
     "user": {
      "displayName": "Сергей Ткаченко",
      "userId": "05102634588004494536"
     },
     "user_tz": -180
    },
    "id": "7QjpPt5O-sPg",
    "outputId": "ed01bc5a-ef00-45fc-9ead-e0959931e6d7"
   },
   "outputs": [
    {
     "data": {
      "application/vnd.jupyter.widget-view+json": {
       "model_id": "ca1eb90eb67a4bf5bf8c245f79ce3870",
       "version_major": 2,
       "version_minor": 0
      },
      "text/plain": [
       "HBox(children=(FloatProgress(value=0.0, max=863285.0), HTML(value='')))"
      ]
     },
     "metadata": {},
     "output_type": "display_data"
    },
    {
     "name": "stdout",
     "output_type": "stream",
     "text": [
      "\n"
     ]
    }
   ],
   "source": [
    "# NO MODALITY\n",
    "\n",
    "counter_train = 0\n",
    "counter_valid = 0\n",
    "\n",
    "y_train = []\n",
    "y_valid = []\n",
    "\n",
    "reg = re.compile(r'\\W+')\n",
    "with open(filename_valid_clear, 'w') as fout_valid:\n",
    "    with open(filename_train_clear, 'w') as fout_train:\n",
    "        for i in tqdm(range(len(processed_data))):\n",
    "            text = (reg.sub(' ', processed_data.loc[i]['text']).strip()).split()\n",
    "            date = str(processed_data.loc[i]['date'].split('-')[-1])\n",
    "\n",
    "            if len(text) > 100:\n",
    "                if (i + 1) % 100 == 0:\n",
    "                    fout_valid.write('doc_{} {} \\n'.format(\n",
    "                        counter_train, ' '.join(text)))\n",
    "                    counter_train += 1\n",
    "                    y_valid.append(date)\n",
    "                else:\n",
    "                    fout_train.write('doc_{} {} \\n'.format(\n",
    "                        counter_valid, ' '.join(text)))\n",
    "                    counter_valid += 1\n",
    "                    y_train.append(date)"
   ]
  },
  {
   "cell_type": "code",
   "execution_count": 9,
   "metadata": {
    "id": "zteEySPcIfpr"
   },
   "outputs": [],
   "source": [
    "# y_train and y_valid remains the same for all cases\n",
    "\n",
    "with open(filename_y_train, \"w\") as f:\n",
    "    f.write(\"\\n\".join(y_train))\n",
    "\n",
    "with open(filename_y_valid, \"w\") as f:\n",
    "    f.write(\"\\n\".join(y_valid))"
   ]
  },
  {
   "cell_type": "code",
   "execution_count": 10,
   "metadata": {
    "colab": {
     "base_uri": "https://localhost:8080/",
     "height": 49,
     "referenced_widgets": [
      "87e75b7b77ad497caaa06fb710e6c6da",
      "401277d5c09b41a2aa3b8ccd5b70c688",
      "f10b2b2f00074d87b49b4e8fd5e53751",
      "32cad9ee122c46068ff08876ce2aeb06",
      "982a24f1fc2b4d3a9d26d98bfaeac396",
      "36991149895148a5ab8e7c93e40cb9c9",
      "91c43120642548ea97b2e74d045518cf",
      "c280be3682dd44fb8b672db445acf7bb",
      "1665e5c96b394ccea1804464620f0fe1",
      "fdabc1aaf7df4ee1b00613dafc21f639",
      "460abc78c53f40739d8bd2cbdf3c49a3"
     ]
    },
    "executionInfo": {
     "elapsed": 103441,
     "status": "ok",
     "timestamp": 1650746720098,
     "user": {
      "displayName": "Сергей Ткаченко",
      "userId": "05102634588004494536"
     },
     "user_tz": -180
    },
    "id": "tSllZieG-zMu",
    "outputId": "796b39cc-8341-4376-b889-8d91bb1abbb5"
   },
   "outputs": [
    {
     "data": {
      "application/vnd.jupyter.widget-view+json": {
       "model_id": "0c7124da61c6424c810d18cf9766f377",
       "version_major": 2,
       "version_minor": 0
      },
      "text/plain": [
       "HBox(children=(FloatProgress(value=0.0, max=863285.0), HTML(value='')))"
      ]
     },
     "metadata": {},
     "output_type": "display_data"
    },
    {
     "name": "stdout",
     "output_type": "stream",
     "text": [
      "\n"
     ]
    }
   ],
   "source": [
    "# TAG\n",
    "counter_train = 0\n",
    "counter_valid = 0\n",
    "\n",
    "reg = re.compile(r'\\W+')\n",
    "with open(filename_valid_tag, 'w') as fout_valid:\n",
    "    with open(filename_train_tag, 'w') as fout_train:\n",
    "        for i in tqdm(range(len(processed_data))):\n",
    "            text = (reg.sub(' ', processed_data.loc[i]['text']).strip()).split()\n",
    "            tag = str(processed_data.loc[i]['tags']).lower().strip()\n",
    "\n",
    "            if len(text) > 100:\n",
    "                if (i + 1) % 100 == 0:\n",
    "                    fout_valid.write('doc_{} {} |@tag class_{}\\n'.format(\n",
    "                        counter_train, ' '.join(text), tag))\n",
    "                    counter_train += 1\n",
    "                else:\n",
    "                    fout_train.write('doc_{} {} |@tag class_{}\\n'.format(\n",
    "                        counter_valid, ' '.join(text), tag))\n",
    "                    counter_valid += 1"
   ]
  },
  {
   "cell_type": "code",
   "execution_count": 11,
   "metadata": {
    "colab": {
     "base_uri": "https://localhost:8080/",
     "height": 49,
     "referenced_widgets": [
      "19f3ff72e1e54d468f0a36bd261afd68",
      "a4199ae3acac4dfd9ab584a76e2471a1",
      "cf5a0a8626aa46dcb821388651c92a85",
      "39ee918617344514b0ab227ed0042475",
      "cec1591a4c84403f9609a456c4a9c948",
      "1778be95ab2d4150a21d8a2ab13ceaa5",
      "cf744c183438406184fc08d52b0bfa54",
      "98a5b85f32b14f049b4292063d2a69fa",
      "db328f0ec0cc48cda99bdcef61962c04",
      "515df6a65ad24881b3acac0c7c73dd9b",
      "e1b378366a394eaca3eea085bb58dfaf"
     ]
    },
    "executionInfo": {
     "elapsed": 140399,
     "status": "ok",
     "timestamp": 1650746860493,
     "user": {
      "displayName": "Сергей Ткаченко",
      "userId": "05102634588004494536"
     },
     "user_tz": -180
    },
    "id": "nrEPSxHZAz7X",
    "outputId": "328df76f-2d9a-4b8d-a822-98080dff96fe"
   },
   "outputs": [
    {
     "data": {
      "application/vnd.jupyter.widget-view+json": {
       "model_id": "cba9b564af3f43c18c4e0cbae47eae65",
       "version_major": 2,
       "version_minor": 0
      },
      "text/plain": [
       "HBox(children=(FloatProgress(value=0.0, max=863285.0), HTML(value='')))"
      ]
     },
     "metadata": {},
     "output_type": "display_data"
    },
    {
     "name": "stdout",
     "output_type": "stream",
     "text": [
      "\n"
     ]
    }
   ],
   "source": [
    "# TAG + MONTH\n",
    "counter_train = 0\n",
    "counter_valid = 0\n",
    "\n",
    "\n",
    "reg = re.compile(r'\\W+')\n",
    "with open(filename_valid_tag_month, 'w') as fout_valid:\n",
    "    with open(filename_train_tag_month, 'w') as fout_train:\n",
    "        for i in tqdm(range(len(processed_data))):\n",
    "            text = (reg.sub(' ', processed_data.loc[i]['text']).strip()).split()\n",
    "            tag = str(processed_data.loc[i]['tags']).lower().strip()\n",
    "            month = int(str(processed_data.loc[i]['date']).split('-')[1])\n",
    "\n",
    "            if len(text) > 100:\n",
    "                if (i + 1) % 100 == 0:\n",
    "                    fout_valid.write('doc_{} {} |@tag class_{} |@month class_{}\\n'.format(\n",
    "                        counter_train, ' '.join(text), tag, month))\n",
    "                    counter_train += 1\n",
    "                else:\n",
    "                    fout_train.write('doc_{} {} |@tag class_{} |@month class_{}\\n'.format(\n",
    "                        counter_valid, ' '.join(text), tag, month))\n",
    "                    counter_valid += 1"
   ]
  },
  {
   "cell_type": "code",
   "execution_count": 7,
   "metadata": {},
   "outputs": [
    {
     "data": {
      "application/vnd.jupyter.widget-view+json": {
       "model_id": "83f1e8c585a54bb7a20d4ecba45e9a23",
       "version_major": 2,
       "version_minor": 0
      },
      "text/plain": [
       "HBox(children=(FloatProgress(value=0.0, max=863285.0), HTML(value='')))"
      ]
     },
     "metadata": {},
     "output_type": "display_data"
    },
    {
     "name": "stdout",
     "output_type": "stream",
     "text": [
      "\n"
     ]
    }
   ],
   "source": [
    "# TAG + MONTH + YEAR\n",
    "counter_train = 0\n",
    "counter_valid = 0\n",
    "\n",
    "\n",
    "reg = re.compile(r'\\W+')\n",
    "with open(filename_valid_tag_month_year, 'w') as fout_valid:\n",
    "    with open(filename_train_tag_month_year, 'w') as fout_train:\n",
    "        for i in tqdm(range(len(processed_data))):\n",
    "            text = (reg.sub(' ', processed_data.loc[i]['text']).strip()).split()\n",
    "            tag = str(processed_data.loc[i]['tags']).lower().strip()\n",
    "            month = int(str(processed_data.loc[i]['date']).split('-')[1])\n",
    "            year = int(str(processed_data.loc[i]['date']).split('-')[-1])\n",
    "\n",
    "            if len(text) > 100:\n",
    "                if (i + 1) % 100 == 0:\n",
    "                    fout_valid.write('doc_{} {} |@tag class_{} |@month class_{} |@year class_{}\\n'.format(\n",
    "                        counter_train, ' '.join(text), tag, month, year))\n",
    "                    counter_train += 1\n",
    "                else:\n",
    "                    fout_train.write('doc_{} {} |@tag class_{} |@month class_{} |@year class_{}\\n'.format(\n",
    "                        counter_valid, ' '.join(text), tag, month, year))\n",
    "                    counter_valid += 1"
   ]
  },
  {
   "cell_type": "markdown",
   "metadata": {
    "id": "UUYEdXCCM-vw"
   },
   "source": [
    "## 1.3 Generate batches"
   ]
  },
  {
   "cell_type": "code",
   "execution_count": 2,
   "metadata": {
    "executionInfo": {
     "elapsed": 78431,
     "status": "ok",
     "timestamp": 1650798344203,
     "user": {
      "displayName": "Сергей Ткаченко",
      "userId": "05102634588004494536"
     },
     "user_tz": -180
    },
    "id": "LJW9W5fNNAZm"
   },
   "outputs": [],
   "source": [
    "# NO MODALITY\n",
    "\n",
    "# to create\n",
    "# bv_train_clear = artm.BatchVectorizer(\n",
    "#     data_path=str(filename_train_clear), data_format='vowpal_wabbit', batch_size=10000, \n",
    "#     target_folder=\"data/vw_batches/batches_train_clear\", )\n",
    "\n",
    "# bv_test_clear = artm.BatchVectorizer(\n",
    "#     data_path=str(filename_valid_clear), data_format='vowpal_wabbit', batch_size=10000, \n",
    "#     target_folder=\"data/vw_batches/batches_valid_clear\")\n",
    "\n",
    "# just load\n",
    "bv_train_clear = artm.BatchVectorizer(data_path='data/vw_batches/batches_train_clear',\n",
    "                                        data_format='batches')\n",
    "\n",
    "bv_test_clear = artm.BatchVectorizer(data_path=\"data/vw_batches/batches_valid_clear\", data_format='batches')"
   ]
  },
  {
   "cell_type": "code",
   "execution_count": 2,
   "metadata": {
    "id": "uqa8qxABPzXR"
   },
   "outputs": [],
   "source": [
    "# TAG\n",
    "\n",
    "# to create\n",
    "# bv_train_tag = artm.BatchVectorizer(\n",
    "#     data_path=str(filename_train_tag), data_format='vowpal_wabbit', batch_size=10000, \n",
    "#     target_folder=\"data/vw_batches/batches_train_tag\", )\n",
    "\n",
    "# bv_test_tag = artm.BatchVectorizer(\n",
    "#     data_path=str(filename_valid_tag), data_format='vowpal_wabbit', batch_size=10000, \n",
    "#     target_folder=\"data/vw_batches/batches_valid_tag\")\n",
    "\n",
    "# just load\n",
    "bv_train_tag = artm.BatchVectorizer(data_path='data/vw_batches/batches_train_tag/',\n",
    "                                        data_format='batches')\n",
    "\n",
    "bv_test_tag = artm.BatchVectorizer(data_path=\"data/vw_batches/batches_valid_tag/\", data_format='batches')"
   ]
  },
  {
   "cell_type": "code",
   "execution_count": 2,
   "metadata": {
    "id": "SQC3WWJlP6f-"
   },
   "outputs": [],
   "source": [
    "# TAG + MONTH\n",
    "# bv_train_tag_month = artm.BatchVectorizer(\n",
    "#     data_path=str(filename_train_tag_month), data_format='vowpal_wabbit', batch_size=10000, \n",
    "#     target_folder=\"data/vw_batches/batches_train_tag_month\")\n",
    "\n",
    "# bv_test_tag_month = artm.BatchVectorizer(\n",
    "#     data_path=str(filename_valid_tag_month), data_format='vowpal_wabbit', batch_size=10000, \n",
    "#     target_folder=\"data/vw_batches/batches_valid_tag_month\")\n",
    "\n",
    "# just load\n",
    "\n",
    "bv_train_tag_month = artm.BatchVectorizer(data_path='data/vw_batches/batches_train_tag_month/',\n",
    "                                        data_format='batches')\n",
    "\n",
    "bv_test_tag_month = artm.BatchVectorizer(data_path=\"data/vw_batches/batches_valid_tag_month/\", data_format='batches')"
   ]
  },
  {
   "cell_type": "code",
   "execution_count": 9,
   "metadata": {},
   "outputs": [],
   "source": [
    "# TAG + MONTH + YEAR\n",
    "# bv_train_tag_month_year = artm.BatchVectorizer(\n",
    "#     data_path=str(filename_train_tag_month_year), data_format='vowpal_wabbit', batch_size=10000, \n",
    "#     target_folder=\"data/vw_batches/batches_train_tag_month_year\")\n",
    "\n",
    "# bv_test_tag_month_year = artm.BatchVectorizer(\n",
    "#     data_path=str(filename_valid_tag_month_year), data_format='vowpal_wabbit', batch_size=10000, \n",
    "#     target_folder=\"data/vw_batches/batches_valid_tag_month_year\")\n",
    "\n",
    "# just load\n",
    "\n",
    "bv_train_tag_month_year  = artm.BatchVectorizer(data_path='data/vw_batches/batches_train_tag_month_year/',\n",
    "                                        data_format='batches')\n",
    "\n",
    "bv_test_tag_month_year  = artm.BatchVectorizer(data_path=\"data/vw_batches/batches_valid_tag_month_year/\", data_format='batches')"
   ]
  },
  {
   "cell_type": "markdown",
   "metadata": {
    "id": "VS97G-UERZOK"
   },
   "source": [
    "# 2. Experiment\n",
    "Так как в данном задании не предполагается реализация какого-либо функционала, то можно перейти сразу к экспериментам. Модели тяжелые, а количество возможых вариантов тех же регуляризаторов большое, потому будем действовать следующим образом: \n",
    "1. Сначала проверим, как модели работает на выборках с различными модальностями.\n",
    "2. Отобрав из них лучшую (скорее всего, это будет последняя), будет тестировать уже регуляризаторы.\n"
   ]
  },
  {
   "cell_type": "markdown",
   "metadata": {
    "id": "zxMZ5H9MNR6a"
   },
   "source": [
    "## 2.1 Use pure text"
   ]
  },
  {
   "cell_type": "code",
   "execution_count": 8,
   "metadata": {
    "executionInfo": {
     "elapsed": 12571,
     "status": "ok",
     "timestamp": 1650798367977,
     "user": {
      "displayName": "Сергей Ткаченко",
      "userId": "05102634588004494536"
     },
     "user_tz": -180
    },
    "id": "gnNDI6UDSq9I"
   },
   "outputs": [],
   "source": [
    "dictionary = artm.Dictionary()\n",
    "dictionary.gather(data_path='data/vw_batches/batches_train_clear')"
   ]
  },
  {
   "cell_type": "code",
   "execution_count": 9,
   "metadata": {},
   "outputs": [],
   "source": [
    "# model = artm.ARTM(num_topics=200,\n",
    "#                   dictionary=dictionary, \n",
    "#                   class_ids={'@default_class': 1.0}, num_processors=11)\n",
    "\n",
    "# model.scores.add(artm.PerplexityScore(name='perplexity', dictionary=dictionary))\n",
    "# model.scores.add(artm.TopTokensScore(name='top-tokens', num_tokens=10))\n",
    "\n",
    "# iterator = tqdm(range(20))\n",
    "# for i in iterator:\n",
    "#     model.fit_offline(bv_train_clear, num_collection_passes=1)\n",
    "#     iterator.set_postfix({'perplexity': model.score_tracker['perplexity'].value[-1], })\n",
    "\n",
    "# model.dump_artm_model('data/model/clear_without_regular_20')\n",
    "\n",
    "model = artm.load_artm_model('data/model/clear_without_regular/')\n",
    "model.scores.add(artm.PerplexityScore(name='perplexity', dictionary=dictionary), overwrite=True)\n",
    "model.scores.add(artm.TopTokensScore(name='top-tokens', num_tokens=10), overwrite=True)"
   ]
  },
  {
   "cell_type": "code",
   "execution_count": 10,
   "metadata": {
    "colab": {
     "base_uri": "https://localhost:8080/",
     "height": 279
    },
    "executionInfo": {
     "elapsed": 796,
     "status": "ok",
     "timestamp": 1650799347860,
     "user": {
      "displayName": "Сергей Ткаченко",
      "userId": "05102634588004494536"
     },
     "user_tz": -180
    },
    "id": "hAga3iKDQMcn",
    "outputId": "40814179-67d6-4d8a-f184-422df456e501"
   },
   "outputs": [
    {
     "data": {
      "image/png": "[encoded data removed]",
      "text/plain": [
       "<Figure size 432x288 with 1 Axes>"
      ]
     },
     "metadata": {
      "needs_background": "light"
     },
     "output_type": "display_data"
    }
   ],
   "source": [
    "plt.plot(model.score_tracker['perplexity'].value, label = 'perplexity')\n",
    "\n",
    "plt.legend(loc = 'best')\n",
    "\n",
    "plt.xlabel('iteration')\n",
    "plt.ylabel('score')\n",
    "plt.yscale(\"log\")\n",
    "plt.show()\n"
   ]
  },
  {
   "cell_type": "code",
   "execution_count": 11,
   "metadata": {
    "colab": {
     "base_uri": "https://localhost:8080/"
    },
    "executionInfo": {
     "elapsed": 6,
     "status": "ok",
     "timestamp": 1650799364884,
     "user": {
      "displayName": "Сергей Ткаченко",
      "userId": "05102634588004494536"
     },
     "user_tz": -180
    },
    "id": "KF4ytCxFTj5l",
    "outputId": "5a825269-ae86-4fa0-f83f-e288943db183",
    "tags": []
   },
   "outputs": [
    {
     "name": "stdout",
     "output_type": "stream",
     "text": [
      "['учёный', 'исследование', 'исследователь', 'который', 'это', 'клетка', 'анализ', 'человек', 'результат', 'мочь']\n",
      "['английский', 'реал', 'барселона', 'англия', 'клуб', 'манчестер', 'челси', 'футболист', 'лондонский', 'испанский']\n",
      "['германия', 'немецкий', 'который', 'фрг', 'свой', 'еда', 'канцлер', 'меркель', 'ангел', 'кот']\n",
      "['министерство', 'база', 'конференция', 'зона', 'предложение', 'создание', 'который', 'инициатива', 'ведомство', 'российский']\n",
      "['документ', 'срок', 'запрет', 'принять', 'правительство', 'введение', 'решение', 'должный', 'год', 'ввести']\n",
      "['россия', 'российский', 'мид', 'наш', 'это', 'москва', 'заявить', 'рф', 'украина', 'страна']\n",
      "['министр', 'внутренний', 'анатолий', 'ведомство', 'дело', 'оборона', 'минобороны', 'подпись', 'глава', 'который']\n",
      "['деятельность', 'государственный', 'контроль', 'журналист', 'служба', 'власть', 'паспорт', 'сми', 'это', 'год']\n",
      "['директор', 'генеральный', 'аэрофлот', 'год', 'вино', 'культура', 'который', 'новосибирский', 'гендиректор', 'российский']\n",
      "['индия', 'немецкий', 'индийский', 'послание', 'берлин', 'который', 'германия', 'архив', 'зелёный', 'год']\n",
      "['компания', 'имущество', 'рубль', 'оао', 'ооо', 'банкротство', 'год', 'гендиректор', 'рао', 'госкорпорация']\n",
      "['опубликовать', 'написать', 'twitter', 'сайт', 'страница', 'комментарий', 'который', 'публикация', 'письмо', 'аккаунт']\n",
      "['преступление', 'подозревать', 'преступник', 'сотрудник', 'таджикистан', 'совершить', 'совершенный', 'это', 'область', 'задержать']\n",
      "['бренд', 'одежда', 'марка', 'коллекция', 'год', 'компания', 'дизайнер', 'основать', 'дом', 'магазин']\n",
      "['фсб', 'республика', 'азербайджан', 'ингушетия', 'боеприпас', 'кавказ', 'уничтожить', 'боевик', 'силовой', 'северный']\n",
      "['счёт', 'минута', 'й', 'матч', '1', 'мяч', 'ворот', '2', 'гол', 'игра']\n",
      "['ким', 'джонсон', 'слух', 'ир', 'активистка', 'активист', 'мэй', 'это', 'эколог', 'чен']\n",
      "['австралия', 'австралийский', 'провинция', 'пакистан', 'сообщать', 'пригород', 'ирландия', 'пакистанский', 'ноябрь', 'хан']\n",
      "['аэропорт', 'турист', 'туристический', 'отдых', 'россиянин', 'путешественник', 'таиланд', 'российский', 'курорт', 'туризм']\n",
      "['россия', 'госдума', 'депутат', 'комитет', 'заседание', 'мера', 'глава', 'отмена', 'справедливый', 'риа']\n"
     ]
    }
   ],
   "source": [
    "top_tokens = model.score_tracker['top-tokens'].last_tokens\n",
    "\n",
    "for topic_name in model.topic_names[:20]:\n",
    "    print(top_tokens[topic_name])"
   ]
  },
  {
   "cell_type": "code",
   "execution_count": 12,
   "metadata": {
    "executionInfo": {
     "elapsed": 79935,
     "status": "ok",
     "timestamp": 1650799513533,
     "user": {
      "displayName": "Сергей Ткаченко",
      "userId": "05102634588004494536"
     },
     "user_tz": -180
    },
    "id": "inmE_aS6T0VC"
   },
   "outputs": [
    {
     "data": {
      "application/vnd.jupyter.widget-view+json": {
       "model_id": "",
       "version_major": 2,
       "version_minor": 0
      },
      "text/plain": [
       "HBox(children=(FloatProgress(value=0.0, description='Batch', max=66.0, style=ProgressStyle(description_width='…"
      ]
     },
     "metadata": {},
     "output_type": "display_data"
    }
   ],
   "source": [
    "X_train_pd = model.transform(bv_train_clear)"
   ]
  },
  {
   "cell_type": "code",
   "execution_count": 13,
   "metadata": {
    "colab": {
     "base_uri": "https://localhost:8080/"
    },
    "executionInfo": {
     "elapsed": 424,
     "status": "ok",
     "timestamp": 1650799609589,
     "user": {
      "displayName": "Сергей Ткаченко",
      "userId": "05102634588004494536"
     },
     "user_tz": -180
    },
    "id": "620CBFi7UsQ_",
    "outputId": "438cc190-27ca-408d-ad3c-e309fe0b94d4"
   },
   "outputs": [
    {
     "data": {
      "text/plain": [
       "(200, 653795)"
      ]
     },
     "execution_count": 13,
     "metadata": {},
     "output_type": "execute_result"
    }
   ],
   "source": [
    "X_train_pd.shape"
   ]
  },
  {
   "cell_type": "code",
   "execution_count": 14,
   "metadata": {
    "executionInfo": {
     "elapsed": 922,
     "status": "ok",
     "timestamp": 1650799585447,
     "user": {
      "displayName": "Сергей Ткаченко",
      "userId": "05102634588004494536"
     },
     "user_tz": -180
    },
    "id": "OnriJz5hUMeg"
   },
   "outputs": [],
   "source": [
    "with open('data/vw_data/y_valid.txt') as f:\n",
    "    y_valid = f.read().split('\\n')\n",
    "\n",
    "with open('data/vw_data/y_train.txt') as f:\n",
    "    y_train = f.read().split('\\n')"
   ]
  },
  {
   "cell_type": "code",
   "execution_count": 15,
   "metadata": {
    "colab": {
     "base_uri": "https://localhost:8080/"
    },
    "executionInfo": {
     "elapsed": 4,
     "status": "ok",
     "timestamp": 1650799825557,
     "user": {
      "displayName": "Сергей Ткаченко",
      "userId": "05102634588004494536"
     },
     "user_tz": -180
    },
    "id": "SjnkI5s1URnx",
    "outputId": "ec639cce-68f6-4bdb-ff48-780d6a7f935a"
   },
   "outputs": [
    {
     "data": {
      "application/vnd.jupyter.widget-view+json": {
       "model_id": "54fd90a5c8c34173af5fcba060bb5aa9",
       "version_major": 2,
       "version_minor": 0
      },
      "text/plain": [
       "HBox(children=(FloatProgress(value=0.0, max=653795.0), HTML(value='')))"
      ]
     },
     "metadata": {},
     "output_type": "display_data"
    },
    {
     "name": "stdout",
     "output_type": "stream",
     "text": [
      "\n"
     ]
    }
   ],
   "source": [
    "X_train = []\n",
    "for i in tqdm(range(len(y_train))):\n",
    "    X_train.append(X_train_pd[i].values)\n",
    "X_train_np = np.array(X_train)\n",
    "y_train_np = np.array(y_train)\n",
    "\n",
    "X_train_np, y_train_np = shuffle(X_train_np, y_train_np,random_state=42)"
   ]
  },
  {
   "cell_type": "code",
   "execution_count": 16,
   "metadata": {
    "id": "VW2ic0swWb7B"
   },
   "outputs": [
    {
     "data": {
      "application/vnd.jupyter.widget-view+json": {
       "model_id": "",
       "version_major": 2,
       "version_minor": 0
      },
      "text/plain": [
       "HBox(children=(FloatProgress(value=0.0, description='Batch', max=1.0, style=ProgressStyle(description_width='i…"
      ]
     },
     "metadata": {},
     "output_type": "display_data"
    },
    {
     "data": {
      "application/vnd.jupyter.widget-view+json": {
       "model_id": "f152302f07a4447b85e8c80606522180",
       "version_major": 2,
       "version_minor": 0
      },
      "text/plain": [
       "HBox(children=(FloatProgress(value=0.0, max=6604.0), HTML(value='')))"
      ]
     },
     "metadata": {},
     "output_type": "display_data"
    },
    {
     "name": "stdout",
     "output_type": "stream",
     "text": [
      "\n"
     ]
    }
   ],
   "source": [
    "X_valid_pd = model.transform(bv_test_clear)\n",
    "X_valid = []\n",
    "for i in tqdm(range(len(y_valid))):\n",
    "    X_valid.append(X_valid_pd[i].values)\n",
    "    \n",
    "X_valid_np = np.array(X_valid)"
   ]
  },
  {
   "cell_type": "code",
   "execution_count": 18,
   "metadata": {},
   "outputs": [
    {
     "name": "stderr",
     "output_type": "stream",
     "text": [
      "/home/serg/miniconda3/lib/python3.8/site-packages/xgboost/sklearn.py:1146: UserWarning: The use of label encoder in XGBClassifier is deprecated and will be removed in a future release. To remove this warning, do the following: 1) Pass option use_label_encoder=False when constructing XGBClassifier object; and 2) Encode your labels (y) as integers starting with 0, i.e. 0, 1, 2, ..., [num_class - 1].\n",
      "  warnings.warn(label_encoder_deprecation_msg, UserWarning)\n"
     ]
    },
    {
     "name": "stdout",
     "output_type": "stream",
     "text": [
      "[12:29:26] WARNING: ../src/learner.cc:1095: Starting in XGBoost 1.3.0, the default evaluation metric used with the objective 'multi:softprob' was changed from 'merror' to 'mlogloss'. Explicitly set eval_metric if you'd like to restore the old behavior.\n",
      "              precision    recall  f1-score   support\n",
      "\n",
      "        1999       0.00      0.00      0.00        19\n",
      "        2000       0.00      0.00      0.00        69\n",
      "        2001       0.08      0.01      0.02        96\n",
      "        2002       0.17      0.02      0.04       143\n",
      "        2003       0.17      0.03      0.05       134\n",
      "        2004       0.20      0.09      0.12       183\n",
      "        2005       0.12      0.07      0.08       240\n",
      "        2006       0.13      0.08      0.10       256\n",
      "        2007       0.09      0.03      0.05       236\n",
      "        2008       0.14      0.17      0.15       332\n",
      "        2009       0.14      0.17      0.15       423\n",
      "        2010       0.12      0.14      0.13       375\n",
      "        2011       0.18      0.18      0.18       384\n",
      "        2012       0.13      0.14      0.13       427\n",
      "        2013       0.15      0.23      0.18       387\n",
      "        2014       0.15      0.08      0.11       309\n",
      "        2015       0.14      0.14      0.14       387\n",
      "        2016       0.20      0.31      0.25       504\n",
      "        2017       0.19      0.17      0.18       414\n",
      "        2018       0.17      0.10      0.12       340\n",
      "        2019       0.22      0.39      0.28       495\n",
      "        2020       0.47      0.51      0.49       451\n",
      "\n",
      "    accuracy                           0.19      6604\n",
      "   macro avg       0.15      0.14      0.13      6604\n",
      "weighted avg       0.18      0.19      0.17      6604\n",
      "\n"
     ]
    }
   ],
   "source": [
    "classifier = XGBClassifier(n_jobs=-1)\n",
    "classifier.fit(X_train_np[:10000], y_train_np[:10000])\n",
    "pred = classifier.predict(X_valid_np)\n",
    "print(classification_report(y_valid, pred, zero_division=1))"
   ]
  },
  {
   "cell_type": "markdown",
   "metadata": {},
   "source": [
    "**Вывод:** качество классификации небольшое, то же accuracy получилось 0.19. Однако, это значительно больше, чем просто использование случайного классификатора, его качество было бы около 5%. С другой стороны, по содержанию самой новости не всегда понятно, к какой она дате может относится. Пример такой новости -- развод очередной \"звездной\" пары, они происходят регулярно каждый год. Потому в целом такие невысокие метрики обусловлены не тем, что модель плохая, а спецификой задачи. "
   ]
  },
  {
   "cell_type": "markdown",
   "metadata": {},
   "source": [
    "## 2.2 Text + tag"
   ]
  },
  {
   "cell_type": "code",
   "execution_count": 5,
   "metadata": {},
   "outputs": [],
   "source": [
    "# dictionary = artm.Dictionary()\n",
    "# dictionary.gather(data_path='data/vw_batches/batches_train_tag/')\n",
    "\n",
    "# model = artm.ARTM(num_topics=200,\n",
    "#                   dictionary=dictionary, \n",
    "#                   class_ids={'@default_class': 1.0, '@tag': 1.0}, num_processors=12)\n",
    "\n",
    "# model.scores.add(artm.PerplexityScore(name='perplexity', dictionary=dictionary))\n",
    "# model.scores.add(artm.TopTokensScore(name='top-tokens', num_tokens=10))\n",
    "# model.scores.add(artm.SparsityPhiScore(name='sparsity', class_id='@tag'))\n",
    "\n",
    "\n",
    "# iterator = tqdm(range(20))\n",
    "# for i in iterator:\n",
    "#     model.fit_offline(bv_train_tag, num_collection_passes=1)\n",
    "#     iterator.set_postfix({'perplexity': model.score_tracker['perplexity'].value[-1], })\n",
    "\n",
    "# model.dump_artm_model('data/model/tag_without_regular')\n",
    "\n",
    "model = artm.load_artm_model('data/model/tag_without_regular/')\n",
    "model.scores.add(artm.PerplexityScore(name='perplexity', dictionary=dictionary), overwrite=True)\n",
    "model.scores.add(artm.TopTokensScore(name='top-tokens', num_tokens=10), overwrite=True)\n",
    "model.scores.add(artm.SparsityPhiScore(name='sparsity', class_id='@tag'), overwrite=True)"
   ]
  },
  {
   "cell_type": "code",
   "execution_count": 6,
   "metadata": {},
   "outputs": [
    {
     "data": {
      "image/png": "[encoded data removed]",
      "text/plain": [
       "<Figure size 432x288 with 1 Axes>"
      ]
     },
     "metadata": {
      "needs_background": "light"
     },
     "output_type": "display_data"
    }
   ],
   "source": [
    "plt.plot(model.score_tracker['sparsity'].value, label = 'sparsity')\n",
    "\n",
    "plt.legend(loc = 'best')\n",
    "\n",
    "plt.xlabel('iteration')\n",
    "plt.ylabel('score')\n",
    "plt.show()"
   ]
  },
  {
   "cell_type": "code",
   "execution_count": 7,
   "metadata": {},
   "outputs": [
    {
     "data": {
      "image/png": "[encoded data removed]",
      "text/plain": [
       "<Figure size 432x288 with 1 Axes>"
      ]
     },
     "metadata": {
      "needs_background": "light"
     },
     "output_type": "display_data"
    }
   ],
   "source": [
    "plt.plot(model.score_tracker['perplexity'].value, label = 'perplexity')\n",
    "\n",
    "plt.legend(loc = 'best')\n",
    "\n",
    "plt.xlabel('iteration')\n",
    "plt.ylabel('score')\n",
    "plt.yscale(\"log\")\n",
    "plt.show()"
   ]
  },
  {
   "cell_type": "code",
   "execution_count": 8,
   "metadata": {
    "id": "VW2ic0swWb7B"
   },
   "outputs": [
    {
     "data": {
      "application/vnd.jupyter.widget-view+json": {
       "model_id": "18b7f5490ef4478984cbe79883074b1f",
       "version_major": 2,
       "version_minor": 0
      },
      "text/plain": [
       "HBox(children=(FloatProgress(value=0.0, max=653795.0), HTML(value='')))"
      ]
     },
     "metadata": {},
     "output_type": "display_data"
    },
    {
     "name": "stdout",
     "output_type": "stream",
     "text": [
      "\n"
     ]
    },
    {
     "data": {
      "application/vnd.jupyter.widget-view+json": {
       "model_id": "a121522bfaeb4b7bb3b3454a230a3c42",
       "version_major": 2,
       "version_minor": 0
      },
      "text/plain": [
       "HBox(children=(FloatProgress(value=0.0, max=6604.0), HTML(value='')))"
      ]
     },
     "metadata": {},
     "output_type": "display_data"
    },
    {
     "name": "stdout",
     "output_type": "stream",
     "text": [
      "\n"
     ]
    }
   ],
   "source": [
    "X_train_pd = model.transform(bv_train_tag)\n",
    "\n",
    "with open('data/vw_data/y_valid.txt') as f:\n",
    "    y_valid = f.read().split('\\n')\n",
    "\n",
    "with open('data/vw_data/y_train.txt') as f:\n",
    "    y_train = f.read().split('\\n')\n",
    "\n",
    "X_train = []\n",
    "for i in tqdm(range(len(y_train))):\n",
    "    X_train.append(X_train_pd[i].values)\n",
    "X_train_np = np.array(X_train)\n",
    "y_train_np = np.array(y_train)\n",
    "\n",
    "X_train_np, y_train_np = shuffle(X_train_np, y_train_np,random_state=42)\n",
    "\n",
    "X_valid_pd = model.transform(bv_test_tag)\n",
    "X_valid = []\n",
    "for i in tqdm(range(len(y_valid))):\n",
    "    X_valid.append(X_valid_pd[i].values)\n",
    "    \n",
    "X_valid_np = np.array(X_valid)"
   ]
  },
  {
   "cell_type": "code",
   "execution_count": 9,
   "metadata": {},
   "outputs": [
    {
     "name": "stderr",
     "output_type": "stream",
     "text": [
      "/home/serg/miniconda3/lib/python3.8/site-packages/xgboost/sklearn.py:1146: UserWarning: The use of label encoder in XGBClassifier is deprecated and will be removed in a future release. To remove this warning, do the following: 1) Pass option use_label_encoder=False when constructing XGBClassifier object; and 2) Encode your labels (y) as integers starting with 0, i.e. 0, 1, 2, ..., [num_class - 1].\n",
      "  warnings.warn(label_encoder_deprecation_msg, UserWarning)\n"
     ]
    },
    {
     "name": "stdout",
     "output_type": "stream",
     "text": [
      "[13:50:02] WARNING: ../src/learner.cc:1095: Starting in XGBoost 1.3.0, the default evaluation metric used with the objective 'multi:softprob' was changed from 'merror' to 'mlogloss'. Explicitly set eval_metric if you'd like to restore the old behavior.\n",
      "              precision    recall  f1-score   support\n",
      "\n",
      "        1999       1.00      0.00      0.00        19\n",
      "        2000       0.00      0.00      0.00        69\n",
      "        2001       0.15      0.02      0.04        96\n",
      "        2002       0.12      0.03      0.05       143\n",
      "        2003       0.17      0.04      0.07       134\n",
      "        2004       0.13      0.05      0.08       183\n",
      "        2005       0.13      0.08      0.10       240\n",
      "        2006       0.15      0.10      0.12       256\n",
      "        2007       0.11      0.05      0.07       236\n",
      "        2008       0.13      0.15      0.14       332\n",
      "        2009       0.14      0.22      0.17       423\n",
      "        2010       0.12      0.15      0.13       375\n",
      "        2011       0.17      0.19      0.18       384\n",
      "        2012       0.15      0.23      0.19       427\n",
      "        2013       0.20      0.21      0.20       387\n",
      "        2014       0.21      0.09      0.13       309\n",
      "        2015       0.20      0.21      0.20       387\n",
      "        2016       0.22      0.27      0.25       504\n",
      "        2017       0.20      0.21      0.20       414\n",
      "        2018       0.19      0.09      0.12       340\n",
      "        2019       0.28      0.43      0.34       495\n",
      "        2020       0.47      0.51      0.49       451\n",
      "\n",
      "    accuracy                           0.20      6604\n",
      "   macro avg       0.21      0.15      0.15      6604\n",
      "weighted avg       0.20      0.20      0.19      6604\n",
      "\n"
     ]
    }
   ],
   "source": [
    "classifier = XGBClassifier(n_jobs=-1)\n",
    "classifier.fit(X_train_np[:10000], y_train_np[:10000])\n",
    "pred = classifier.predict(X_valid_np)\n",
    "print(classification_report(y_valid, pred, zero_division=1))"
   ]
  },
  {
   "cell_type": "markdown",
   "metadata": {},
   "source": [
    "**Вывод:** качество по сравнению с предыдущей моделью возросло не сильно, однако росто наблюдается во всех метриках. Это говорит о благотворном влиянии дополнительной модальности на результат."
   ]
  },
  {
   "cell_type": "markdown",
   "metadata": {
    "id": "nhb7I1ajaL2i"
   },
   "source": [
    "## 2.3 Text + tag + month"
   ]
  },
  {
   "cell_type": "code",
   "execution_count": null,
   "metadata": {},
   "outputs": [],
   "source": [
    "dictionary = artm.Dictionary()\n",
    "dictionary.gather(data_path='data/vw_batches/batches_train_tag_month/')\n",
    "\n",
    "model = artm.ARTM(num_topics=200,\n",
    "                  dictionary=dictionary, \n",
    "                  class_ids={'@default_class': 1.0, '@tag': 10.0, '@month': 10.0}, num_processors=12)\n",
    "\n",
    "model.scores.add(artm.PerplexityScore(name='perplexity', dictionary=dictionary))\n",
    "model.scores.add(artm.TopTokensScore(name='top-tokens', num_tokens=10))\n",
    "model.scores.add(artm.SparsityPhiScore(name='sparsity_tag', class_id='@tag'))\n",
    "model.scores.add(artm.SparsityPhiScore(name='sparsity_month', class_id='@month'))\n",
    "\n",
    "\n",
    "\n",
    "iterator = tqdm(range(20))\n",
    "for i in iterator:\n",
    "    model.fit_offline(bv_train_tag_month, num_collection_passes=1)\n",
    "    iterator.set_postfix({'perplexity': model.score_tracker['perplexity'].value[-1], })\n",
    "\n",
    "model.dump_artm_model('data/model/tag_month_without_regular')\n",
    "\n",
    "# model = artm.load_artm_model('data/model/tag_month_without_regular/')\n",
    "# model.scores.add(artm.PerplexityScore(name='perplexity', dictionary=dictionary), overwrite=True)\n",
    "# model.scores.add(artm.TopTokensScore(name='top-tokens', num_tokens=10), overwrite=True)\n",
    "# model.scores.add(artm.SparsityPhiScore(name='sparsity_tag', class_id='@tag'), overwrite=True)\n",
    "# model.scores.add(artm.SparsityPhiScore(name='sparsity_month', class_id='@month'), overwrite=True)"
   ]
  },
  {
   "cell_type": "code",
   "execution_count": 5,
   "metadata": {},
   "outputs": [
    {
     "data": {
      "image/png": "[encoded data removed]",
      "text/plain": [
       "<Figure size 1440x720 with 2 Axes>"
      ]
     },
     "metadata": {
      "needs_background": "light"
     },
     "output_type": "display_data"
    }
   ],
   "source": [
    "plt.figure(figsize=(20, 10))\n",
    "plt.subplot(1, 2, 1)\n",
    "plt.plot(model.score_tracker['sparsity_tag'].value, label = 'sparsity_tag')\n",
    "\n",
    "plt.legend(loc = 'best')\n",
    "\n",
    "plt.xlabel('iteration')\n",
    "plt.ylabel('score')\n",
    "\n",
    "\n",
    "plt.subplot(1, 2, 2)\n",
    "plt.plot(model.score_tracker['sparsity_month'].value, label = 'sparsity_month')\n",
    "\n",
    "plt.legend(loc = 'best')\n",
    "\n",
    "plt.xlabel('iteration')\n",
    "plt.ylabel('score')\n",
    "plt.show()"
   ]
  },
  {
   "cell_type": "code",
   "execution_count": 6,
   "metadata": {},
   "outputs": [
    {
     "data": {
      "image/png": "[encoded data removed]",
      "text/plain": [
       "<Figure size 432x288 with 1 Axes>"
      ]
     },
     "metadata": {
      "needs_background": "light"
     },
     "output_type": "display_data"
    }
   ],
   "source": [
    "plt.plot(model.score_tracker['perplexity'].value, label = 'perplexity')\n",
    "\n",
    "plt.legend(loc = 'best')\n",
    "\n",
    "plt.xlabel('iteration')\n",
    "plt.ylabel('score')\n",
    "plt.yscale(\"log\")\n",
    "plt.show()"
   ]
  },
  {
   "cell_type": "code",
   "execution_count": 7,
   "metadata": {
    "id": "VW2ic0swWb7B"
   },
   "outputs": [
    {
     "data": {
      "application/vnd.jupyter.widget-view+json": {
       "model_id": "cdf74cc3caf64eaea3c162699fa47d1d",
       "version_major": 2,
       "version_minor": 0
      },
      "text/plain": [
       "HBox(children=(FloatProgress(value=0.0, max=653795.0), HTML(value='')))"
      ]
     },
     "metadata": {},
     "output_type": "display_data"
    },
    {
     "name": "stdout",
     "output_type": "stream",
     "text": [
      "\n"
     ]
    },
    {
     "data": {
      "application/vnd.jupyter.widget-view+json": {
       "model_id": "d68a3d60f2fd406db400f9bece7f711c",
       "version_major": 2,
       "version_minor": 0
      },
      "text/plain": [
       "HBox(children=(FloatProgress(value=0.0, max=6604.0), HTML(value='')))"
      ]
     },
     "metadata": {},
     "output_type": "display_data"
    },
    {
     "name": "stdout",
     "output_type": "stream",
     "text": [
      "\n"
     ]
    }
   ],
   "source": [
    "X_train_pd = model.transform(bv_train_tag_month)\n",
    "\n",
    "with open('data/vw_data/y_valid.txt') as f:\n",
    "    y_valid = f.read().split('\\n')\n",
    "\n",
    "with open('data/vw_data/y_train.txt') as f:\n",
    "    y_train = f.read().split('\\n')\n",
    "\n",
    "X_train = []\n",
    "for i in tqdm(range(len(y_train))):\n",
    "    X_train.append(X_train_pd[i].values)\n",
    "X_train_np = np.array(X_train)\n",
    "y_train_np = np.array(y_train)\n",
    "\n",
    "X_train_np, y_train_np = shuffle(X_train_np, y_train_np,random_state=42)\n",
    "\n",
    "X_valid_pd = model.transform(bv_test_tag_month)\n",
    "X_valid = []\n",
    "for i in tqdm(range(len(y_valid))):\n",
    "    X_valid.append(X_valid_pd[i].values)\n",
    "    \n",
    "X_valid_np = np.array(X_valid)"
   ]
  },
  {
   "cell_type": "code",
   "execution_count": 8,
   "metadata": {},
   "outputs": [
    {
     "name": "stderr",
     "output_type": "stream",
     "text": [
      "/home/serg/miniconda3/lib/python3.8/site-packages/xgboost/sklearn.py:1146: UserWarning: The use of label encoder in XGBClassifier is deprecated and will be removed in a future release. To remove this warning, do the following: 1) Pass option use_label_encoder=False when constructing XGBClassifier object; and 2) Encode your labels (y) as integers starting with 0, i.e. 0, 1, 2, ..., [num_class - 1].\n",
      "  warnings.warn(label_encoder_deprecation_msg, UserWarning)\n"
     ]
    },
    {
     "name": "stdout",
     "output_type": "stream",
     "text": [
      "[15:49:51] WARNING: ../src/learner.cc:1095: Starting in XGBoost 1.3.0, the default evaluation metric used with the objective 'multi:softprob' was changed from 'merror' to 'mlogloss'. Explicitly set eval_metric if you'd like to restore the old behavior.\n",
      "              precision    recall  f1-score   support\n",
      "\n",
      "        1999       1.00      0.00      0.00        19\n",
      "        2000       0.14      0.01      0.03        69\n",
      "        2001       0.25      0.05      0.09        96\n",
      "        2002       0.31      0.06      0.09       143\n",
      "        2003       0.22      0.06      0.09       134\n",
      "        2004       0.21      0.13      0.16       183\n",
      "        2005       0.17      0.17      0.17       240\n",
      "        2006       0.12      0.10      0.11       256\n",
      "        2007       0.10      0.05      0.07       236\n",
      "        2008       0.19      0.22      0.20       332\n",
      "        2009       0.22      0.35      0.27       423\n",
      "        2010       0.18      0.26      0.21       375\n",
      "        2011       0.20      0.19      0.19       384\n",
      "        2012       0.32      0.46      0.38       427\n",
      "        2013       0.39      0.41      0.40       387\n",
      "        2014       0.24      0.13      0.17       309\n",
      "        2015       0.23      0.21      0.22       387\n",
      "        2016       0.27      0.33      0.30       504\n",
      "        2017       0.21      0.19      0.20       414\n",
      "        2018       0.23      0.12      0.16       340\n",
      "        2019       0.29      0.39      0.33       495\n",
      "        2020       0.52      0.57      0.54       451\n",
      "\n",
      "    accuracy                           0.26      6604\n",
      "   macro avg       0.27      0.20      0.20      6604\n",
      "weighted avg       0.25      0.26      0.25      6604\n",
      "\n"
     ]
    }
   ],
   "source": [
    "classifier = XGBClassifier(n_jobs=-1)\n",
    "classifier.fit(X_train_np[:10000], y_train_np[:10000])\n",
    "pred = classifier.predict(X_valid_np)\n",
    "print(classification_report(y_valid, pred, zero_division=1))"
   ]
  },
  {
   "cell_type": "markdown",
   "metadata": {},
   "source": [
    "**Вывод:** качество существенно возросло по всем показателям, примерно на 5% в каждом. Тут, однако, стоит отметить, что помимо введения дополнительной модальности месяца были увеличены веса модельностей @tag и @month. Это было необходимо, т.к. sparsity у month не увеличивалось, а у @tag росло медленно при единичных весах."
   ]
  },
  {
   "cell_type": "markdown",
   "metadata": {},
   "source": [
    "## 2.4 Text + tag + month, decorrelation regularizer"
   ]
  },
  {
   "cell_type": "code",
   "execution_count": 3,
   "metadata": {},
   "outputs": [
    {
     "data": {
      "application/vnd.jupyter.widget-view+json": {
       "model_id": "497ad7605dc04badbcf64e554ddb2d30",
       "version_major": 2,
       "version_minor": 0
      },
      "text/plain": [
       "HBox(children=(FloatProgress(value=0.0, max=20.0), HTML(value='')))"
      ]
     },
     "metadata": {},
     "output_type": "display_data"
    },
    {
     "name": "stdout",
     "output_type": "stream",
     "text": [
      "\n"
     ]
    }
   ],
   "source": [
    "# dictionary = artm.Dictionary()\n",
    "# dictionary.gather(data_path='data/vw_batches/batches_train_tag_month/')\n",
    "\n",
    "# model = artm.ARTM(num_topics=250,\n",
    "#                   dictionary=dictionary, \n",
    "#                   class_ids={'@default_class': 1.0, '@tag': 10.0, '@month': 10.0}, num_processors=12)\n",
    "\n",
    "# model.scores.add(artm.PerplexityScore(name='perplexity', dictionary=dictionary))\n",
    "# model.scores.add(artm.TopTokensScore(name='top-tokens', num_tokens=10))\n",
    "# model.scores.add(artm.SparsityPhiScore(name='sparsity_tag', class_id='@tag'))\n",
    "# model.scores.add(artm.SparsityPhiScore(name='sparsity_month', class_id='@month'))\n",
    "\n",
    "# model.regularizers.add(artm.DecorrelatorPhiRegularizer(\"decor\", tau=1e+5))\n",
    "\n",
    "# iterator = tqdm(range(20))\n",
    "# for i in iterator:\n",
    "#     model.fit_offline(bv_train_tag_month, num_collection_passes=1)\n",
    "#     iterator.set_postfix({'perplexity': model.score_tracker['perplexity'].value[-1], })\n",
    "\n",
    "# model.dump_artm_model(\"data/model/tag_month_decor/\")\n",
    "\n",
    "model = artm.load_artm_model('data/model/tag_month_decor/')\n",
    "model.scores.add(artm.PerplexityScore(name='perplexity', dictionary=dictionary), overwrite=True)\n",
    "model.scores.add(artm.TopTokensScore(name='top-tokens', num_tokens=10), overwrite=True)\n",
    "model.scores.add(artm.SparsityPhiScore(name='sparsity_tag', class_id='@tag'), overwrite=True)\n",
    "model.scores.add(artm.SparsityPhiScore(name='sparsity_month', class_id='@month'), overwrite=True)"
   ]
  },
  {
   "cell_type": "code",
   "execution_count": 4,
   "metadata": {},
   "outputs": [
    {
     "data": {
      "image/png": "[encoded data removed]",
      "text/plain": [
       "<Figure size 1440x720 with 2 Axes>"
      ]
     },
     "metadata": {
      "needs_background": "light"
     },
     "output_type": "display_data"
    }
   ],
   "source": [
    "plt.figure(figsize=(20, 10))\n",
    "plt.subplot(1, 2, 1)\n",
    "plt.plot(model.score_tracker['sparsity_tag'].value, label = 'sparsity_tag')\n",
    "\n",
    "plt.legend(loc = 'best')\n",
    "\n",
    "plt.xlabel('iteration')\n",
    "plt.ylabel('score')\n",
    "\n",
    "\n",
    "plt.subplot(1, 2, 2)\n",
    "plt.plot(model.score_tracker['sparsity_month'].value, label = 'sparsity_month')\n",
    "\n",
    "plt.legend(loc = 'best')\n",
    "\n",
    "plt.xlabel('iteration')\n",
    "plt.ylabel('score')\n",
    "plt.show()"
   ]
  },
  {
   "cell_type": "code",
   "execution_count": 5,
   "metadata": {},
   "outputs": [
    {
     "data": {
      "image/png": "[encoded data removed]",
      "text/plain": [
       "<Figure size 432x288 with 1 Axes>"
      ]
     },
     "metadata": {
      "needs_background": "light"
     },
     "output_type": "display_data"
    }
   ],
   "source": [
    "plt.plot(model.score_tracker['perplexity'].value, label = 'perplexity')\n",
    "\n",
    "plt.legend(loc = 'best')\n",
    "\n",
    "plt.xlabel('iteration')\n",
    "plt.ylabel('score')\n",
    "plt.yscale(\"log\")\n",
    "plt.show()"
   ]
  },
  {
   "cell_type": "code",
   "execution_count": 6,
   "metadata": {
    "id": "VW2ic0swWb7B"
   },
   "outputs": [
    {
     "data": {
      "application/vnd.jupyter.widget-view+json": {
       "model_id": "a339d51c3c564089b60331ce162ed96e",
       "version_major": 2,
       "version_minor": 0
      },
      "text/plain": [
       "HBox(children=(FloatProgress(value=0.0, max=653795.0), HTML(value='')))"
      ]
     },
     "metadata": {},
     "output_type": "display_data"
    },
    {
     "name": "stdout",
     "output_type": "stream",
     "text": [
      "\n"
     ]
    },
    {
     "data": {
      "application/vnd.jupyter.widget-view+json": {
       "model_id": "1fbed10966fc410dac8408b7f7e98987",
       "version_major": 2,
       "version_minor": 0
      },
      "text/plain": [
       "HBox(children=(FloatProgress(value=0.0, max=6604.0), HTML(value='')))"
      ]
     },
     "metadata": {},
     "output_type": "display_data"
    },
    {
     "name": "stdout",
     "output_type": "stream",
     "text": [
      "\n"
     ]
    }
   ],
   "source": [
    "X_train_pd = model.transform(bv_train_tag_month)\n",
    "\n",
    "with open('data/vw_data/y_valid.txt') as f:\n",
    "    y_valid = f.read().split('\\n')\n",
    "\n",
    "with open('data/vw_data/y_train.txt') as f:\n",
    "    y_train = f.read().split('\\n')\n",
    "\n",
    "X_train = []\n",
    "for i in tqdm(range(len(y_train))):\n",
    "    X_train.append(X_train_pd[i].values)\n",
    "X_train_np = np.array(X_train)\n",
    "y_train_np = np.array(y_train)\n",
    "\n",
    "X_train_np, y_train_np = shuffle(X_train_np, y_train_np,random_state=42)\n",
    "\n",
    "X_valid_pd = model.transform(bv_test_tag_month)\n",
    "X_valid = []\n",
    "for i in tqdm(range(len(y_valid))):\n",
    "    X_valid.append(X_valid_pd[i].values)\n",
    "    \n",
    "X_valid_np = np.array(X_valid)"
   ]
  },
  {
   "cell_type": "code",
   "execution_count": 8,
   "metadata": {},
   "outputs": [
    {
     "name": "stdout",
     "output_type": "stream",
     "text": [
      "[12:17:40] WARNING: ../src/learner.cc:1095: Starting in XGBoost 1.3.0, the default evaluation metric used with the objective 'multi:softprob' was changed from 'merror' to 'mlogloss'. Explicitly set eval_metric if you'd like to restore the old behavior.\n",
      "              precision    recall  f1-score   support\n",
      "\n",
      "        1999       1.00      0.00      0.00        19\n",
      "        2000       0.00      0.00      0.00        69\n",
      "        2001       0.14      0.02      0.04        96\n",
      "        2002       0.20      0.06      0.10       143\n",
      "        2003       0.12      0.03      0.05       134\n",
      "        2004       0.21      0.12      0.15       183\n",
      "        2005       0.19      0.19      0.19       240\n",
      "        2006       0.22      0.18      0.20       256\n",
      "        2007       0.14      0.08      0.10       236\n",
      "        2008       0.21      0.22      0.21       332\n",
      "        2009       0.17      0.27      0.21       423\n",
      "        2010       0.14      0.15      0.14       375\n",
      "        2011       0.18      0.21      0.19       384\n",
      "        2012       0.17      0.20      0.19       427\n",
      "        2013       0.22      0.25      0.23       387\n",
      "        2014       0.21      0.11      0.15       309\n",
      "        2015       0.19      0.20      0.19       387\n",
      "        2016       0.26      0.36      0.30       504\n",
      "        2017       0.22      0.24      0.23       414\n",
      "        2018       0.19      0.11      0.14       340\n",
      "        2019       0.31      0.39      0.34       495\n",
      "        2020       0.53      0.53      0.53       451\n",
      "\n",
      "    accuracy                           0.23      6604\n",
      "   macro avg       0.24      0.18      0.18      6604\n",
      "weighted avg       0.22      0.23      0.22      6604\n",
      "\n"
     ]
    }
   ],
   "source": [
    "classifier = XGBClassifier(n_jobs=-1)\n",
    "classifier.fit(X_train_np[:20000], y_train_np[:20000])\n",
    "pred = classifier.predict(X_valid_np)\n",
    "print(classification_report(y_valid, pred, zero_division=1))"
   ]
  },
  {
   "cell_type": "markdown",
   "metadata": {},
   "source": [
    "**Вывод:** качество несколько ухудшилось по сравнению с предыдущим экспериментом. По всем метрикам наблюдается регресс 2-3%. То есть введение декоррелирующего регуляризатора оказало в целом негативное влияние на результат. \n",
    "\n",
    "Отсюда следует гипотеза: увеличивая рареженность матрица $\\Phi$, мы уменьшаем разнообразие тематических векторов, то есть каждый из них становится более разреженным. Это может приводить к тому, что классификатор получает на вход вектор с весьма бедной информацией. Для проверки этой гипотезы, попробуем добиться обратного эффекта -- сглаживания."
   ]
  },
  {
   "cell_type": "markdown",
   "metadata": {},
   "source": [
    "## 2.5 Text + tag + month, smooth regularizer"
   ]
  },
  {
   "cell_type": "code",
   "execution_count": 3,
   "metadata": {},
   "outputs": [
    {
     "data": {
      "application/vnd.jupyter.widget-view+json": {
       "model_id": "6b4d247230f64189b38daaa6beb0cc5a",
       "version_major": 2,
       "version_minor": 0
      },
      "text/plain": [
       "HBox(children=(FloatProgress(value=0.0, max=20.0), HTML(value='')))"
      ]
     },
     "metadata": {},
     "output_type": "display_data"
    },
    {
     "name": "stdout",
     "output_type": "stream",
     "text": [
      "\n"
     ]
    }
   ],
   "source": [
    "dictionary = artm.Dictionary()\n",
    "dictionary.gather(data_path='data/vw_batches/batches_train_tag_month/')\n",
    "\n",
    "model = artm.ARTM(num_topics=250,\n",
    "                  dictionary=dictionary, \n",
    "                  class_ids={'@default_class': 1.0, '@tag': 10.0, '@month': 10.0}, num_processors=12)\n",
    "\n",
    "model.scores.add(artm.PerplexityScore(name='perplexity', dictionary=dictionary))\n",
    "model.scores.add(artm.TopTokensScore(name='top-tokens', num_tokens=10))\n",
    "model.scores.add(artm.SparsityPhiScore(name='sparsity_tag', class_id='@tag'))\n",
    "model.scores.add(artm.SparsityPhiScore(name='sparsity_month', class_id='@month'))\n",
    "\n",
    "model.regularizers.add(artm.SmoothSparsePhiRegularizer(\"smooth_phi\", tau=0.1))\n",
    "model.regularizers.add(artm.SmoothSparseThetaRegularizer(\"smooth_theta\", tau=0.1))\n",
    "\n",
    "\n",
    "iterator = tqdm(range(20))\n",
    "for i in iterator:\n",
    "    model.fit_offline(bv_train_tag_month, num_collection_passes=1)\n",
    "    iterator.set_postfix({'perplexity': model.score_tracker['perplexity'].value[-1], })\n",
    "\n",
    "model.dump_artm_model(\"data/model/tag_month_smooth/\")\n",
    "\n",
    "# model = artm.load_artm_model('data/model/tag_month_smooth/')\n",
    "# model.scores.add(artm.PerplexityScore(name='perplexity', dictionary=dictionary), overwrite=True)\n",
    "# model.scores.add(artm.TopTokensScore(name='top-tokens', num_tokens=10), overwrite=True)\n",
    "# model.scores.add(artm.SparsityPhiScore(name='sparsity_tag', class_id='@tag'), overwrite=True)\n",
    "# model.scores.add(artm.SparsityPhiScore(name='sparsity_month', class_id='@month'), overwrite=True)"
   ]
  },
  {
   "cell_type": "code",
   "execution_count": 4,
   "metadata": {},
   "outputs": [
    {
     "data": {
      "image/png": "[encoded data removed]",
      "text/plain": [
       "<Figure size 1440x720 with 2 Axes>"
      ]
     },
     "metadata": {
      "needs_background": "light"
     },
     "output_type": "display_data"
    }
   ],
   "source": [
    "plt.figure(figsize=(20, 10))\n",
    "plt.subplot(1, 2, 1)\n",
    "plt.plot(model.score_tracker['sparsity_tag'].value, label = 'sparsity_tag')\n",
    "\n",
    "plt.legend(loc = 'best')\n",
    "\n",
    "plt.xlabel('iteration')\n",
    "plt.ylabel('score')\n",
    "\n",
    "\n",
    "plt.subplot(1, 2, 2)\n",
    "plt.plot(model.score_tracker['sparsity_month'].value, label = 'sparsity_month')\n",
    "\n",
    "plt.legend(loc = 'best')\n",
    "\n",
    "plt.xlabel('iteration')\n",
    "plt.ylabel('score')\n",
    "plt.show()"
   ]
  },
  {
   "cell_type": "code",
   "execution_count": 5,
   "metadata": {},
   "outputs": [
    {
     "data": {
      "image/png": "[encoded data removed]",
      "text/plain": [
       "<Figure size 432x288 with 1 Axes>"
      ]
     },
     "metadata": {
      "needs_background": "light"
     },
     "output_type": "display_data"
    }
   ],
   "source": [
    "plt.plot(model.score_tracker['perplexity'].value, label = 'perplexity')\n",
    "\n",
    "plt.legend(loc = 'best')\n",
    "\n",
    "plt.xlabel('iteration')\n",
    "plt.ylabel('score')\n",
    "plt.yscale(\"log\")\n",
    "plt.show()"
   ]
  },
  {
   "cell_type": "code",
   "execution_count": 6,
   "metadata": {
    "id": "VW2ic0swWb7B"
   },
   "outputs": [
    {
     "data": {
      "application/vnd.jupyter.widget-view+json": {
       "model_id": "4b841cec6eca4bb49a7a297954569d40",
       "version_major": 2,
       "version_minor": 0
      },
      "text/plain": [
       "HBox(children=(FloatProgress(value=0.0, max=653795.0), HTML(value='')))"
      ]
     },
     "metadata": {},
     "output_type": "display_data"
    },
    {
     "name": "stdout",
     "output_type": "stream",
     "text": [
      "\n"
     ]
    },
    {
     "data": {
      "application/vnd.jupyter.widget-view+json": {
       "model_id": "510bdb28b55f4ad6a04da17d833b010b",
       "version_major": 2,
       "version_minor": 0
      },
      "text/plain": [
       "HBox(children=(FloatProgress(value=0.0, max=6604.0), HTML(value='')))"
      ]
     },
     "metadata": {},
     "output_type": "display_data"
    },
    {
     "name": "stdout",
     "output_type": "stream",
     "text": [
      "\n"
     ]
    }
   ],
   "source": [
    "X_train_pd = model.transform(bv_train_tag_month)\n",
    "\n",
    "with open('data/vw_data/y_valid.txt') as f:\n",
    "    y_valid = f.read().split('\\n')\n",
    "\n",
    "with open('data/vw_data/y_train.txt') as f:\n",
    "    y_train = f.read().split('\\n')\n",
    "\n",
    "X_train = []\n",
    "for i in tqdm(range(len(y_train))):\n",
    "    X_train.append(X_train_pd[i].values)\n",
    "X_train_np = np.array(X_train)\n",
    "y_train_np = np.array(y_train)\n",
    "\n",
    "X_train_np, y_train_np = shuffle(X_train_np, y_train_np,random_state=42)\n",
    "\n",
    "X_valid_pd = model.transform(bv_test_tag_month)\n",
    "X_valid = []\n",
    "for i in tqdm(range(len(y_valid))):\n",
    "    X_valid.append(X_valid_pd[i].values)\n",
    "    \n",
    "X_valid_np = np.array(X_valid)"
   ]
  },
  {
   "cell_type": "code",
   "execution_count": 7,
   "metadata": {},
   "outputs": [
    {
     "name": "stderr",
     "output_type": "stream",
     "text": [
      "/home/serg/miniconda3/lib/python3.8/site-packages/xgboost/sklearn.py:1146: UserWarning: The use of label encoder in XGBClassifier is deprecated and will be removed in a future release. To remove this warning, do the following: 1) Pass option use_label_encoder=False when constructing XGBClassifier object; and 2) Encode your labels (y) as integers starting with 0, i.e. 0, 1, 2, ..., [num_class - 1].\n",
      "  warnings.warn(label_encoder_deprecation_msg, UserWarning)\n"
     ]
    },
    {
     "name": "stdout",
     "output_type": "stream",
     "text": [
      "[13:06:04] WARNING: ../src/learner.cc:1095: Starting in XGBoost 1.3.0, the default evaluation metric used with the objective 'multi:softprob' was changed from 'merror' to 'mlogloss'. Explicitly set eval_metric if you'd like to restore the old behavior.\n",
      "              precision    recall  f1-score   support\n",
      "\n",
      "        1999       1.00      0.00      0.00        19\n",
      "        2000       0.00      0.00      0.00        69\n",
      "        2001       0.20      0.02      0.04        96\n",
      "        2002       0.15      0.06      0.09       143\n",
      "        2003       0.14      0.04      0.06       134\n",
      "        2004       0.25      0.16      0.20       183\n",
      "        2005       0.21      0.18      0.20       240\n",
      "        2006       0.16      0.18      0.17       256\n",
      "        2007       0.13      0.08      0.09       236\n",
      "        2008       0.17      0.23      0.19       332\n",
      "        2009       0.23      0.31      0.26       423\n",
      "        2010       0.16      0.22      0.18       375\n",
      "        2011       0.28      0.29      0.28       384\n",
      "        2012       0.35      0.35      0.35       427\n",
      "        2013       0.38      0.44      0.41       387\n",
      "        2014       0.27      0.16      0.20       309\n",
      "        2015       0.27      0.24      0.25       387\n",
      "        2016       0.28      0.35      0.32       504\n",
      "        2017       0.23      0.25      0.24       414\n",
      "        2018       0.21      0.12      0.15       340\n",
      "        2019       0.32      0.40      0.36       495\n",
      "        2020       0.56      0.61      0.59       451\n",
      "\n",
      "    accuracy                           0.27      6604\n",
      "   macro avg       0.27      0.21      0.21      6604\n",
      "weighted avg       0.27      0.27      0.26      6604\n",
      "\n"
     ]
    }
   ],
   "source": [
    "classifier = XGBClassifier(n_jobs=-1)\n",
    "classifier.fit(X_train_np[:20000], y_train_np[:20000])\n",
    "pred = classifier.predict(X_valid_np)\n",
    "print(classification_report(y_valid, pred, zero_division=1))"
   ]
  },
  {
   "cell_type": "markdown",
   "metadata": {},
   "source": [
    "**Вывод:** гипотеза частично себя оправдала: использование SmoothSparseRegularizer для обеих матриц позволило увеличить немного качество. Все метрики возросли приблизительно на 1%. "
   ]
  },
  {
   "cell_type": "markdown",
   "metadata": {},
   "source": [
    "## 2.6 BigARTM as a classifier"
   ]
  },
  {
   "cell_type": "code",
   "execution_count": 10,
   "metadata": {},
   "outputs": [
    {
     "data": {
      "application/vnd.jupyter.widget-view+json": {
       "model_id": "97dac7b86c774c4dae269b8f619087d3",
       "version_major": 2,
       "version_minor": 0
      },
      "text/plain": [
       "HBox(children=(FloatProgress(value=0.0, max=20.0), HTML(value='')))"
      ]
     },
     "metadata": {},
     "output_type": "display_data"
    },
    {
     "name": "stdout",
     "output_type": "stream",
     "text": [
      "\n"
     ]
    }
   ],
   "source": [
    "dictionary = artm.Dictionary()\n",
    "dictionary.gather(data_path='data/vw_batches/batches_train_tag_month_year/')\n",
    "\n",
    "model = artm.ARTM(num_topics=250,\n",
    "                  dictionary=dictionary, \n",
    "                  class_ids={'@default_class': 1.0, '@tag': 10.0, '@month': 10.0, '@year': 10.0}, num_processors=12)\n",
    "\n",
    "model.scores.add(artm.PerplexityScore(name='perplexity', dictionary=dictionary))\n",
    "model.scores.add(artm.TopTokensScore(name='top-tokens', num_tokens=10))\n",
    "model.scores.add(artm.SparsityPhiScore(name='sparsity_tag', class_id='@tag'))\n",
    "model.scores.add(artm.SparsityPhiScore(name='sparsity_month', class_id='@month'))\n",
    "model.scores.add(artm.SparsityPhiScore(name='sparsity_year', class_id='@year'))\n",
    "\n",
    "\n",
    "model.regularizers.add(artm.SmoothSparsePhiRegularizer(\"smooth_phi\", tau=0.1))\n",
    "model.regularizers.add(artm.SmoothSparseThetaRegularizer(\"smooth_theta\", tau=0.1))\n",
    "\n",
    "\n",
    "iterator = tqdm(range(20))\n",
    "for i in iterator:\n",
    "    model.fit_offline(bv_train_tag_month_year, num_collection_passes=1)\n",
    "    iterator.set_postfix({'perplexity': model.score_tracker['perplexity'].value[-1], })\n",
    "\n",
    "model.dump_artm_model(\"data/model/tag_month_clf/\")\n",
    "\n",
    "# model = artm.load_artm_model('data/model/tag_month_clf/')\n",
    "# model.scores.add(artm.PerplexityScore(name='perplexity', dictionary=dictionary), overwrite=True)\n",
    "# model.scores.add(artm.TopTokensScore(name='top-tokens', num_tokens=10), overwrite=True)\n",
    "# model.scores.add(artm.SparsityPhiScore(name='sparsity_tag', class_id='@tag'), overwrite=True)\n",
    "# model.scores.add(artm.SparsityPhiScore(name='sparsity_month', class_id='@month'), overwrite=True)"
   ]
  },
  {
   "cell_type": "code",
   "execution_count": 12,
   "metadata": {},
   "outputs": [
    {
     "data": {
      "image/png": "[encoded data removed]",
      "text/plain": [
       "<Figure size 1440x720 with 3 Axes>"
      ]
     },
     "metadata": {
      "needs_background": "light"
     },
     "output_type": "display_data"
    }
   ],
   "source": [
    "plt.figure(figsize=(20, 10))\n",
    "plt.subplot(1, 3, 1)\n",
    "plt.plot(model.score_tracker['sparsity_tag'].value, label = 'sparsity_tag')\n",
    "\n",
    "plt.legend(loc = 'best')\n",
    "\n",
    "plt.xlabel('iteration')\n",
    "plt.ylabel('score')\n",
    "\n",
    "\n",
    "plt.subplot(1, 3, 2)\n",
    "plt.plot(model.score_tracker['sparsity_month'].value, label = 'sparsity_month')\n",
    "\n",
    "plt.legend(loc = 'best')\n",
    "\n",
    "plt.xlabel('iteration')\n",
    "plt.ylabel('score')\n",
    "\n",
    "\n",
    "plt.subplot(1, 3, 3)\n",
    "plt.plot(model.score_tracker['sparsity_year'].value, label = 'sparsity_year')\n",
    "\n",
    "plt.legend(loc = 'best')\n",
    "\n",
    "plt.xlabel('iteration')\n",
    "plt.ylabel('score')\n",
    "plt.show()"
   ]
  },
  {
   "cell_type": "code",
   "execution_count": 13,
   "metadata": {},
   "outputs": [
    {
     "data": {
      "image/png": "[encoded data removed]",
      "text/plain": [
       "<Figure size 432x288 with 1 Axes>"
      ]
     },
     "metadata": {
      "needs_background": "light"
     },
     "output_type": "display_data"
    }
   ],
   "source": [
    "plt.plot(model.score_tracker['perplexity'].value, label = 'perplexity')\n",
    "\n",
    "plt.legend(loc = 'best')\n",
    "\n",
    "plt.xlabel('iteration')\n",
    "plt.ylabel('score')\n",
    "plt.yscale(\"log\")\n",
    "plt.show()"
   ]
  },
  {
   "cell_type": "code",
   "execution_count": 16,
   "metadata": {
    "id": "VW2ic0swWb7B"
   },
   "outputs": [
    {
     "data": {
      "text/plain": [
       "(23, 6604)"
      ]
     },
     "execution_count": 16,
     "metadata": {},
     "output_type": "execute_result"
    }
   ],
   "source": [
    "p_cd_test = model.transform(batch_vectorizer=bv_test_tag_month_year, predict_class_id=\"@year\")\n",
    "\n",
    "p_cd_test.shape"
   ]
  },
  {
   "cell_type": "code",
   "execution_count": 30,
   "metadata": {},
   "outputs": [],
   "source": [
    "index = p_cd_test.index\n",
    "p_cd_test_np = p_cd_test.to_numpy().T\n",
    "raw_ids = np.argmax(p_cd_test_np, axis=-1)\n",
    "predicts = [index[idx].split('_')[-1] for idx in raw_ids]"
   ]
  },
  {
   "cell_type": "code",
   "execution_count": 32,
   "metadata": {},
   "outputs": [],
   "source": [
    "with open('data/vw_data/y_valid.txt') as f:\n",
    "    y_valid = f.read().split('\\n')"
   ]
  },
  {
   "cell_type": "code",
   "execution_count": 34,
   "metadata": {},
   "outputs": [
    {
     "name": "stdout",
     "output_type": "stream",
     "text": [
      "              precision    recall  f1-score   support\n",
      "\n",
      "        1999       1.00      0.16      0.27        19\n",
      "        2000       0.73      0.12      0.20        69\n",
      "        2001       0.65      0.18      0.28        96\n",
      "        2002       0.64      0.24      0.35       143\n",
      "        2003       0.55      0.24      0.33       134\n",
      "        2004       0.45      0.30      0.36       183\n",
      "        2005       0.33      0.20      0.25       240\n",
      "        2006       0.44      0.27      0.34       256\n",
      "        2007       0.63      0.29      0.40       236\n",
      "        2008       0.39      0.36      0.37       332\n",
      "        2009       0.45      0.44      0.45       423\n",
      "        2010       0.38      0.46      0.42       375\n",
      "        2011       0.30      0.41      0.35       384\n",
      "        2012       0.35      0.39      0.37       427\n",
      "        2013       0.39      0.40      0.39       387\n",
      "        2014       0.38      0.28      0.32       309\n",
      "        2015       0.27      0.34      0.30       387\n",
      "        2016       0.27      0.43      0.33       504\n",
      "        2017       0.41      0.36      0.38       414\n",
      "        2018       0.35      0.30      0.32       340\n",
      "        2019       0.38      0.57      0.45       495\n",
      "        2020       0.59      0.53      0.55       451\n",
      "\n",
      "    accuracy                           0.38      6604\n",
      "   macro avg       0.47      0.33      0.35      6604\n",
      "weighted avg       0.41      0.38      0.38      6604\n",
      "\n"
     ]
    }
   ],
   "source": [
    "print(classification_report(y_valid, predicts))"
   ]
  },
  {
   "cell_type": "markdown",
   "metadata": {},
   "source": [
    "**Вывод:** очевидно, что введение зная год, ответить на вопрос о нем несложно. Видно, что качество модели **существенно** превосходит все предыдущие, однако, не 100%.\n",
    "\n",
    "Почему так? Тут роль может сыграть то, что мы приближаем исходную матрицу не точно. Более того, параметры использовались как в предыдущей модели, что может быть неоптимально с учетом дополнительной модальности. Однако сам факт того, что модель получилась значительно точнее, чем все предыдущие, говорит о том, модель использует дополнительную модальность для предсказания, и при более тщательном подборе параметров может показывать лучшие метрики."
   ]
  }
 ],
 "metadata": {
  "colab": {
   "authorship_tag": "ABX9TyOX8L+xgyv/a6ewQfh6Lk3K",
   "collapsed_sections": [],
   "name": "task_222.ipynb",
   "provenance": []
  },
  "kernelspec": {
   "display_name": "Python 3 (ipykernel)",
   "language": "python",
   "name": "python3"
  },
  "language_info": {
   "codemirror_mode": {
    "name": "ipython",
    "version": 3
   },
   "file_extension": ".py",
   "mimetype": "text/x-python",
   "name": "python",
   "nbconvert_exporter": "python",
   "pygments_lexer": "ipython3",
   "version": "3.8.5"
  },
  "widgets": {
   "application/vnd.jupyter.widget-state+json": {
    "08b5f9296e184d6598ff60dbdfff124f": {
     "model_module": "@jupyter-widgets/controls",
     "model_module_version": "1.5.0",
     "model_name": "FloatProgressModel",
     "state": {
      "_dom_classes": [],
      "_model_module": "@jupyter-widgets/controls",
      "_model_module_version": "1.5.0",
      "_model_name": "FloatProgressModel",
      "_view_count": null,
      "_view_module": "@jupyter-widgets/controls",
      "_view_module_version": "1.5.0",
      "_view_name": "ProgressView",
      "bar_style": "success",
      "description": "",
      "description_tooltip": null,
      "layout": "IPY_MODEL_cc9f9c34df024eabbfa9ec8bd5485386",
      "max": 215821,
      "min": 0,
      "orientation": "horizontal",
      "style": "IPY_MODEL_b4cf8c5ec7334090972489a6f5d44dce",
      "value": 215821
     }
    },
    "08e413d0323546c690f6cdb99786283f": {
     "model_module": "@jupyter-widgets/base",
     "model_module_version": "1.2.0",
     "model_name": "LayoutModel",
     "state": {
      "_model_module": "@jupyter-widgets/base",
      "_model_module_version": "1.2.0",
      "_model_name": "LayoutModel",
      "_view_count": null,
      "_view_module": "@jupyter-widgets/base",
      "_view_module_version": "1.2.0",
      "_view_name": "LayoutView",
      "align_content": null,
      "align_items": null,
      "align_self": null,
      "border": null,
      "bottom": null,
      "display": null,
      "flex": null,
      "flex_flow": null,
      "grid_area": null,
      "grid_auto_columns": null,
      "grid_auto_flow": null,
      "grid_auto_rows": null,
      "grid_column": null,
      "grid_gap": null,
      "grid_row": null,
      "grid_template_areas": null,
      "grid_template_columns": null,
      "grid_template_rows": null,
      "height": null,
      "justify_content": null,
      "justify_items": null,
      "left": null,
      "margin": null,
      "max_height": null,
      "max_width": null,
      "min_height": null,
      "min_width": null,
      "object_fit": null,
      "object_position": null,
      "order": null,
      "overflow": null,
      "overflow_x": null,
      "overflow_y": null,
      "padding": null,
      "right": null,
      "top": null,
      "visibility": null,
      "width": null
     }
    },
    "0da9ea07326a41dca75de9e4627b309e": {
     "model_module": "@jupyter-widgets/base",
     "model_module_version": "1.2.0",
     "model_name": "LayoutModel",
     "state": {
      "_model_module": "@jupyter-widgets/base",
      "_model_module_version": "1.2.0",
      "_model_name": "LayoutModel",
      "_view_count": null,
      "_view_module": "@jupyter-widgets/base",
      "_view_module_version": "1.2.0",
      "_view_name": "LayoutView",
      "align_content": null,
      "align_items": null,
      "align_self": null,
      "border": null,
      "bottom": null,
      "display": null,
      "flex": null,
      "flex_flow": null,
      "grid_area": null,
      "grid_auto_columns": null,
      "grid_auto_flow": null,
      "grid_auto_rows": null,
      "grid_column": null,
      "grid_gap": null,
      "grid_row": null,
      "grid_template_areas": null,
      "grid_template_columns": null,
      "grid_template_rows": null,
      "height": null,
      "justify_content": null,
      "justify_items": null,
      "left": null,
      "margin": null,
      "max_height": null,
      "max_width": null,
      "min_height": null,
      "min_width": null,
      "object_fit": null,
      "object_position": null,
      "order": null,
      "overflow": null,
      "overflow_x": null,
      "overflow_y": null,
      "padding": null,
      "right": null,
      "top": null,
      "visibility": null,
      "width": null
     }
    },
    "1665e5c96b394ccea1804464620f0fe1": {
     "model_module": "@jupyter-widgets/controls",
     "model_module_version": "1.5.0",
     "model_name": "ProgressStyleModel",
     "state": {
      "_model_module": "@jupyter-widgets/controls",
      "_model_module_version": "1.5.0",
      "_model_name": "ProgressStyleModel",
      "_view_count": null,
      "_view_module": "@jupyter-widgets/base",
      "_view_module_version": "1.2.0",
      "_view_name": "StyleView",
      "bar_color": null,
      "description_width": ""
     }
    },
    "1778be95ab2d4150a21d8a2ab13ceaa5": {
     "model_module": "@jupyter-widgets/base",
     "model_module_version": "1.2.0",
     "model_name": "LayoutModel",
     "state": {
      "_model_module": "@jupyter-widgets/base",
      "_model_module_version": "1.2.0",
      "_model_name": "LayoutModel",
      "_view_count": null,
      "_view_module": "@jupyter-widgets/base",
      "_view_module_version": "1.2.0",
      "_view_name": "LayoutView",
      "align_content": null,
      "align_items": null,
      "align_self": null,
      "border": null,
      "bottom": null,
      "display": null,
      "flex": null,
      "flex_flow": null,
      "grid_area": null,
      "grid_auto_columns": null,
      "grid_auto_flow": null,
      "grid_auto_rows": null,
      "grid_column": null,
      "grid_gap": null,
      "grid_row": null,
      "grid_template_areas": null,
      "grid_template_columns": null,
      "grid_template_rows": null,
      "height": null,
      "justify_content": null,
      "justify_items": null,
      "left": null,
      "margin": null,
      "max_height": null,
      "max_width": null,
      "min_height": null,
      "min_width": null,
      "object_fit": null,
      "object_position": null,
      "order": null,
      "overflow": null,
      "overflow_x": null,
      "overflow_y": null,
      "padding": null,
      "right": null,
      "top": null,
      "visibility": null,
      "width": null
     }
    },
    "19f3ff72e1e54d468f0a36bd261afd68": {
     "model_module": "@jupyter-widgets/controls",
     "model_module_version": "1.5.0",
     "model_name": "HBoxModel",
     "state": {
      "_dom_classes": [],
      "_model_module": "@jupyter-widgets/controls",
      "_model_module_version": "1.5.0",
      "_model_name": "HBoxModel",
      "_view_count": null,
      "_view_module": "@jupyter-widgets/controls",
      "_view_module_version": "1.5.0",
      "_view_name": "HBoxView",
      "box_style": "",
      "children": [
       "IPY_MODEL_a4199ae3acac4dfd9ab584a76e2471a1",
       "IPY_MODEL_cf5a0a8626aa46dcb821388651c92a85",
       "IPY_MODEL_39ee918617344514b0ab227ed0042475"
      ],
      "layout": "IPY_MODEL_cec1591a4c84403f9609a456c4a9c948"
     }
    },
    "29b7295f7d334cc097664f08bec2b9ce": {
     "model_module": "@jupyter-widgets/base",
     "model_module_version": "1.2.0",
     "model_name": "LayoutModel",
     "state": {
      "_model_module": "@jupyter-widgets/base",
      "_model_module_version": "1.2.0",
      "_model_name": "LayoutModel",
      "_view_count": null,
      "_view_module": "@jupyter-widgets/base",
      "_view_module_version": "1.2.0",
      "_view_name": "LayoutView",
      "align_content": null,
      "align_items": null,
      "align_self": null,
      "border": null,
      "bottom": null,
      "display": null,
      "flex": null,
      "flex_flow": null,
      "grid_area": null,
      "grid_auto_columns": null,
      "grid_auto_flow": null,
      "grid_auto_rows": null,
      "grid_column": null,
      "grid_gap": null,
      "grid_row": null,
      "grid_template_areas": null,
      "grid_template_columns": null,
      "grid_template_rows": null,
      "height": null,
      "justify_content": null,
      "justify_items": null,
      "left": null,
      "margin": null,
      "max_height": null,
      "max_width": null,
      "min_height": null,
      "min_width": null,
      "object_fit": null,
      "object_position": null,
      "order": null,
      "overflow": null,
      "overflow_x": null,
      "overflow_y": null,
      "padding": null,
      "right": null,
      "top": null,
      "visibility": null,
      "width": null
     }
    },
    "2a0eb81953014dd4b4f3fa44b61763da": {
     "model_module": "@jupyter-widgets/base",
     "model_module_version": "1.2.0",
     "model_name": "LayoutModel",
     "state": {
      "_model_module": "@jupyter-widgets/base",
      "_model_module_version": "1.2.0",
      "_model_name": "LayoutModel",
      "_view_count": null,
      "_view_module": "@jupyter-widgets/base",
      "_view_module_version": "1.2.0",
      "_view_name": "LayoutView",
      "align_content": null,
      "align_items": null,
      "align_self": null,
      "border": null,
      "bottom": null,
      "display": null,
      "flex": null,
      "flex_flow": null,
      "grid_area": null,
      "grid_auto_columns": null,
      "grid_auto_flow": null,
      "grid_auto_rows": null,
      "grid_column": null,
      "grid_gap": null,
      "grid_row": null,
      "grid_template_areas": null,
      "grid_template_columns": null,
      "grid_template_rows": null,
      "height": null,
      "justify_content": null,
      "justify_items": null,
      "left": null,
      "margin": null,
      "max_height": null,
      "max_width": null,
      "min_height": null,
      "min_width": null,
      "object_fit": null,
      "object_position": null,
      "order": null,
      "overflow": null,
      "overflow_x": null,
      "overflow_y": null,
      "padding": null,
      "right": null,
      "top": null,
      "visibility": null,
      "width": null
     }
    },
    "2ead2dd5784b4758aa6efe5d293d5f79": {
     "model_module": "@jupyter-widgets/controls",
     "model_module_version": "1.5.0",
     "model_name": "DescriptionStyleModel",
     "state": {
      "_model_module": "@jupyter-widgets/controls",
      "_model_module_version": "1.5.0",
      "_model_name": "DescriptionStyleModel",
      "_view_count": null,
      "_view_module": "@jupyter-widgets/base",
      "_view_module_version": "1.2.0",
      "_view_name": "StyleView",
      "description_width": ""
     }
    },
    "31b5ea67ba2f42ed8bc67770b7e3e8db": {
     "model_module": "@jupyter-widgets/base",
     "model_module_version": "1.2.0",
     "model_name": "LayoutModel",
     "state": {
      "_model_module": "@jupyter-widgets/base",
      "_model_module_version": "1.2.0",
      "_model_name": "LayoutModel",
      "_view_count": null,
      "_view_module": "@jupyter-widgets/base",
      "_view_module_version": "1.2.0",
      "_view_name": "LayoutView",
      "align_content": null,
      "align_items": null,
      "align_self": null,
      "border": null,
      "bottom": null,
      "display": null,
      "flex": null,
      "flex_flow": null,
      "grid_area": null,
      "grid_auto_columns": null,
      "grid_auto_flow": null,
      "grid_auto_rows": null,
      "grid_column": null,
      "grid_gap": null,
      "grid_row": null,
      "grid_template_areas": null,
      "grid_template_columns": null,
      "grid_template_rows": null,
      "height": null,
      "justify_content": null,
      "justify_items": null,
      "left": null,
      "margin": null,
      "max_height": null,
      "max_width": null,
      "min_height": null,
      "min_width": null,
      "object_fit": null,
      "object_position": null,
      "order": null,
      "overflow": null,
      "overflow_x": null,
      "overflow_y": null,
      "padding": null,
      "right": null,
      "top": null,
      "visibility": null,
      "width": null
     }
    },
    "32cad9ee122c46068ff08876ce2aeb06": {
     "model_module": "@jupyter-widgets/controls",
     "model_module_version": "1.5.0",
     "model_name": "HTMLModel",
     "state": {
      "_dom_classes": [],
      "_model_module": "@jupyter-widgets/controls",
      "_model_module_version": "1.5.0",
      "_model_name": "HTMLModel",
      "_view_count": null,
      "_view_module": "@jupyter-widgets/controls",
      "_view_module_version": "1.5.0",
      "_view_name": "HTMLView",
      "description": "",
      "description_tooltip": null,
      "layout": "IPY_MODEL_fdabc1aaf7df4ee1b00613dafc21f639",
      "placeholder": "​",
      "style": "IPY_MODEL_460abc78c53f40739d8bd2cbdf3c49a3",
      "value": " 215821/215821 [01:43&lt;00:00, 2035.36it/s]"
     }
    },
    "36991149895148a5ab8e7c93e40cb9c9": {
     "model_module": "@jupyter-widgets/base",
     "model_module_version": "1.2.0",
     "model_name": "LayoutModel",
     "state": {
      "_model_module": "@jupyter-widgets/base",
      "_model_module_version": "1.2.0",
      "_model_name": "LayoutModel",
      "_view_count": null,
      "_view_module": "@jupyter-widgets/base",
      "_view_module_version": "1.2.0",
      "_view_name": "LayoutView",
      "align_content": null,
      "align_items": null,
      "align_self": null,
      "border": null,
      "bottom": null,
      "display": null,
      "flex": null,
      "flex_flow": null,
      "grid_area": null,
      "grid_auto_columns": null,
      "grid_auto_flow": null,
      "grid_auto_rows": null,
      "grid_column": null,
      "grid_gap": null,
      "grid_row": null,
      "grid_template_areas": null,
      "grid_template_columns": null,
      "grid_template_rows": null,
      "height": null,
      "justify_content": null,
      "justify_items": null,
      "left": null,
      "margin": null,
      "max_height": null,
      "max_width": null,
      "min_height": null,
      "min_width": null,
      "object_fit": null,
      "object_position": null,
      "order": null,
      "overflow": null,
      "overflow_x": null,
      "overflow_y": null,
      "padding": null,
      "right": null,
      "top": null,
      "visibility": null,
      "width": null
     }
    },
    "37ff0435a89d4ce8a1629f716d2b8068": {
     "model_module": "@jupyter-widgets/controls",
     "model_module_version": "1.5.0",
     "model_name": "DescriptionStyleModel",
     "state": {
      "_model_module": "@jupyter-widgets/controls",
      "_model_module_version": "1.5.0",
      "_model_name": "DescriptionStyleModel",
      "_view_count": null,
      "_view_module": "@jupyter-widgets/base",
      "_view_module_version": "1.2.0",
      "_view_name": "StyleView",
      "description_width": ""
     }
    },
    "39ee918617344514b0ab227ed0042475": {
     "model_module": "@jupyter-widgets/controls",
     "model_module_version": "1.5.0",
     "model_name": "HTMLModel",
     "state": {
      "_dom_classes": [],
      "_model_module": "@jupyter-widgets/controls",
      "_model_module_version": "1.5.0",
      "_model_name": "HTMLModel",
      "_view_count": null,
      "_view_module": "@jupyter-widgets/controls",
      "_view_module_version": "1.5.0",
      "_view_name": "HTMLView",
      "description": "",
      "description_tooltip": null,
      "layout": "IPY_MODEL_515df6a65ad24881b3acac0c7c73dd9b",
      "placeholder": "​",
      "style": "IPY_MODEL_e1b378366a394eaca3eea085bb58dfaf",
      "value": " 215821/215821 [02:19&lt;00:00, 1653.18it/s]"
     }
    },
    "401277d5c09b41a2aa3b8ccd5b70c688": {
     "model_module": "@jupyter-widgets/controls",
     "model_module_version": "1.5.0",
     "model_name": "HTMLModel",
     "state": {
      "_dom_classes": [],
      "_model_module": "@jupyter-widgets/controls",
      "_model_module_version": "1.5.0",
      "_model_name": "HTMLModel",
      "_view_count": null,
      "_view_module": "@jupyter-widgets/controls",
      "_view_module_version": "1.5.0",
      "_view_name": "HTMLView",
      "description": "",
      "description_tooltip": null,
      "layout": "IPY_MODEL_36991149895148a5ab8e7c93e40cb9c9",
      "placeholder": "​",
      "style": "IPY_MODEL_91c43120642548ea97b2e74d045518cf",
      "value": "100%"
     }
    },
    "42242ea5a08d404ba9a9435c4393449f": {
     "model_module": "@jupyter-widgets/controls",
     "model_module_version": "1.5.0",
     "model_name": "HTMLModel",
     "state": {
      "_dom_classes": [],
      "_model_module": "@jupyter-widgets/controls",
      "_model_module_version": "1.5.0",
      "_model_name": "HTMLModel",
      "_view_count": null,
      "_view_module": "@jupyter-widgets/controls",
      "_view_module_version": "1.5.0",
      "_view_name": "HTMLView",
      "description": "",
      "description_tooltip": null,
      "layout": "IPY_MODEL_29b7295f7d334cc097664f08bec2b9ce",
      "placeholder": "​",
      "style": "IPY_MODEL_5b63407c44074588b5302c264acbef68",
      "value": " 10/10 [13:51&lt;00:00, 82.79s/it, perplexity=1.94e+3]"
     }
    },
    "460abc78c53f40739d8bd2cbdf3c49a3": {
     "model_module": "@jupyter-widgets/controls",
     "model_module_version": "1.5.0",
     "model_name": "DescriptionStyleModel",
     "state": {
      "_model_module": "@jupyter-widgets/controls",
      "_model_module_version": "1.5.0",
      "_model_name": "DescriptionStyleModel",
      "_view_count": null,
      "_view_module": "@jupyter-widgets/base",
      "_view_module_version": "1.2.0",
      "_view_name": "StyleView",
      "description_width": ""
     }
    },
    "515df6a65ad24881b3acac0c7c73dd9b": {
     "model_module": "@jupyter-widgets/base",
     "model_module_version": "1.2.0",
     "model_name": "LayoutModel",
     "state": {
      "_model_module": "@jupyter-widgets/base",
      "_model_module_version": "1.2.0",
      "_model_name": "LayoutModel",
      "_view_count": null,
      "_view_module": "@jupyter-widgets/base",
      "_view_module_version": "1.2.0",
      "_view_name": "LayoutView",
      "align_content": null,
      "align_items": null,
      "align_self": null,
      "border": null,
      "bottom": null,
      "display": null,
      "flex": null,
      "flex_flow": null,
      "grid_area": null,
      "grid_auto_columns": null,
      "grid_auto_flow": null,
      "grid_auto_rows": null,
      "grid_column": null,
      "grid_gap": null,
      "grid_row": null,
      "grid_template_areas": null,
      "grid_template_columns": null,
      "grid_template_rows": null,
      "height": null,
      "justify_content": null,
      "justify_items": null,
      "left": null,
      "margin": null,
      "max_height": null,
      "max_width": null,
      "min_height": null,
      "min_width": null,
      "object_fit": null,
      "object_position": null,
      "order": null,
      "overflow": null,
      "overflow_x": null,
      "overflow_y": null,
      "padding": null,
      "right": null,
      "top": null,
      "visibility": null,
      "width": null
     }
    },
    "5b63407c44074588b5302c264acbef68": {
     "model_module": "@jupyter-widgets/controls",
     "model_module_version": "1.5.0",
     "model_name": "DescriptionStyleModel",
     "state": {
      "_model_module": "@jupyter-widgets/controls",
      "_model_module_version": "1.5.0",
      "_model_name": "DescriptionStyleModel",
      "_view_count": null,
      "_view_module": "@jupyter-widgets/base",
      "_view_module_version": "1.2.0",
      "_view_name": "StyleView",
      "description_width": ""
     }
    },
    "686a73dfa23c41dfae308f3d46848d5b": {
     "model_module": "@jupyter-widgets/controls",
     "model_module_version": "1.5.0",
     "model_name": "ProgressStyleModel",
     "state": {
      "_model_module": "@jupyter-widgets/controls",
      "_model_module_version": "1.5.0",
      "_model_name": "ProgressStyleModel",
      "_view_count": null,
      "_view_module": "@jupyter-widgets/base",
      "_view_module_version": "1.2.0",
      "_view_name": "StyleView",
      "bar_color": null,
      "description_width": ""
     }
    },
    "7667238322154518acef50b4249d133e": {
     "model_module": "@jupyter-widgets/base",
     "model_module_version": "1.2.0",
     "model_name": "LayoutModel",
     "state": {
      "_model_module": "@jupyter-widgets/base",
      "_model_module_version": "1.2.0",
      "_model_name": "LayoutModel",
      "_view_count": null,
      "_view_module": "@jupyter-widgets/base",
      "_view_module_version": "1.2.0",
      "_view_name": "LayoutView",
      "align_content": null,
      "align_items": null,
      "align_self": null,
      "border": null,
      "bottom": null,
      "display": null,
      "flex": null,
      "flex_flow": null,
      "grid_area": null,
      "grid_auto_columns": null,
      "grid_auto_flow": null,
      "grid_auto_rows": null,
      "grid_column": null,
      "grid_gap": null,
      "grid_row": null,
      "grid_template_areas": null,
      "grid_template_columns": null,
      "grid_template_rows": null,
      "height": null,
      "justify_content": null,
      "justify_items": null,
      "left": null,
      "margin": null,
      "max_height": null,
      "max_width": null,
      "min_height": null,
      "min_width": null,
      "object_fit": null,
      "object_position": null,
      "order": null,
      "overflow": null,
      "overflow_x": null,
      "overflow_y": null,
      "padding": null,
      "right": null,
      "top": null,
      "visibility": null,
      "width": null
     }
    },
    "87e75b7b77ad497caaa06fb710e6c6da": {
     "model_module": "@jupyter-widgets/controls",
     "model_module_version": "1.5.0",
     "model_name": "HBoxModel",
     "state": {
      "_dom_classes": [],
      "_model_module": "@jupyter-widgets/controls",
      "_model_module_version": "1.5.0",
      "_model_name": "HBoxModel",
      "_view_count": null,
      "_view_module": "@jupyter-widgets/controls",
      "_view_module_version": "1.5.0",
      "_view_name": "HBoxView",
      "box_style": "",
      "children": [
       "IPY_MODEL_401277d5c09b41a2aa3b8ccd5b70c688",
       "IPY_MODEL_f10b2b2f00074d87b49b4e8fd5e53751",
       "IPY_MODEL_32cad9ee122c46068ff08876ce2aeb06"
      ],
      "layout": "IPY_MODEL_982a24f1fc2b4d3a9d26d98bfaeac396"
     }
    },
    "9042a59abfdb4dad927dacd376455e12": {
     "model_module": "@jupyter-widgets/controls",
     "model_module_version": "1.5.0",
     "model_name": "HBoxModel",
     "state": {
      "_dom_classes": [],
      "_model_module": "@jupyter-widgets/controls",
      "_model_module_version": "1.5.0",
      "_model_name": "HBoxModel",
      "_view_count": null,
      "_view_module": "@jupyter-widgets/controls",
      "_view_module_version": "1.5.0",
      "_view_name": "HBoxView",
      "box_style": "",
      "children": [
       "IPY_MODEL_c499ceb8e9cb477284399bdf3b0c06d3",
       "IPY_MODEL_c17de3ce48f34db2ade8cdc7bdfc263a",
       "IPY_MODEL_42242ea5a08d404ba9a9435c4393449f"
      ],
      "layout": "IPY_MODEL_2a0eb81953014dd4b4f3fa44b61763da"
     }
    },
    "91c43120642548ea97b2e74d045518cf": {
     "model_module": "@jupyter-widgets/controls",
     "model_module_version": "1.5.0",
     "model_name": "DescriptionStyleModel",
     "state": {
      "_model_module": "@jupyter-widgets/controls",
      "_model_module_version": "1.5.0",
      "_model_name": "DescriptionStyleModel",
      "_view_count": null,
      "_view_module": "@jupyter-widgets/base",
      "_view_module_version": "1.2.0",
      "_view_name": "StyleView",
      "description_width": ""
     }
    },
    "982a24f1fc2b4d3a9d26d98bfaeac396": {
     "model_module": "@jupyter-widgets/base",
     "model_module_version": "1.2.0",
     "model_name": "LayoutModel",
     "state": {
      "_model_module": "@jupyter-widgets/base",
      "_model_module_version": "1.2.0",
      "_model_name": "LayoutModel",
      "_view_count": null,
      "_view_module": "@jupyter-widgets/base",
      "_view_module_version": "1.2.0",
      "_view_name": "LayoutView",
      "align_content": null,
      "align_items": null,
      "align_self": null,
      "border": null,
      "bottom": null,
      "display": null,
      "flex": null,
      "flex_flow": null,
      "grid_area": null,
      "grid_auto_columns": null,
      "grid_auto_flow": null,
      "grid_auto_rows": null,
      "grid_column": null,
      "grid_gap": null,
      "grid_row": null,
      "grid_template_areas": null,
      "grid_template_columns": null,
      "grid_template_rows": null,
      "height": null,
      "justify_content": null,
      "justify_items": null,
      "left": null,
      "margin": null,
      "max_height": null,
      "max_width": null,
      "min_height": null,
      "min_width": null,
      "object_fit": null,
      "object_position": null,
      "order": null,
      "overflow": null,
      "overflow_x": null,
      "overflow_y": null,
      "padding": null,
      "right": null,
      "top": null,
      "visibility": null,
      "width": null
     }
    },
    "98a5b85f32b14f049b4292063d2a69fa": {
     "model_module": "@jupyter-widgets/base",
     "model_module_version": "1.2.0",
     "model_name": "LayoutModel",
     "state": {
      "_model_module": "@jupyter-widgets/base",
      "_model_module_version": "1.2.0",
      "_model_name": "LayoutModel",
      "_view_count": null,
      "_view_module": "@jupyter-widgets/base",
      "_view_module_version": "1.2.0",
      "_view_name": "LayoutView",
      "align_content": null,
      "align_items": null,
      "align_self": null,
      "border": null,
      "bottom": null,
      "display": null,
      "flex": null,
      "flex_flow": null,
      "grid_area": null,
      "grid_auto_columns": null,
      "grid_auto_flow": null,
      "grid_auto_rows": null,
      "grid_column": null,
      "grid_gap": null,
      "grid_row": null,
      "grid_template_areas": null,
      "grid_template_columns": null,
      "grid_template_rows": null,
      "height": null,
      "justify_content": null,
      "justify_items": null,
      "left": null,
      "margin": null,
      "max_height": null,
      "max_width": null,
      "min_height": null,
      "min_width": null,
      "object_fit": null,
      "object_position": null,
      "order": null,
      "overflow": null,
      "overflow_x": null,
      "overflow_y": null,
      "padding": null,
      "right": null,
      "top": null,
      "visibility": null,
      "width": null
     }
    },
    "a4199ae3acac4dfd9ab584a76e2471a1": {
     "model_module": "@jupyter-widgets/controls",
     "model_module_version": "1.5.0",
     "model_name": "HTMLModel",
     "state": {
      "_dom_classes": [],
      "_model_module": "@jupyter-widgets/controls",
      "_model_module_version": "1.5.0",
      "_model_name": "HTMLModel",
      "_view_count": null,
      "_view_module": "@jupyter-widgets/controls",
      "_view_module_version": "1.5.0",
      "_view_name": "HTMLView",
      "description": "",
      "description_tooltip": null,
      "layout": "IPY_MODEL_1778be95ab2d4150a21d8a2ab13ceaa5",
      "placeholder": "​",
      "style": "IPY_MODEL_cf744c183438406184fc08d52b0bfa54",
      "value": "100%"
     }
    },
    "ae42de2ddec744dcad4b0b4623a4eb04": {
     "model_module": "@jupyter-widgets/controls",
     "model_module_version": "1.5.0",
     "model_name": "HBoxModel",
     "state": {
      "_dom_classes": [],
      "_model_module": "@jupyter-widgets/controls",
      "_model_module_version": "1.5.0",
      "_model_name": "HBoxModel",
      "_view_count": null,
      "_view_module": "@jupyter-widgets/controls",
      "_view_module_version": "1.5.0",
      "_view_name": "HBoxView",
      "box_style": "",
      "children": [
       "IPY_MODEL_d552b83c7c8f4e568a3c3371ae875045",
       "IPY_MODEL_08b5f9296e184d6598ff60dbdfff124f",
       "IPY_MODEL_cfc72ff39e22489fb4905a928b441afe"
      ],
      "layout": "IPY_MODEL_cd94e5ab011645978265a84d772804f3"
     }
    },
    "b4cf8c5ec7334090972489a6f5d44dce": {
     "model_module": "@jupyter-widgets/controls",
     "model_module_version": "1.5.0",
     "model_name": "ProgressStyleModel",
     "state": {
      "_model_module": "@jupyter-widgets/controls",
      "_model_module_version": "1.5.0",
      "_model_name": "ProgressStyleModel",
      "_view_count": null,
      "_view_module": "@jupyter-widgets/base",
      "_view_module_version": "1.2.0",
      "_view_name": "StyleView",
      "bar_color": null,
      "description_width": ""
     }
    },
    "c17de3ce48f34db2ade8cdc7bdfc263a": {
     "model_module": "@jupyter-widgets/controls",
     "model_module_version": "1.5.0",
     "model_name": "FloatProgressModel",
     "state": {
      "_dom_classes": [],
      "_model_module": "@jupyter-widgets/controls",
      "_model_module_version": "1.5.0",
      "_model_name": "FloatProgressModel",
      "_view_count": null,
      "_view_module": "@jupyter-widgets/controls",
      "_view_module_version": "1.5.0",
      "_view_name": "ProgressView",
      "bar_style": "success",
      "description": "",
      "description_tooltip": null,
      "layout": "IPY_MODEL_08e413d0323546c690f6cdb99786283f",
      "max": 10,
      "min": 0,
      "orientation": "horizontal",
      "style": "IPY_MODEL_686a73dfa23c41dfae308f3d46848d5b",
      "value": 10
     }
    },
    "c280be3682dd44fb8b672db445acf7bb": {
     "model_module": "@jupyter-widgets/base",
     "model_module_version": "1.2.0",
     "model_name": "LayoutModel",
     "state": {
      "_model_module": "@jupyter-widgets/base",
      "_model_module_version": "1.2.0",
      "_model_name": "LayoutModel",
      "_view_count": null,
      "_view_module": "@jupyter-widgets/base",
      "_view_module_version": "1.2.0",
      "_view_name": "LayoutView",
      "align_content": null,
      "align_items": null,
      "align_self": null,
      "border": null,
      "bottom": null,
      "display": null,
      "flex": null,
      "flex_flow": null,
      "grid_area": null,
      "grid_auto_columns": null,
      "grid_auto_flow": null,
      "grid_auto_rows": null,
      "grid_column": null,
      "grid_gap": null,
      "grid_row": null,
      "grid_template_areas": null,
      "grid_template_columns": null,
      "grid_template_rows": null,
      "height": null,
      "justify_content": null,
      "justify_items": null,
      "left": null,
      "margin": null,
      "max_height": null,
      "max_width": null,
      "min_height": null,
      "min_width": null,
      "object_fit": null,
      "object_position": null,
      "order": null,
      "overflow": null,
      "overflow_x": null,
      "overflow_y": null,
      "padding": null,
      "right": null,
      "top": null,
      "visibility": null,
      "width": null
     }
    },
    "c499ceb8e9cb477284399bdf3b0c06d3": {
     "model_module": "@jupyter-widgets/controls",
     "model_module_version": "1.5.0",
     "model_name": "HTMLModel",
     "state": {
      "_dom_classes": [],
      "_model_module": "@jupyter-widgets/controls",
      "_model_module_version": "1.5.0",
      "_model_name": "HTMLModel",
      "_view_count": null,
      "_view_module": "@jupyter-widgets/controls",
      "_view_module_version": "1.5.0",
      "_view_name": "HTMLView",
      "description": "",
      "description_tooltip": null,
      "layout": "IPY_MODEL_0da9ea07326a41dca75de9e4627b309e",
      "placeholder": "​",
      "style": "IPY_MODEL_eded2014bed843c787333f98a4f5e55c",
      "value": "100%"
     }
    },
    "cc9f9c34df024eabbfa9ec8bd5485386": {
     "model_module": "@jupyter-widgets/base",
     "model_module_version": "1.2.0",
     "model_name": "LayoutModel",
     "state": {
      "_model_module": "@jupyter-widgets/base",
      "_model_module_version": "1.2.0",
      "_model_name": "LayoutModel",
      "_view_count": null,
      "_view_module": "@jupyter-widgets/base",
      "_view_module_version": "1.2.0",
      "_view_name": "LayoutView",
      "align_content": null,
      "align_items": null,
      "align_self": null,
      "border": null,
      "bottom": null,
      "display": null,
      "flex": null,
      "flex_flow": null,
      "grid_area": null,
      "grid_auto_columns": null,
      "grid_auto_flow": null,
      "grid_auto_rows": null,
      "grid_column": null,
      "grid_gap": null,
      "grid_row": null,
      "grid_template_areas": null,
      "grid_template_columns": null,
      "grid_template_rows": null,
      "height": null,
      "justify_content": null,
      "justify_items": null,
      "left": null,
      "margin": null,
      "max_height": null,
      "max_width": null,
      "min_height": null,
      "min_width": null,
      "object_fit": null,
      "object_position": null,
      "order": null,
      "overflow": null,
      "overflow_x": null,
      "overflow_y": null,
      "padding": null,
      "right": null,
      "top": null,
      "visibility": null,
      "width": null
     }
    },
    "cd94e5ab011645978265a84d772804f3": {
     "model_module": "@jupyter-widgets/base",
     "model_module_version": "1.2.0",
     "model_name": "LayoutModel",
     "state": {
      "_model_module": "@jupyter-widgets/base",
      "_model_module_version": "1.2.0",
      "_model_name": "LayoutModel",
      "_view_count": null,
      "_view_module": "@jupyter-widgets/base",
      "_view_module_version": "1.2.0",
      "_view_name": "LayoutView",
      "align_content": null,
      "align_items": null,
      "align_self": null,
      "border": null,
      "bottom": null,
      "display": null,
      "flex": null,
      "flex_flow": null,
      "grid_area": null,
      "grid_auto_columns": null,
      "grid_auto_flow": null,
      "grid_auto_rows": null,
      "grid_column": null,
      "grid_gap": null,
      "grid_row": null,
      "grid_template_areas": null,
      "grid_template_columns": null,
      "grid_template_rows": null,
      "height": null,
      "justify_content": null,
      "justify_items": null,
      "left": null,
      "margin": null,
      "max_height": null,
      "max_width": null,
      "min_height": null,
      "min_width": null,
      "object_fit": null,
      "object_position": null,
      "order": null,
      "overflow": null,
      "overflow_x": null,
      "overflow_y": null,
      "padding": null,
      "right": null,
      "top": null,
      "visibility": null,
      "width": null
     }
    },
    "cec1591a4c84403f9609a456c4a9c948": {
     "model_module": "@jupyter-widgets/base",
     "model_module_version": "1.2.0",
     "model_name": "LayoutModel",
     "state": {
      "_model_module": "@jupyter-widgets/base",
      "_model_module_version": "1.2.0",
      "_model_name": "LayoutModel",
      "_view_count": null,
      "_view_module": "@jupyter-widgets/base",
      "_view_module_version": "1.2.0",
      "_view_name": "LayoutView",
      "align_content": null,
      "align_items": null,
      "align_self": null,
      "border": null,
      "bottom": null,
      "display": null,
      "flex": null,
      "flex_flow": null,
      "grid_area": null,
      "grid_auto_columns": null,
      "grid_auto_flow": null,
      "grid_auto_rows": null,
      "grid_column": null,
      "grid_gap": null,
      "grid_row": null,
      "grid_template_areas": null,
      "grid_template_columns": null,
      "grid_template_rows": null,
      "height": null,
      "justify_content": null,
      "justify_items": null,
      "left": null,
      "margin": null,
      "max_height": null,
      "max_width": null,
      "min_height": null,
      "min_width": null,
      "object_fit": null,
      "object_position": null,
      "order": null,
      "overflow": null,
      "overflow_x": null,
      "overflow_y": null,
      "padding": null,
      "right": null,
      "top": null,
      "visibility": null,
      "width": null
     }
    },
    "cf5a0a8626aa46dcb821388651c92a85": {
     "model_module": "@jupyter-widgets/controls",
     "model_module_version": "1.5.0",
     "model_name": "FloatProgressModel",
     "state": {
      "_dom_classes": [],
      "_model_module": "@jupyter-widgets/controls",
      "_model_module_version": "1.5.0",
      "_model_name": "FloatProgressModel",
      "_view_count": null,
      "_view_module": "@jupyter-widgets/controls",
      "_view_module_version": "1.5.0",
      "_view_name": "ProgressView",
      "bar_style": "success",
      "description": "",
      "description_tooltip": null,
      "layout": "IPY_MODEL_98a5b85f32b14f049b4292063d2a69fa",
      "max": 215821,
      "min": 0,
      "orientation": "horizontal",
      "style": "IPY_MODEL_db328f0ec0cc48cda99bdcef61962c04",
      "value": 215821
     }
    },
    "cf744c183438406184fc08d52b0bfa54": {
     "model_module": "@jupyter-widgets/controls",
     "model_module_version": "1.5.0",
     "model_name": "DescriptionStyleModel",
     "state": {
      "_model_module": "@jupyter-widgets/controls",
      "_model_module_version": "1.5.0",
      "_model_name": "DescriptionStyleModel",
      "_view_count": null,
      "_view_module": "@jupyter-widgets/base",
      "_view_module_version": "1.2.0",
      "_view_name": "StyleView",
      "description_width": ""
     }
    },
    "cfc72ff39e22489fb4905a928b441afe": {
     "model_module": "@jupyter-widgets/controls",
     "model_module_version": "1.5.0",
     "model_name": "HTMLModel",
     "state": {
      "_dom_classes": [],
      "_model_module": "@jupyter-widgets/controls",
      "_model_module_version": "1.5.0",
      "_model_name": "HTMLModel",
      "_view_count": null,
      "_view_module": "@jupyter-widgets/controls",
      "_view_module_version": "1.5.0",
      "_view_name": "HTMLView",
      "description": "",
      "description_tooltip": null,
      "layout": "IPY_MODEL_7667238322154518acef50b4249d133e",
      "placeholder": "​",
      "style": "IPY_MODEL_2ead2dd5784b4758aa6efe5d293d5f79",
      "value": " 215821/215821 [01:40&lt;00:00, 2106.07it/s]"
     }
    },
    "d552b83c7c8f4e568a3c3371ae875045": {
     "model_module": "@jupyter-widgets/controls",
     "model_module_version": "1.5.0",
     "model_name": "HTMLModel",
     "state": {
      "_dom_classes": [],
      "_model_module": "@jupyter-widgets/controls",
      "_model_module_version": "1.5.0",
      "_model_name": "HTMLModel",
      "_view_count": null,
      "_view_module": "@jupyter-widgets/controls",
      "_view_module_version": "1.5.0",
      "_view_name": "HTMLView",
      "description": "",
      "description_tooltip": null,
      "layout": "IPY_MODEL_31b5ea67ba2f42ed8bc67770b7e3e8db",
      "placeholder": "​",
      "style": "IPY_MODEL_37ff0435a89d4ce8a1629f716d2b8068",
      "value": "100%"
     }
    },
    "db328f0ec0cc48cda99bdcef61962c04": {
     "model_module": "@jupyter-widgets/controls",
     "model_module_version": "1.5.0",
     "model_name": "ProgressStyleModel",
     "state": {
      "_model_module": "@jupyter-widgets/controls",
      "_model_module_version": "1.5.0",
      "_model_name": "ProgressStyleModel",
      "_view_count": null,
      "_view_module": "@jupyter-widgets/base",
      "_view_module_version": "1.2.0",
      "_view_name": "StyleView",
      "bar_color": null,
      "description_width": ""
     }
    },
    "e1b378366a394eaca3eea085bb58dfaf": {
     "model_module": "@jupyter-widgets/controls",
     "model_module_version": "1.5.0",
     "model_name": "DescriptionStyleModel",
     "state": {
      "_model_module": "@jupyter-widgets/controls",
      "_model_module_version": "1.5.0",
      "_model_name": "DescriptionStyleModel",
      "_view_count": null,
      "_view_module": "@jupyter-widgets/base",
      "_view_module_version": "1.2.0",
      "_view_name": "StyleView",
      "description_width": ""
     }
    },
    "eded2014bed843c787333f98a4f5e55c": {
     "model_module": "@jupyter-widgets/controls",
     "model_module_version": "1.5.0",
     "model_name": "DescriptionStyleModel",
     "state": {
      "_model_module": "@jupyter-widgets/controls",
      "_model_module_version": "1.5.0",
      "_model_name": "DescriptionStyleModel",
      "_view_count": null,
      "_view_module": "@jupyter-widgets/base",
      "_view_module_version": "1.2.0",
      "_view_name": "StyleView",
      "description_width": ""
     }
    },
    "f10b2b2f00074d87b49b4e8fd5e53751": {
     "model_module": "@jupyter-widgets/controls",
     "model_module_version": "1.5.0",
     "model_name": "FloatProgressModel",
     "state": {
      "_dom_classes": [],
      "_model_module": "@jupyter-widgets/controls",
      "_model_module_version": "1.5.0",
      "_model_name": "FloatProgressModel",
      "_view_count": null,
      "_view_module": "@jupyter-widgets/controls",
      "_view_module_version": "1.5.0",
      "_view_name": "ProgressView",
      "bar_style": "success",
      "description": "",
      "description_tooltip": null,
      "layout": "IPY_MODEL_c280be3682dd44fb8b672db445acf7bb",
      "max": 215821,
      "min": 0,
      "orientation": "horizontal",
      "style": "IPY_MODEL_1665e5c96b394ccea1804464620f0fe1",
      "value": 215821
     }
    },
    "fdabc1aaf7df4ee1b00613dafc21f639": {
     "model_module": "@jupyter-widgets/base",
     "model_module_version": "1.2.0",
     "model_name": "LayoutModel",
     "state": {
      "_model_module": "@jupyter-widgets/base",
      "_model_module_version": "1.2.0",
      "_model_name": "LayoutModel",
      "_view_count": null,
      "_view_module": "@jupyter-widgets/base",
      "_view_module_version": "1.2.0",
      "_view_name": "LayoutView",
      "align_content": null,
      "align_items": null,
      "align_self": null,
      "border": null,
      "bottom": null,
      "display": null,
      "flex": null,
      "flex_flow": null,
      "grid_area": null,
      "grid_auto_columns": null,
      "grid_auto_flow": null,
      "grid_auto_rows": null,
      "grid_column": null,
      "grid_gap": null,
      "grid_row": null,
      "grid_template_areas": null,
      "grid_template_columns": null,
      "grid_template_rows": null,
      "height": null,
      "justify_content": null,
      "justify_items": null,
      "left": null,
      "margin": null,
      "max_height": null,
      "max_width": null,
      "min_height": null,
      "min_width": null,
      "object_fit": null,
      "object_position": null,
      "order": null,
      "overflow": null,
      "overflow_x": null,
      "overflow_y": null,
      "padding": null,
      "right": null,
      "top": null,
      "visibility": null,
      "width": null
     }
    }
   }
  }
 },
 "nbformat": 4,
 "nbformat_minor": 4
}
