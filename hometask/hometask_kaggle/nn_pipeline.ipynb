{
 "cells": [
  {
   "cell_type": "code",
   "execution_count": 1,
   "id": "fatty-despite",
   "metadata": {},
   "outputs": [],
   "source": [
    "import numpy as np\n",
    "import pandas as pd\n",
    "import matplotlib.pyplot as plt\n",
    "import seaborn as sns\n",
    "import time\n",
    "\n",
    "import torch\n",
    "\n",
    "from sklearn.preprocessing import StandardScaler\n",
    "from sklearn.metrics import accuracy_score\n",
    "from sklearn.model_selection import train_test_split\n",
    "\n",
    "from IPython.display import clear_output"
   ]
  },
  {
   "cell_type": "code",
   "execution_count": 2,
   "id": "still-whale",
   "metadata": {},
   "outputs": [],
   "source": [
    "device = 'cuda' if torch.cuda.is_available() else 'cpu'"
   ]
  },
  {
   "cell_type": "markdown",
   "id": "attempted-maple",
   "metadata": {},
   "source": [
    "# 1. Data\n",
    "## 1.1 Loading and splitting features"
   ]
  },
  {
   "cell_type": "code",
   "execution_count": 10,
   "id": "further-madrid",
   "metadata": {},
   "outputs": [
    {
     "data": {
      "text/plain": [
       "[<matplotlib.lines.Line2D at 0x7f1a48c50fd0>]"
      ]
     },
     "execution_count": 10,
     "metadata": {},
     "output_type": "execute_result"
    },
    {
     "data": {
      "image/png": "[encoded data removed]",
      "text/plain": [
       "<Figure size 432x288 with 1 Axes>"
      ]
     },
     "metadata": {
      "needs_background": "light"
     },
     "output_type": "display_data"
    }
   ],
   "source": [
    "full_data = pd.read_csv(\"data/train.csv\", index_col='Id')\n",
    "testdata = pd.read_csv(\"data/test.csv\", index_col='Id')\n",
    "\n",
    "x_train_raw, y_train_raw = full_data.drop(columns=[\"Category\"]), full_data.Category\n",
    "\n",
    "indicies_sorted = np.argsort(x_train_raw.var())\n",
    "\n",
    "x_train_raw = x_train_raw.to_numpy()[:, indicies_sorted]\n",
    "x_test_raw = testdata.to_numpy()[:, indicies_sorted]\n",
    "y_train_raw = y_train_raw.to_numpy() >= 0 # in order y to act like a distribution. DO NOT FORGET TO CHANGE IT!\n",
    "\n",
    "plt.plot(np.var(x_train_raw, axis=0))"
   ]
  },
  {
   "cell_type": "code",
   "execution_count": 53,
   "id": "practical-trust",
   "metadata": {},
   "outputs": [],
   "source": [
    "N_WHITE = 100"
   ]
  },
  {
   "cell_type": "markdown",
   "id": "conditional-sunday",
   "metadata": {},
   "source": [
    "## 1.2 Preprocessing"
   ]
  },
  {
   "cell_type": "code",
   "execution_count": 11,
   "id": "enormous-walter",
   "metadata": {},
   "outputs": [
    {
     "data": {
      "text/plain": [
       "[<matplotlib.lines.Line2D at 0x7f1a4861b760>]"
      ]
     },
     "execution_count": 11,
     "metadata": {},
     "output_type": "execute_result"
    },
    {
     "data": {
      "image/png": "[encoded data removed]",
      "text/plain": [
       "<Figure size 432x288 with 1 Axes>"
      ]
     },
     "metadata": {
      "needs_background": "light"
     },
     "output_type": "display_data"
    }
   ],
   "source": [
    "scaler = StandardScaler()\n",
    "\n",
    "x_train = scaler.fit_transform(x_train_raw, )\n",
    "x_test = scaler.transform(x_test_raw)\n",
    "\n",
    "plt.plot(np.var(x_train, axis=0))"
   ]
  },
  {
   "cell_type": "markdown",
   "id": "activated-bunny",
   "metadata": {},
   "source": [
    "# 2. Model side\n",
    "## 2.1 Functional"
   ]
  },
  {
   "cell_type": "code",
   "execution_count": 69,
   "id": "demanding-magnet",
   "metadata": {},
   "outputs": [],
   "source": [
    "def train_epoch(model, x_train, y_train, criterion, optimizer, batch_size=64, batches_per_epoch=10):\n",
    "    model.train()\n",
    "    \n",
    "    loss_history = []\n",
    "    train_size = x_train.shape[0]\n",
    "    \n",
    "    for n_batch in range(batches_per_epoch):\n",
    "        \n",
    "        optimizer.zero_grad()\n",
    "        \n",
    "        \n",
    "        batch_ids = np.random.choice(train_size, batch_size)\n",
    "        \n",
    "        x_batch, y_batch = x_train[batch_ids], y_train[batch_ids]\n",
    "        x_batch = x_batch.to(device)\n",
    "        y_batch = y_batch.to(device)\n",
    "        \n",
    "        output = model(x_batch)\n",
    "        loss = criterion(output, y_batch)\n",
    "        \n",
    "        loss.backward()\n",
    "        optimizer.step()\n",
    "        \n",
    "        loss_history.append(loss.data.cpu().numpy())\n",
    "    \n",
    "    return loss_history\n",
    "             \n",
    "        \n",
    "def predict_proba(model, x_test, batch_size=64):\n",
    "    model.eval()\n",
    "    test_dataset = torch.utils.data.TensorDataset(x_test)\n",
    "    test_loader = torch.utils.data.DataLoader(test_dataset, batch_size=batch_size)\n",
    "    \n",
    "    pred = []\n",
    "    \n",
    "    for x_batch in test_loader:\n",
    "        x_batch = x_batch[0].to(device)\n",
    "        \n",
    "        logits = model(x_batch) # [batch_size, 1]\n",
    "        probas = torch.sigmoid(logits).data.cpu().numpy()\n",
    "        \n",
    "        pred.extend(probas)\n",
    "        \n",
    "    return np.array(pred)\n",
    "    \n",
    "def train_model(model, x_train, y_train, criterion, optimizer, n_epochs, batch_size, batches_per_epoch, x_val=None, y_val=None, threshold=0.5, log_best=False, name=\"model\"):\n",
    "    train_loss_history = []\n",
    "    acc_history = []\n",
    "    \n",
    "    for epoch in range(n_epochs):\n",
    "        loss = train_epoch(model, x_train, y_train, criterion, optimizer, batch_size=batch_size, batches_per_epoch=batches_per_epoch)\n",
    "        train_loss_history.extend(loss)\n",
    "        \n",
    "        if (x_val is not None) and (y_val is not None):\n",
    "            preds = predict_proba(model, x_val, batch_size=batch_size) >= threshold\n",
    "            acc = np.mean(preds == y_val.numpy())\n",
    "            acc_history.append(acc)\n",
    "            \n",
    "            \n",
    "        # printing\n",
    "        \n",
    "        clear_output(True)        \n",
    "        plt.subplots(1, 2, figsize=(20, 10))\n",
    "        \n",
    "        plt.subplot(1, 2, 1)\n",
    "        plt.plot(train_loss_history)\n",
    "    \n",
    "        plt.subplot(1, 2, 2)\n",
    "        if acc_history is not None:\n",
    "            plt.plot(acc_history)\n",
    "            \n",
    "            \n",
    "            \n",
    "            \n",
    "        print(\"Epoch {}: train loss={:.5f}\".format(epoch, loss[-1]))\n",
    "        print(\"Val acc = {:.3f}, Best = {:.3f}\".format(acc_history[-1], max(acc_history)))\n",
    "        \n",
    "        time.sleep(0.01)\n",
    "        plt.pause(0.0001)\n",
    "        \n",
    "        if log_best:\n",
    "            torch.save(model.state_dict(), r\"models/\" + name + \"_best_val.pth\")"
   ]
  },
  {
   "cell_type": "code",
   "execution_count": null,
   "id": "designing-mention",
   "metadata": {},
   "outputs": [],
   "source": [
    "class Perceptron(torch.nn.Module):\n",
    "    @property\n",
    "    def device(self):\n",
    "        for p in self.parameters():\n",
    "            return p.device\n",
    "\n",
    "    def __init__(self, input_dim=300, num_layers=0, \n",
    "                 hidden_dim=100, output_dim=1, p=0.0):\n",
    "        super(Perceptron, self).__init__()\n",
    "        \n",
    "        self.layers = torch.nn.Sequential()\n",
    "        \n",
    "        prev_size = input_dim\n",
    "        for i in range(num_layers):\n",
    "            self.layers.add_module('layer{}'.format(i), \n",
    "                                  torch.nn.Linear(prev_size, hidden_dim))\n",
    "            self.layers.add_module('relu{}'.format(i), torch.nn.ReLU())\n",
    "            self.layers.add_module('dropout{}'.format(i), torch.nn.Dropout(p=p))\n",
    "            prev_size = hidden_dim\n",
    "        \n",
    "        self.layers.add_module('classifier', \n",
    "                               torch.nn.Linear(prev_size, output_dim))        \n",
    "        \n",
    "    def forward(self, input):\n",
    "        return self.layers(input)"
   ]
  },
  {
   "cell_type": "markdown",
   "id": "adopted-trigger",
   "metadata": {},
   "source": [
    "Проведем простой тест, обучив обычный перцептрон:"
   ]
  },
  {
   "cell_type": "code",
   "execution_count": 23,
   "id": "capital-string",
   "metadata": {},
   "outputs": [],
   "source": [
    "# Data preparation\n",
    "\n",
    "X_train, X_val, Y_train, Y_val = train_test_split(x_train, y_train_raw, test_size=0.2)\n",
    "\n",
    "X_train = torch.Tensor(X_train)\n",
    "Y_train = torch.FloatTensor(Y_train).unsqueeze(1)\n",
    "\n",
    "X_val = torch.Tensor(X_val)\n",
    "Y_val = torch.FloatTensor(Y_val).unsqueeze(1)"
   ]
  },
  {
   "cell_type": "code",
   "execution_count": 24,
   "id": "indian-disposition",
   "metadata": {},
   "outputs": [
    {
     "name": "stdout",
     "output_type": "stream",
     "text": [
      "Epoch 19: train loss=0.001\n",
      "Val acc = 0.960, Best = 0.962\n"
     ]
    },
    {
     "data": {
      "image/png": "[encoded data removed]",
      "text/plain": [
       "<Figure size 1440x720 with 2 Axes>"
      ]
     },
     "metadata": {
      "needs_background": "light"
     },
     "output_type": "display_data"
    }
   ],
   "source": [
    "model = Perceptron(num_layers=4, hidden_dim=100).to(device)\n",
    "optimizer = torch.optim.Adam(model.parameters(), lr=1e-4)\n",
    "\n",
    "train_model(model, X_train, Y_train, torch.nn.BCEWithLogitsLoss(), optimizer, n_epochs=20, batch_size=16384, batches_per_epoch=100, x_val=X_val, y_val=Y_val)"
   ]
  },
  {
   "cell_type": "markdown",
   "id": "logical-least",
   "metadata": {},
   "source": [
    "## 2.2 Actually model"
   ]
  },
  {
   "cell_type": "code",
   "execution_count": 47,
   "id": "specific-heater",
   "metadata": {},
   "outputs": [],
   "source": [
    "class ResBlock1D(torch.nn.Module):\n",
    "    def __init__(self, hid_dim):\n",
    "        super(ResBlock1D, self).__init__()\n",
    "        \n",
    "        self.fc_1 = torch.nn.Linear(hid_dim, hid_dim)\n",
    "        self.relu_1 = torch.nn.ReLU()\n",
    "        self.fc_2 = torch.nn.Linear(hid_dim, hid_dim)\n",
    "        self.relu_2 = torch.nn.ReLU()\n",
    "    \n",
    "    def forward(self, in_vectors):\n",
    "        hid_state = self.relu_1(self.fc_1(in_vectors))\n",
    "        hid_state = self.relu_2(self.fc_2(hid_state))\n",
    "        \n",
    "        return hid_state + in_vectors\n",
    "    \n",
    "class Encoder(torch.nn.Module):\n",
    "    def __init__(self, enc_name, enc_input_dim, enc_hid_dim, enc_n_layers):\n",
    "        super(Encoder, self).__init__()\n",
    "        assert enc_name is not None\n",
    "        \n",
    "        self.encoder = torch.nn.Sequential()\n",
    "        \n",
    "        # gate block\n",
    "        self.encoder.add_module(enc_name + \"_gate_linear\", torch.nn.Linear(enc_input_dim, enc_hid_dim))\n",
    "        self.encoder.add_module(enc_name + \"_gate_bn\", torch.nn.BatchNorm1d(enc_hid_dim))\n",
    "        self.encoder.add_module(enc_name + \"_gate_relu\", torch.nn.ReLU())\n",
    "        \n",
    "        # tail\n",
    "        for i in range(enc_n_layers):\n",
    "            self.encoder.add_module(enc_name + f\"_res_block_{i + 1}\",\n",
    "                                   ResBlock1D(enc_hid_dim))\n",
    "            \n",
    "    def forward(self, in_vectors):\n",
    "        return self.encoder(in_vectors)\n",
    "            \n",
    "class Decoder(Encoder):\n",
    "    def __init__(self, dec_name, dec_input_dim, dec_hid_dim, dec_n_layers):\n",
    "        super(Decoder, self).__init__(dec_name, dec_input_dim, dec_hid_dim, dec_n_layers)\n",
    "        \n",
    "        self.classifier = torch.nn.Linear(dec_hid_dim, 1)\n",
    "        \n",
    "    def forward(self, in_vectors):\n",
    "        hid_state = self.encoder(in_vectors)\n",
    "        \n",
    "        return self.classifier(hid_state)"
   ]
  },
  {
   "cell_type": "code",
   "execution_count": 48,
   "id": "surrounded-mexico",
   "metadata": {},
   "outputs": [
    {
     "data": {
      "text/plain": [
       "Decoder(\n",
       "  (encoder): Sequential(\n",
       "    (my_dec_gate_linear): Linear(in_features=100, out_features=50, bias=True)\n",
       "    (my_dec_gate_bn): BatchNorm1d(50, eps=1e-05, momentum=0.1, affine=True, track_running_stats=True)\n",
       "    (my_dec_gate_relu): ReLU()\n",
       "    (my_dec_res_block_1): ResBlock1D(\n",
       "      (fc_1): Linear(in_features=50, out_features=50, bias=True)\n",
       "      (relu_1): ReLU()\n",
       "      (fc_2): Linear(in_features=50, out_features=50, bias=True)\n",
       "      (relu_2): ReLU()\n",
       "    )\n",
       "    (my_dec_res_block_2): ResBlock1D(\n",
       "      (fc_1): Linear(in_features=50, out_features=50, bias=True)\n",
       "      (relu_1): ReLU()\n",
       "      (fc_2): Linear(in_features=50, out_features=50, bias=True)\n",
       "      (relu_2): ReLU()\n",
       "    )\n",
       "    (my_dec_res_block_3): ResBlock1D(\n",
       "      (fc_1): Linear(in_features=50, out_features=50, bias=True)\n",
       "      (relu_1): ReLU()\n",
       "      (fc_2): Linear(in_features=50, out_features=50, bias=True)\n",
       "      (relu_2): ReLU()\n",
       "    )\n",
       "  )\n",
       "  (classifier): Linear(in_features=50, out_features=1, bias=True)\n",
       ")"
      ]
     },
     "execution_count": 48,
     "metadata": {},
     "output_type": "execute_result"
    }
   ],
   "source": [
    "dec = Decoder(\"my_dec\", 100, 50, 3)\n",
    "dec"
   ]
  },
  {
   "cell_type": "code",
   "execution_count": 51,
   "id": "former-corruption",
   "metadata": {},
   "outputs": [
    {
     "data": {
      "text/plain": [
       "torch.Size([53, 1])"
      ]
     },
     "execution_count": 51,
     "metadata": {},
     "output_type": "execute_result"
    }
   ],
   "source": [
    "dec(torch.randn(53, 100)).shape"
   ]
  },
  {
   "cell_type": "code",
   "execution_count": 55,
   "id": "reported-niagara",
   "metadata": {},
   "outputs": [],
   "source": [
    "class BlackWhiteNet(torch.nn.Module):\n",
    "    def __init__(self, white_input_dim, white_hid_dim, white_n_layers,  black_input_dim, black_hid_dim, black_n_layers, dec_hid_dim, dec_n_layers):\n",
    "        super(BlackWhiteNet, self).__init__()\n",
    "        \n",
    "        self.white_encoder = Encoder(\"white_encoder\", white_input_dim, white_hid_dim, white_n_layers)\n",
    "        self.black_encoder = Encoder(\"black_encoder\", black_input_dim, black_hid_dim, black_n_layers)\n",
    "        \n",
    "        self.decoder = Decoder(\"decoder\", white_hid_dim + black_hid_dim, dec_hid_dim, dec_n_layers)\n",
    "        \n",
    "    def forward(self, in_features):\n",
    "        white_features = in_features[:, :N_WHITE]\n",
    "        black_features = in_features[:, N_WHITE:]\n",
    "        \n",
    "        white_hid_state = self.white_encoder(white_features)\n",
    "        black_hid_state = self.black_encoder(black_features)\n",
    "        \n",
    "        hid_state = torch.cat((white_hid_state, black_hid_state), dim=1)\n",
    "        \n",
    "        return self.decoder(hid_state)"
   ]
  },
  {
   "cell_type": "code",
   "execution_count": 101,
   "id": "selective-november",
   "metadata": {},
   "outputs": [],
   "source": [
    "params = {\n",
    "    \"white_input_dim\": 100,\n",
    "    \"white_hid_dim\": 15,\n",
    "    \"white_n_layers\": 4,\n",
    "    \"black_input_dim\": 200,\n",
    "    \"black_hid_dim\": 20,\n",
    "    \"black_n_layers\": 2,\n",
    "    \"dec_hid_dim\": 25,\n",
    "    \"dec_n_layers\": 4\n",
    "}\n",
    "\n",
    "baseline = BlackWhiteNet(**params).to(device)\n",
    "optimizer = torch.optim.Adam(baseline.parameters(), lr=1e-4)"
   ]
  },
  {
   "cell_type": "code",
   "execution_count": 105,
   "id": "increasing-compound",
   "metadata": {},
   "outputs": [
    {
     "data": {
      "text/plain": [
       "15381"
      ]
     },
     "execution_count": 105,
     "metadata": {},
     "output_type": "execute_result"
    }
   ],
   "source": [
    "pytorch_total_params = sum(p.numel() for p in baseline.parameters() if p.requires_grad)\n",
    "pytorch_total_params"
   ]
  },
  {
   "cell_type": "code",
   "execution_count": 102,
   "id": "equivalent-flush",
   "metadata": {},
   "outputs": [
    {
     "name": "stdout",
     "output_type": "stream",
     "text": [
      "Epoch 26: train loss=0.00218\n",
      "Val acc = 0.963, Best = 0.965\n"
     ]
    },
    {
     "data": {
      "image/png": "[encoded data removed]",
      "text/plain": [
       "<Figure size 1440x720 with 2 Axes>"
      ]
     },
     "metadata": {
      "needs_background": "light"
     },
     "output_type": "display_data"
    },
    {
     "ename": "KeyboardInterrupt",
     "evalue": "",
     "output_type": "error",
     "traceback": [
      "\u001b[0;31m---------------------------------------------------------------------------\u001b[0m",
      "\u001b[0;31mKeyboardInterrupt\u001b[0m                         Traceback (most recent call last)",
      "\u001b[0;32m<ipython-input-102-c23c1e1dc033>\u001b[0m in \u001b[0;36m<module>\u001b[0;34m\u001b[0m\n\u001b[0;32m----> 1\u001b[0;31m train_model(baseline,\n\u001b[0m\u001b[1;32m      2\u001b[0m             \u001b[0mX_train\u001b[0m\u001b[0;34m,\u001b[0m \u001b[0mY_train\u001b[0m\u001b[0;34m,\u001b[0m\u001b[0;34m\u001b[0m\u001b[0;34m\u001b[0m\u001b[0m\n\u001b[1;32m      3\u001b[0m             \u001b[0mtorch\u001b[0m\u001b[0;34m.\u001b[0m\u001b[0mnn\u001b[0m\u001b[0;34m.\u001b[0m\u001b[0mBCEWithLogitsLoss\u001b[0m\u001b[0;34m(\u001b[0m\u001b[0;34m)\u001b[0m\u001b[0;34m,\u001b[0m \u001b[0moptimizer\u001b[0m\u001b[0;34m,\u001b[0m\u001b[0;34m\u001b[0m\u001b[0;34m\u001b[0m\u001b[0m\n\u001b[1;32m      4\u001b[0m             \u001b[0mn_epochs\u001b[0m\u001b[0;34m=\u001b[0m\u001b[0;36m100\u001b[0m\u001b[0;34m,\u001b[0m \u001b[0mbatch_size\u001b[0m\u001b[0;34m=\u001b[0m\u001b[0;36m16384\u001b[0m\u001b[0;34m,\u001b[0m \u001b[0mbatches_per_epoch\u001b[0m\u001b[0;34m=\u001b[0m\u001b[0;36m100\u001b[0m\u001b[0;34m,\u001b[0m\u001b[0;34m\u001b[0m\u001b[0;34m\u001b[0m\u001b[0m\n\u001b[1;32m      5\u001b[0m             \u001b[0mx_val\u001b[0m\u001b[0;34m=\u001b[0m\u001b[0mX_val\u001b[0m\u001b[0;34m,\u001b[0m \u001b[0my_val\u001b[0m\u001b[0;34m=\u001b[0m\u001b[0mY_val\u001b[0m\u001b[0;34m,\u001b[0m\u001b[0;34m\u001b[0m\u001b[0;34m\u001b[0m\u001b[0m\n",
      "\u001b[0;32m<ipython-input-69-7c166ffe3c98>\u001b[0m in \u001b[0;36mtrain_model\u001b[0;34m(model, x_train, y_train, criterion, optimizer, n_epochs, batch_size, batches_per_epoch, x_val, y_val, threshold, log_best, name)\u001b[0m\n\u001b[1;32m     49\u001b[0m \u001b[0;34m\u001b[0m\u001b[0m\n\u001b[1;32m     50\u001b[0m     \u001b[0;32mfor\u001b[0m \u001b[0mepoch\u001b[0m \u001b[0;32min\u001b[0m \u001b[0mrange\u001b[0m\u001b[0;34m(\u001b[0m\u001b[0mn_epochs\u001b[0m\u001b[0;34m)\u001b[0m\u001b[0;34m:\u001b[0m\u001b[0;34m\u001b[0m\u001b[0;34m\u001b[0m\u001b[0m\n\u001b[0;32m---> 51\u001b[0;31m         \u001b[0mloss\u001b[0m \u001b[0;34m=\u001b[0m \u001b[0mtrain_epoch\u001b[0m\u001b[0;34m(\u001b[0m\u001b[0mmodel\u001b[0m\u001b[0;34m,\u001b[0m \u001b[0mx_train\u001b[0m\u001b[0;34m,\u001b[0m \u001b[0my_train\u001b[0m\u001b[0;34m,\u001b[0m \u001b[0mcriterion\u001b[0m\u001b[0;34m,\u001b[0m \u001b[0moptimizer\u001b[0m\u001b[0;34m,\u001b[0m \u001b[0mbatch_size\u001b[0m\u001b[0;34m=\u001b[0m\u001b[0mbatch_size\u001b[0m\u001b[0;34m,\u001b[0m \u001b[0mbatches_per_epoch\u001b[0m\u001b[0;34m=\u001b[0m\u001b[0mbatches_per_epoch\u001b[0m\u001b[0;34m)\u001b[0m\u001b[0;34m\u001b[0m\u001b[0;34m\u001b[0m\u001b[0m\n\u001b[0m\u001b[1;32m     52\u001b[0m         \u001b[0mtrain_loss_history\u001b[0m\u001b[0;34m.\u001b[0m\u001b[0mextend\u001b[0m\u001b[0;34m(\u001b[0m\u001b[0mloss\u001b[0m\u001b[0;34m)\u001b[0m\u001b[0;34m\u001b[0m\u001b[0;34m\u001b[0m\u001b[0m\n\u001b[1;32m     53\u001b[0m \u001b[0;34m\u001b[0m\u001b[0m\n",
      "\u001b[0;32m<ipython-input-69-7c166ffe3c98>\u001b[0m in \u001b[0;36mtrain_epoch\u001b[0;34m(model, x_train, y_train, criterion, optimizer, batch_size, batches_per_epoch)\u001b[0m\n\u001b[1;32m     22\u001b[0m         \u001b[0moptimizer\u001b[0m\u001b[0;34m.\u001b[0m\u001b[0mstep\u001b[0m\u001b[0;34m(\u001b[0m\u001b[0;34m)\u001b[0m\u001b[0;34m\u001b[0m\u001b[0;34m\u001b[0m\u001b[0m\n\u001b[1;32m     23\u001b[0m \u001b[0;34m\u001b[0m\u001b[0m\n\u001b[0;32m---> 24\u001b[0;31m         \u001b[0mloss_history\u001b[0m\u001b[0;34m.\u001b[0m\u001b[0mappend\u001b[0m\u001b[0;34m(\u001b[0m\u001b[0mloss\u001b[0m\u001b[0;34m.\u001b[0m\u001b[0mdata\u001b[0m\u001b[0;34m.\u001b[0m\u001b[0mcpu\u001b[0m\u001b[0;34m(\u001b[0m\u001b[0;34m)\u001b[0m\u001b[0;34m.\u001b[0m\u001b[0mnumpy\u001b[0m\u001b[0;34m(\u001b[0m\u001b[0;34m)\u001b[0m\u001b[0;34m)\u001b[0m\u001b[0;34m\u001b[0m\u001b[0;34m\u001b[0m\u001b[0m\n\u001b[0m\u001b[1;32m     25\u001b[0m \u001b[0;34m\u001b[0m\u001b[0m\n\u001b[1;32m     26\u001b[0m     \u001b[0;32mreturn\u001b[0m \u001b[0mloss_history\u001b[0m\u001b[0;34m\u001b[0m\u001b[0;34m\u001b[0m\u001b[0m\n",
      "\u001b[0;31mKeyboardInterrupt\u001b[0m: "
     ]
    }
   ],
   "source": [
    "train_model(baseline,\n",
    "            X_train, Y_train,\n",
    "            torch.nn.BCEWithLogitsLoss(), optimizer,\n",
    "            n_epochs=100, batch_size=16384, batches_per_epoch=100,\n",
    "            x_val=X_val, y_val=Y_val, \n",
    "            log_best=True, name=\"baseline\")"
   ]
  },
  {
   "cell_type": "code",
   "execution_count": 70,
   "id": "introductory-bracelet",
   "metadata": {},
   "outputs": [],
   "source": [
    "torch.save(baseline.state_dict(), \"models/baseline_100.pth\")"
   ]
  },
  {
   "cell_type": "markdown",
   "id": "suburban-bulgarian",
   "metadata": {},
   "source": [
    "## 2.3 Generate first submission"
   ]
  },
  {
   "cell_type": "code",
   "execution_count": 95,
   "id": "sonic-hearts",
   "metadata": {},
   "outputs": [],
   "source": [
    "baseline.load_state_dict(torch.load(\"models/baseline_best_val\"))\n",
    "\n",
    "def predict(model, x_test, batch_size=64, threshold=0.5):\n",
    "    probas = predict_proba(model, x_test, batch_size=batch_size)\n",
    "    return np.where(probas >= threshold, np.array(1), np.array(-1))\n",
    "\n",
    "def generate_submission(model, threshold=0.5):\n",
    "    X_test = torch.Tensor(x_test)\n",
    "    labels = predict(model, X_test)\n",
    "    \n",
    "    table = pd.DataFrame(index=testdata.index)\n",
    "    table['Category'] = labels\n",
    "    submission_name = time.strftime(\"%a_%d_%H_%M\",time.localtime()) + \".csv\"\n",
    "    \n",
    "    table.to_csv(\"submissions/\" + submission_name)"
   ]
  },
  {
   "cell_type": "code",
   "execution_count": 96,
   "id": "ordinary-battle",
   "metadata": {},
   "outputs": [],
   "source": [
    "# generate_submission(baseline)"
   ]
  },
  {
   "cell_type": "code",
   "execution_count": null,
   "id": "optional-weather",
   "metadata": {},
   "outputs": [],
   "source": []
  }
 ],
 "metadata": {
  "kernelspec": {
   "display_name": "Python 3",
   "language": "python",
   "name": "python3"
  },
  "language_info": {
   "codemirror_mode": {
    "name": "ipython",
    "version": 3
   },
   "file_extension": ".py",
   "mimetype": "text/x-python",
   "name": "python",
   "nbconvert_exporter": "python",
   "pygments_lexer": "ipython3",
   "version": "3.8.5"
  }
 },
 "nbformat": 4,
 "nbformat_minor": 5
}
